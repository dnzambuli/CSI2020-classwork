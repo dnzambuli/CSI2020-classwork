{
 "cells": [
  {
   "cell_type": "code",
   "execution_count": 1,
   "id": "f937e2ea",
   "metadata": {},
   "outputs": [],
   "source": [
    "import matplotlib.pyplot as plt"
   ]
  },
  {
   "cell_type": "code",
   "execution_count": 2,
   "id": "ae2ed498",
   "metadata": {},
   "outputs": [],
   "source": [
    "import matplotlib.image as mpimg"
   ]
  },
  {
   "cell_type": "code",
   "execution_count": 3,
   "id": "3a266c33",
   "metadata": {},
   "outputs": [],
   "source": [
    "import numpy as np"
   ]
  },
  {
   "cell_type": "code",
   "execution_count": null,
   "id": "1e688a8b",
   "metadata": {},
   "outputs": [],
   "source": [
    "numImages = 16\n",
    "fig = plt.figure(figsize = (7, 7))\n",
    "imgData = np.zeros(shape = (numImages, 36963))\n",
    "\n",
    "for i in range(numImages-1):\n",
    "    filename = \"../pics/Picture\"+str(i)+'.jpg'\n",
    "    img = mpimg.imread(filename)\n",
    "    ax = fig.add_subplot(4,4, i)\n",
    "    plt.imshow(img)\n",
    "    plt.axis('off')\n",
    "    imgData[i-1].np.array(img.flatten()"
   ]
  }
 ],
 "metadata": {
  "kernelspec": {
   "display_name": "Python 3 (ipykernel)",
   "language": "python",
   "name": "python3"
  },
  "language_info": {
   "codemirror_mode": {
    "name": "ipython",
    "version": 3
   },
   "file_extension": ".py",
   "mimetype": "text/x-python",
   "name": "python",
   "nbconvert_exporter": "python",
   "pygments_lexer": "ipython3",
   "version": "3.10.9"
  }
 },
 "nbformat": 4,
 "nbformat_minor": 5
}
