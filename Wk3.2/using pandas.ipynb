{
 "cells": [
  {
   "cell_type": "markdown",
   "id": "aa9ba1c3",
   "metadata": {},
   "source": [
    "# Pandas\n",
    "deals with  two data types\n",
    "- series\n",
    "- dataframes\n",
    "\n",
    "### series\n",
    "is a one dimensional dataframe ```tabular representation```\n",
    "\n",
    "### dataframe \n",
    "multidimensional data "
   ]
  },
  {
   "cell_type": "code",
   "execution_count": 1,
   "id": "340217a8",
   "metadata": {},
   "outputs": [],
   "source": [
    "# creating a series\n",
    "import pandas as pd"
   ]
  },
  {
   "cell_type": "markdown",
   "id": "0da1a2cf",
   "metadata": {},
   "source": [
    "### import individual element\n",
    "to imprort just the series function from pandas type\n",
    "```python\n",
    "from pandas import Series\n",
    "```\n",
    "makes it so that instead of running \n",
    "```python\n",
    "s = pd.Series('list datatype')\n",
    "```\n",
    "we instead write \n",
    "```python\n",
    "s = Series('list datatype')\n",
    "```"
   ]
  },
  {
   "cell_type": "code",
   "execution_count": 3,
   "id": "5d8f4091",
   "metadata": {},
   "outputs": [
    {
     "data": {
      "text/plain": [
       "(1.0, 3.2, 4.5, 6.7, 8.96, 10.99)"
      ]
     },
     "execution_count": 3,
     "metadata": {},
     "output_type": "execute_result"
    }
   ],
   "source": [
    "l = (1.0, 3.2, 4.5, 6.7, 8.96, 10.99)\n",
    "l"
   ]
  },
  {
   "cell_type": "code",
   "execution_count": 4,
   "id": "d6eae2d9",
   "metadata": {},
   "outputs": [
    {
     "data": {
      "text/plain": [
       "0     1.00\n",
       "1     3.20\n",
       "2     4.50\n",
       "3     6.70\n",
       "4     8.96\n",
       "5    10.99\n",
       "dtype: float64"
      ]
     },
     "execution_count": 4,
     "metadata": {},
     "output_type": "execute_result"
    }
   ],
   "source": [
    "# convert list to series\n",
    "s = pd.Series(l)\n",
    "s"
   ]
  },
  {
   "cell_type": "code",
   "execution_count": 5,
   "id": "fb7cf8fe",
   "metadata": {},
   "outputs": [
    {
     "data": {
      "text/plain": [
       "RangeIndex(start=0, stop=6, step=1)"
      ]
     },
     "execution_count": 5,
     "metadata": {},
     "output_type": "execute_result"
    }
   ],
   "source": [
    "# number of indexes available\n",
    "s.index"
   ]
  },
  {
   "cell_type": "code",
   "execution_count": 6,
   "id": "7d8fa67d",
   "metadata": {},
   "outputs": [
    {
     "data": {
      "text/plain": [
       "dtype('float64')"
      ]
     },
     "execution_count": 6,
     "metadata": {},
     "output_type": "execute_result"
    }
   ],
   "source": [
    "# type of data in series\n",
    "s.dtype"
   ]
  },
  {
   "cell_type": "code",
   "execution_count": 7,
   "id": "fd443d14",
   "metadata": {},
   "outputs": [
    {
     "data": {
      "text/plain": [
       "array([ 1.  ,  3.2 ,  4.5 ,  6.7 ,  8.96, 10.99])"
      ]
     },
     "execution_count": 7,
     "metadata": {},
     "output_type": "execute_result"
    }
   ],
   "source": [
    "# the values in a series\n",
    "s.values"
   ]
  },
  {
   "cell_type": "markdown",
   "id": "398deb71",
   "metadata": {},
   "source": [
    "### generating a series from a random numpy array\n"
   ]
  },
  {
   "cell_type": "code",
   "execution_count": 10,
   "id": "88d41303",
   "metadata": {},
   "outputs": [
    {
     "data": {
      "text/plain": [
       "array([-1.13310335, -1.58695934, -0.56351393,  0.26803991,  0.29618169,\n",
       "       -0.77520109,  0.50460964,  0.10068199, -0.43815469,  1.57015458])"
      ]
     },
     "execution_count": 10,
     "metadata": {},
     "output_type": "execute_result"
    }
   ],
   "source": [
    "import numpy as np\n",
    "np_list = np.random.normal(size = 10)\n",
    "np_list"
   ]
  },
  {
   "cell_type": "code",
   "execution_count": 11,
   "id": "dc39e9f9",
   "metadata": {},
   "outputs": [
    {
     "data": {
      "text/plain": [
       "0   -1.133103\n",
       "1   -1.586959\n",
       "2   -0.563514\n",
       "3    0.268040\n",
       "4    0.296182\n",
       "5   -0.775201\n",
       "6    0.504610\n",
       "7    0.100682\n",
       "8   -0.438155\n",
       "9    1.570155\n",
       "dtype: float64"
      ]
     },
     "execution_count": 11,
     "metadata": {},
     "output_type": "execute_result"
    }
   ],
   "source": [
    "# series from numpy list\n",
    "s_np = pd.Series(np_list)\n",
    "s_np"
   ]
  },
  {
   "cell_type": "code",
   "execution_count": 12,
   "id": "08f0ad67",
   "metadata": {},
   "outputs": [
    {
     "data": {
      "text/plain": [
       "RangeIndex(start=0, stop=10, step=1)"
      ]
     },
     "execution_count": 12,
     "metadata": {},
     "output_type": "execute_result"
    }
   ],
   "source": [
    "# check indexes \n",
    "s_np.index"
   ]
  },
  {
   "cell_type": "code",
   "execution_count": 13,
   "id": "b0bf8347",
   "metadata": {},
   "outputs": [
    {
     "data": {
      "text/plain": [
       "array([-1.13310335, -1.58695934, -0.56351393,  0.26803991,  0.29618169,\n",
       "       -0.77520109,  0.50460964,  0.10068199, -0.43815469,  1.57015458])"
      ]
     },
     "execution_count": 13,
     "metadata": {},
     "output_type": "execute_result"
    }
   ],
   "source": [
    "# check values \n",
    "s_np.values"
   ]
  },
  {
   "cell_type": "code",
   "execution_count": 15,
   "id": "3f0f33f8",
   "metadata": {},
   "outputs": [
    {
     "data": {
      "text/plain": [
       "dtype('float64')"
      ]
     },
     "execution_count": 15,
     "metadata": {},
     "output_type": "execute_result"
    }
   ],
   "source": [
    "# check data type\n",
    "s_np.dtype"
   ]
  },
  {
   "cell_type": "markdown",
   "id": "ee9e7ade",
   "metadata": {},
   "source": [
    "### changing the index of the series to a custom name"
   ]
  },
  {
   "cell_type": "code",
   "execution_count": 19,
   "id": "36908307",
   "metadata": {},
   "outputs": [
    {
     "data": {
      "text/plain": [
       "Jan     1.00\n",
       "Feb     3.20\n",
       "Mar     4.50\n",
       "May     6.70\n",
       "Jun     8.96\n",
       "Jul    10.99\n",
       "dtype: float64"
      ]
     },
     "execution_count": 19,
     "metadata": {},
     "output_type": "execute_result"
    }
   ],
   "source": [
    "s3 = pd.Series(list(l), index = ['Jan', 'Feb', 'Mar', 'May', 'Jun', 'Jul'])\n",
    "s3"
   ]
  },
  {
   "cell_type": "code",
   "execution_count": 20,
   "id": "4973eccd",
   "metadata": {},
   "outputs": [
    {
     "data": {
      "text/plain": [
       "Index(['Jan', 'Feb', 'Mar', 'May', 'Jun', 'Jul'], dtype='object')"
      ]
     },
     "execution_count": 20,
     "metadata": {},
     "output_type": "execute_result"
    }
   ],
   "source": [
    "# index names\n",
    "s3.index"
   ]
  },
  {
   "cell_type": "markdown",
   "id": "ac88f55b",
   "metadata": {},
   "source": [
    "### creating series from dictionary"
   ]
  },
  {
   "cell_type": "code",
   "execution_count": 21,
   "id": "f3d09256",
   "metadata": {},
   "outputs": [
    {
     "data": {
      "text/plain": [
       "{'Nairobi': 'Kenya',\n",
       " 'Accra': 'Ghana',\n",
       " 'Khartoum': 'Sudan',\n",
       " 'Addis Ababa': 'Ethiopia',\n",
       " 'Dodoma': 'Tanzania',\n",
       " 'Kigali': 'Rwanda',\n",
       " 'Kampala': 'Uganda'}"
      ]
     },
     "execution_count": 21,
     "metadata": {},
     "output_type": "execute_result"
    }
   ],
   "source": [
    "capitals = {'Nairobi': 'Kenya', \n",
    "           'Accra': 'Ghana',\n",
    "           'Khartoum': 'Sudan',\n",
    "           'Addis Ababa': 'Ethiopia',\n",
    "           'Dodoma': 'Tanzania',\n",
    "           'Kigali': 'Rwanda',\n",
    "           'Kampala': 'Uganda'}\n",
    "capitals"
   ]
  },
  {
   "cell_type": "code",
   "execution_count": 22,
   "id": "5d8d06d8",
   "metadata": {},
   "outputs": [
    {
     "data": {
      "text/plain": [
       "Nairobi           Kenya\n",
       "Accra             Ghana\n",
       "Khartoum          Sudan\n",
       "Addis Ababa    Ethiopia\n",
       "Dodoma         Tanzania\n",
       "Kigali           Rwanda\n",
       "Kampala          Uganda\n",
       "dtype: object"
      ]
     },
     "execution_count": 22,
     "metadata": {},
     "output_type": "execute_result"
    }
   ],
   "source": [
    "# creating series\n",
    "cap_series = pd.Series(capitals)\n",
    "cap_series"
   ]
  },
  {
   "cell_type": "markdown",
   "id": "f6aa3326",
   "metadata": {},
   "source": [
    "### idexing and slicing"
   ]
  },
  {
   "cell_type": "code",
   "execution_count": 23,
   "id": "eef0cf60",
   "metadata": {},
   "outputs": [
    {
     "data": {
      "text/plain": [
       "'Sudan'"
      ]
     },
     "execution_count": 23,
     "metadata": {},
     "output_type": "execute_result"
    }
   ],
   "source": [
    "# third series \n",
    "cap_series[2]"
   ]
  },
  {
   "cell_type": "code",
   "execution_count": 24,
   "id": "8a84f699",
   "metadata": {},
   "outputs": [
    {
     "data": {
      "text/plain": [
       "Nairobi     Kenya\n",
       "Accra       Ghana\n",
       "Khartoum    Sudan\n",
       "dtype: object"
      ]
     },
     "execution_count": 24,
     "metadata": {},
     "output_type": "execute_result"
    }
   ],
   "source": [
    "# return the first three rows\n",
    "cap_series[0:3]"
   ]
  },
  {
   "cell_type": "code",
   "execution_count": 25,
   "id": "8692ea20",
   "metadata": {},
   "outputs": [
    {
     "data": {
      "text/plain": [
       "Khartoum          Sudan\n",
       "Addis Ababa    Ethiopia\n",
       "Dodoma         Tanzania\n",
       "Kigali           Rwanda\n",
       "dtype: object"
      ]
     },
     "execution_count": 25,
     "metadata": {},
     "output_type": "execute_result"
    }
   ],
   "source": [
    "# using iloc to retrieve specific rows\n",
    "# locate third to fifth row\n",
    "cap_series.iloc[2:6]"
   ]
  },
  {
   "cell_type": "markdown",
   "id": "081dd602",
   "metadata": {},
   "source": [
    "**notice** use of ```[]``` in using iloc"
   ]
  },
  {
   "cell_type": "markdown",
   "id": "e88e65bc",
   "metadata": {},
   "source": [
    "### counting and selecting"
   ]
  },
  {
   "cell_type": "code",
   "execution_count": 27,
   "id": "dd851bb7",
   "metadata": {},
   "outputs": [
    {
     "data": {
      "text/plain": [
       "7"
      ]
     },
     "execution_count": 27,
     "metadata": {},
     "output_type": "execute_result"
    }
   ],
   "source": [
    "# counting\n",
    "cap_series.count()"
   ]
  },
  {
   "cell_type": "code",
   "execution_count": 28,
   "id": "12cedff1",
   "metadata": {},
   "outputs": [
    {
     "data": {
      "text/plain": [
       "7"
      ]
     },
     "execution_count": 28,
     "metadata": {},
     "output_type": "execute_result"
    }
   ],
   "source": [
    "# counting indexes\n",
    "cap_series.size"
   ]
  },
  {
   "cell_type": "markdown",
   "id": "84fc4147",
   "metadata": {},
   "source": [
    "**notice** if a value is replaced by NaN it stops being a value in a series"
   ]
  },
  {
   "cell_type": "code",
   "execution_count": 30,
   "id": "a127e28d",
   "metadata": {},
   "outputs": [],
   "source": [
    "# selecting\n",
    "cap_series['Nairobi'] = 'NaN'"
   ]
  },
  {
   "cell_type": "code",
   "execution_count": 31,
   "id": "0346677a",
   "metadata": {},
   "outputs": [
    {
     "data": {
      "text/plain": [
       "Nairobi             NaN\n",
       "Accra             Ghana\n",
       "Khartoum          Sudan\n",
       "Addis Ababa    Ethiopia\n",
       "Dodoma         Tanzania\n",
       "Kigali           Rwanda\n",
       "Kampala          Uganda\n",
       "dtype: object"
      ]
     },
     "execution_count": 31,
     "metadata": {},
     "output_type": "execute_result"
    }
   ],
   "source": [
    "cap_series"
   ]
  },
  {
   "cell_type": "markdown",
   "id": "cfd28973",
   "metadata": {},
   "source": [
    "**Notice** \n",
    "\n",
    "count-- number of positions \n",
    "\n",
    "size -- number of elements"
   ]
  },
  {
   "cell_type": "code",
   "execution_count": 32,
   "id": "1bc8cdd0",
   "metadata": {},
   "outputs": [
    {
     "data": {
      "text/plain": [
       "7"
      ]
     },
     "execution_count": 32,
     "metadata": {},
     "output_type": "execute_result"
    }
   ],
   "source": [
    "cap_series.count()"
   ]
  },
  {
   "cell_type": "code",
   "execution_count": 33,
   "id": "3650dcdc",
   "metadata": {},
   "outputs": [
    {
     "data": {
      "text/plain": [
       "7"
      ]
     },
     "execution_count": 33,
     "metadata": {},
     "output_type": "execute_result"
    }
   ],
   "source": [
    "cap_series.size"
   ]
  },
  {
   "cell_type": "code",
   "execution_count": null,
   "id": "23752323",
   "metadata": {},
   "outputs": [],
   "source": []
  }
 ],
 "metadata": {
  "kernelspec": {
   "display_name": "Python 3 (ipykernel)",
   "language": "python",
   "name": "python3"
  },
  "language_info": {
   "codemirror_mode": {
    "name": "ipython",
    "version": 3
   },
   "file_extension": ".py",
   "mimetype": "text/x-python",
   "name": "python",
   "nbconvert_exporter": "python",
   "pygments_lexer": "ipython3",
   "version": "3.10.9"
  }
 },
 "nbformat": 4,
 "nbformat_minor": 5
}
