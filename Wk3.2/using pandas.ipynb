{
 "cells": [
  {
   "cell_type": "markdown",
   "id": "c1be0d60",
   "metadata": {},
   "source": [
    "# Pandas\n",
    "deals with  two data types\n",
    "- series\n",
    "- dataframes\n",
    "\n",
    "### series\n",
    "is a one dimensional dataframe ```tabular representation```\n",
    "\n",
    "### dataframe \n",
    "multidimensional data "
   ]
  },
  {
   "cell_type": "code",
   "execution_count": 1,
   "id": "cab05c8b",
   "metadata": {},
   "outputs": [],
   "source": [
    "# creating a series\n",
    "import pandas as pd"
   ]
  },
  {
   "cell_type": "markdown",
   "id": "603bc32e",
   "metadata": {},
   "source": [
    "#### import individual element\n",
    "to imprort just the series function from pandas type\n",
    "```python\n",
    "from pandas import Series\n",
    "```\n",
    "makes it so that instead of running \n",
    "```python\n",
    "s = pd.Series('list datatype')\n",
    "```\n",
    "we instead write \n",
    "```python\n",
    "s = Series('list datatype')\n",
    "```"
   ]
  },
  {
   "cell_type": "code",
   "execution_count": 3,
   "id": "81f2a022",
   "metadata": {},
   "outputs": [
    {
     "data": {
      "text/plain": [
       "(1.0, 3.2, 4.5, 6.7, 8.96, 10.99)"
      ]
     },
     "execution_count": 3,
     "metadata": {},
     "output_type": "execute_result"
    }
   ],
   "source": [
    "l = (1.0, 3.2, 4.5, 6.7, 8.96, 10.99)\n",
    "l"
   ]
  },
  {
   "cell_type": "code",
   "execution_count": 4,
   "id": "036c8bf9",
   "metadata": {},
   "outputs": [
    {
     "data": {
      "text/plain": [
       "0     1.00\n",
       "1     3.20\n",
       "2     4.50\n",
       "3     6.70\n",
       "4     8.96\n",
       "5    10.99\n",
       "dtype: float64"
      ]
     },
     "execution_count": 4,
     "metadata": {},
     "output_type": "execute_result"
    }
   ],
   "source": [
    "# convert list to series\n",
    "s = pd.Series(l)\n",
    "s"
   ]
  },
  {
   "cell_type": "code",
   "execution_count": 5,
   "id": "14ef6859",
   "metadata": {},
   "outputs": [
    {
     "data": {
      "text/plain": [
       "RangeIndex(start=0, stop=6, step=1)"
      ]
     },
     "execution_count": 5,
     "metadata": {},
     "output_type": "execute_result"
    }
   ],
   "source": [
    "# number of indexes available\n",
    "s.index"
   ]
  },
  {
   "cell_type": "code",
   "execution_count": 6,
   "id": "8d14650b",
   "metadata": {},
   "outputs": [
    {
     "data": {
      "text/plain": [
       "dtype('float64')"
      ]
     },
     "execution_count": 6,
     "metadata": {},
     "output_type": "execute_result"
    }
   ],
   "source": [
    "# type of data in series\n",
    "s.dtype"
   ]
  },
  {
   "cell_type": "code",
   "execution_count": 7,
   "id": "8e2b0688",
   "metadata": {},
   "outputs": [
    {
     "data": {
      "text/plain": [
       "array([ 1.  ,  3.2 ,  4.5 ,  6.7 ,  8.96, 10.99])"
      ]
     },
     "execution_count": 7,
     "metadata": {},
     "output_type": "execute_result"
    }
   ],
   "source": [
    "# the values in a series\n",
    "s.values"
   ]
  },
  {
   "cell_type": "markdown",
   "id": "700032a0",
   "metadata": {},
   "source": [
    "#### generating a series from a random numpy array\n"
   ]
  },
  {
   "cell_type": "code",
   "execution_count": 10,
   "id": "192077fb",
   "metadata": {},
   "outputs": [
    {
     "data": {
      "text/plain": [
       "array([-1.13310335, -1.58695934, -0.56351393,  0.26803991,  0.29618169,\n",
       "       -0.77520109,  0.50460964,  0.10068199, -0.43815469,  1.57015458])"
      ]
     },
     "execution_count": 10,
     "metadata": {},
     "output_type": "execute_result"
    }
   ],
   "source": [
    "import numpy as np\n",
    "np_list = np.random.normal(size = 10)\n",
    "np_list"
   ]
  },
  {
   "cell_type": "code",
   "execution_count": 11,
   "id": "1ed432c5",
   "metadata": {},
   "outputs": [
    {
     "data": {
      "text/plain": [
       "0   -1.133103\n",
       "1   -1.586959\n",
       "2   -0.563514\n",
       "3    0.268040\n",
       "4    0.296182\n",
       "5   -0.775201\n",
       "6    0.504610\n",
       "7    0.100682\n",
       "8   -0.438155\n",
       "9    1.570155\n",
       "dtype: float64"
      ]
     },
     "execution_count": 11,
     "metadata": {},
     "output_type": "execute_result"
    }
   ],
   "source": [
    "# series from numpy list\n",
    "s_np = pd.Series(np_list)\n",
    "s_np"
   ]
  },
  {
   "cell_type": "code",
   "execution_count": 12,
   "id": "ca4816c4",
   "metadata": {},
   "outputs": [
    {
     "data": {
      "text/plain": [
       "RangeIndex(start=0, stop=10, step=1)"
      ]
     },
     "execution_count": 12,
     "metadata": {},
     "output_type": "execute_result"
    }
   ],
   "source": [
    "# check indexes \n",
    "s_np.index"
   ]
  },
  {
   "cell_type": "code",
   "execution_count": 13,
   "id": "48969ba4",
   "metadata": {},
   "outputs": [
    {
     "data": {
      "text/plain": [
       "array([-1.13310335, -1.58695934, -0.56351393,  0.26803991,  0.29618169,\n",
       "       -0.77520109,  0.50460964,  0.10068199, -0.43815469,  1.57015458])"
      ]
     },
     "execution_count": 13,
     "metadata": {},
     "output_type": "execute_result"
    }
   ],
   "source": [
    "# check values \n",
    "s_np.values"
   ]
  },
  {
   "cell_type": "code",
   "execution_count": 15,
   "id": "d649fd4f",
   "metadata": {},
   "outputs": [
    {
     "data": {
      "text/plain": [
       "dtype('float64')"
      ]
     },
     "execution_count": 15,
     "metadata": {},
     "output_type": "execute_result"
    }
   ],
   "source": [
    "# check data type\n",
    "s_np.dtype"
   ]
  },
  {
   "cell_type": "markdown",
   "id": "be435eaa",
   "metadata": {},
   "source": [
    "#### changing the index of the series to a custom name"
   ]
  },
  {
   "cell_type": "code",
   "execution_count": 19,
   "id": "87164fad",
   "metadata": {},
   "outputs": [
    {
     "data": {
      "text/plain": [
       "Jan     1.00\n",
       "Feb     3.20\n",
       "Mar     4.50\n",
       "May     6.70\n",
       "Jun     8.96\n",
       "Jul    10.99\n",
       "dtype: float64"
      ]
     },
     "execution_count": 19,
     "metadata": {},
     "output_type": "execute_result"
    }
   ],
   "source": [
    "s3 = pd.Series(list(l), index = ['Jan', 'Feb', 'Mar', 'May', 'Jun', 'Jul'])\n",
    "s3"
   ]
  },
  {
   "cell_type": "code",
   "execution_count": 20,
   "id": "6f0bf1d7",
   "metadata": {},
   "outputs": [
    {
     "data": {
      "text/plain": [
       "Index(['Jan', 'Feb', 'Mar', 'May', 'Jun', 'Jul'], dtype='object')"
      ]
     },
     "execution_count": 20,
     "metadata": {},
     "output_type": "execute_result"
    }
   ],
   "source": [
    "# index names\n",
    "s3.index"
   ]
  },
  {
   "cell_type": "markdown",
   "id": "597c4d52",
   "metadata": {},
   "source": [
    "#### creating series from dictionary"
   ]
  },
  {
   "cell_type": "code",
   "execution_count": 21,
   "id": "34c0dcc6",
   "metadata": {},
   "outputs": [
    {
     "data": {
      "text/plain": [
       "{'Nairobi': 'Kenya',\n",
       " 'Accra': 'Ghana',\n",
       " 'Khartoum': 'Sudan',\n",
       " 'Addis Ababa': 'Ethiopia',\n",
       " 'Dodoma': 'Tanzania',\n",
       " 'Kigali': 'Rwanda',\n",
       " 'Kampala': 'Uganda'}"
      ]
     },
     "execution_count": 21,
     "metadata": {},
     "output_type": "execute_result"
    }
   ],
   "source": [
    "capitals = {'Nairobi': 'Kenya', \n",
    "           'Accra': 'Ghana',\n",
    "           'Khartoum': 'Sudan',\n",
    "           'Addis Ababa': 'Ethiopia',\n",
    "           'Dodoma': 'Tanzania',\n",
    "           'Kigali': 'Rwanda',\n",
    "           'Kampala': 'Uganda'}\n",
    "capitals"
   ]
  },
  {
   "cell_type": "code",
   "execution_count": 22,
   "id": "90e81b4a",
   "metadata": {},
   "outputs": [
    {
     "data": {
      "text/plain": [
       "Nairobi           Kenya\n",
       "Accra             Ghana\n",
       "Khartoum          Sudan\n",
       "Addis Ababa    Ethiopia\n",
       "Dodoma         Tanzania\n",
       "Kigali           Rwanda\n",
       "Kampala          Uganda\n",
       "dtype: object"
      ]
     },
     "execution_count": 22,
     "metadata": {},
     "output_type": "execute_result"
    }
   ],
   "source": [
    "# creating series\n",
    "cap_series = pd.Series(capitals)\n",
    "cap_series"
   ]
  },
  {
   "cell_type": "markdown",
   "id": "00f55de1",
   "metadata": {},
   "source": [
    "#### idexing and slicing"
   ]
  },
  {
   "cell_type": "code",
   "execution_count": 23,
   "id": "b990602f",
   "metadata": {},
   "outputs": [
    {
     "data": {
      "text/plain": [
       "'Sudan'"
      ]
     },
     "execution_count": 23,
     "metadata": {},
     "output_type": "execute_result"
    }
   ],
   "source": [
    "# third series \n",
    "cap_series[2]"
   ]
  },
  {
   "cell_type": "code",
   "execution_count": 24,
   "id": "07d1ce95",
   "metadata": {},
   "outputs": [
    {
     "data": {
      "text/plain": [
       "Nairobi     Kenya\n",
       "Accra       Ghana\n",
       "Khartoum    Sudan\n",
       "dtype: object"
      ]
     },
     "execution_count": 24,
     "metadata": {},
     "output_type": "execute_result"
    }
   ],
   "source": [
    "# return the first three rows\n",
    "cap_series[0:3]"
   ]
  },
  {
   "cell_type": "code",
   "execution_count": 25,
   "id": "7e52ff7a",
   "metadata": {},
   "outputs": [
    {
     "data": {
      "text/plain": [
       "Khartoum          Sudan\n",
       "Addis Ababa    Ethiopia\n",
       "Dodoma         Tanzania\n",
       "Kigali           Rwanda\n",
       "dtype: object"
      ]
     },
     "execution_count": 25,
     "metadata": {},
     "output_type": "execute_result"
    }
   ],
   "source": [
    "# using iloc to retrieve specific rows\n",
    "# locate third to fifth row\n",
    "cap_series.iloc[2:6]"
   ]
  },
  {
   "cell_type": "markdown",
   "id": "df533d01",
   "metadata": {},
   "source": [
    "**notice** use of ```[]``` in using iloc"
   ]
  },
  {
   "cell_type": "markdown",
   "id": "2a992a57",
   "metadata": {},
   "source": [
    "#### counting and selecting"
   ]
  },
  {
   "cell_type": "code",
   "execution_count": 27,
   "id": "7919522e",
   "metadata": {},
   "outputs": [
    {
     "data": {
      "text/plain": [
       "7"
      ]
     },
     "execution_count": 27,
     "metadata": {},
     "output_type": "execute_result"
    }
   ],
   "source": [
    "# counting\n",
    "cap_series.count()"
   ]
  },
  {
   "cell_type": "code",
   "execution_count": 28,
   "id": "6102144e",
   "metadata": {},
   "outputs": [
    {
     "data": {
      "text/plain": [
       "7"
      ]
     },
     "execution_count": 28,
     "metadata": {},
     "output_type": "execute_result"
    }
   ],
   "source": [
    "# counting indexes\n",
    "cap_series.size"
   ]
  },
  {
   "cell_type": "markdown",
   "id": "800d2eba",
   "metadata": {},
   "source": [
    "**notice** if a value is replaced by NaN it stops being a value in a series"
   ]
  },
  {
   "cell_type": "code",
   "execution_count": 35,
   "id": "0b78d60d",
   "metadata": {},
   "outputs": [],
   "source": [
    "# selecting\n",
    "cap_series['Nairobi'] = float('NaN')"
   ]
  },
  {
   "cell_type": "code",
   "execution_count": 36,
   "id": "3e89c7b3",
   "metadata": {},
   "outputs": [
    {
     "data": {
      "text/plain": [
       "Nairobi             NaN\n",
       "Accra             Ghana\n",
       "Khartoum          Sudan\n",
       "Addis Ababa    Ethiopia\n",
       "Dodoma         Tanzania\n",
       "Kigali           Rwanda\n",
       "Kampala          Uganda\n",
       "dtype: object"
      ]
     },
     "execution_count": 36,
     "metadata": {},
     "output_type": "execute_result"
    }
   ],
   "source": [
    "cap_series"
   ]
  },
  {
   "cell_type": "markdown",
   "id": "484d662d",
   "metadata": {},
   "source": [
    "**Notice** \n",
    "\n",
    "count-- number of elements \n",
    "\n",
    "size -- number of positions"
   ]
  },
  {
   "cell_type": "code",
   "execution_count": 37,
   "id": "f69b2417",
   "metadata": {},
   "outputs": [
    {
     "data": {
      "text/plain": [
       "6"
      ]
     },
     "execution_count": 37,
     "metadata": {},
     "output_type": "execute_result"
    }
   ],
   "source": [
    "cap_series.count()"
   ]
  },
  {
   "cell_type": "code",
   "execution_count": 39,
   "id": "bd1e901d",
   "metadata": {},
   "outputs": [
    {
     "data": {
      "text/plain": [
       "7"
      ]
     },
     "execution_count": 39,
     "metadata": {},
     "output_type": "execute_result"
    }
   ],
   "source": [
    "cap_series.size"
   ]
  },
  {
   "cell_type": "markdown",
   "id": "090108f7",
   "metadata": {},
   "source": [
    "### Dataframes"
   ]
  },
  {
   "cell_type": "code",
   "execution_count": 41,
   "id": "7e97112e",
   "metadata": {},
   "outputs": [
    {
     "data": {
      "text/plain": [
       "{'make': ['Toyota', 'Ford', 'Subaru', 'Nissan', 'BMW'],\n",
       " 'model': ['Corola', 'Focus', 'Forester', 'Note', '520i'],\n",
       " 'msrp': [2000000, 1876000, 3245678, 800000, 2250630]}"
      ]
     },
     "execution_count": 41,
     "metadata": {},
     "output_type": "execute_result"
    }
   ],
   "source": [
    "cars = {'make':['Toyota', 'Ford', 'Subaru', 'Nissan', 'BMW'],\n",
    "       'model':['Corola', 'Focus', 'Forester', 'Note', '520i'],\n",
    "       'msrp':[2_000_000, 1_876_000, 3_245_678, 800_000, 2_250_630]}\n",
    "cars"
   ]
  },
  {
   "cell_type": "code",
   "execution_count": 42,
   "id": "21fbaf04",
   "metadata": {},
   "outputs": [
    {
     "data": {
      "text/html": [
       "<div>\n",
       "<style scoped>\n",
       "    .dataframe tbody tr th:only-of-type {\n",
       "        vertical-align: middle;\n",
       "    }\n",
       "\n",
       "    .dataframe tbody tr th {\n",
       "        vertical-align: top;\n",
       "    }\n",
       "\n",
       "    .dataframe thead th {\n",
       "        text-align: right;\n",
       "    }\n",
       "</style>\n",
       "<table border=\"1\" class=\"dataframe\">\n",
       "  <thead>\n",
       "    <tr style=\"text-align: right;\">\n",
       "      <th></th>\n",
       "      <th>make</th>\n",
       "      <th>model</th>\n",
       "      <th>msrp</th>\n",
       "    </tr>\n",
       "  </thead>\n",
       "  <tbody>\n",
       "    <tr>\n",
       "      <th>0</th>\n",
       "      <td>Toyota</td>\n",
       "      <td>Corola</td>\n",
       "      <td>2000000</td>\n",
       "    </tr>\n",
       "    <tr>\n",
       "      <th>1</th>\n",
       "      <td>Ford</td>\n",
       "      <td>Focus</td>\n",
       "      <td>1876000</td>\n",
       "    </tr>\n",
       "    <tr>\n",
       "      <th>2</th>\n",
       "      <td>Subaru</td>\n",
       "      <td>Forester</td>\n",
       "      <td>3245678</td>\n",
       "    </tr>\n",
       "    <tr>\n",
       "      <th>3</th>\n",
       "      <td>Nissan</td>\n",
       "      <td>Note</td>\n",
       "      <td>800000</td>\n",
       "    </tr>\n",
       "    <tr>\n",
       "      <th>4</th>\n",
       "      <td>BMW</td>\n",
       "      <td>520i</td>\n",
       "      <td>2250630</td>\n",
       "    </tr>\n",
       "  </tbody>\n",
       "</table>\n",
       "</div>"
      ],
      "text/plain": [
       "     make     model     msrp\n",
       "0  Toyota    Corola  2000000\n",
       "1    Ford     Focus  1876000\n",
       "2  Subaru  Forester  3245678\n",
       "3  Nissan      Note   800000\n",
       "4     BMW      520i  2250630"
      ]
     },
     "execution_count": 42,
     "metadata": {},
     "output_type": "execute_result"
    }
   ],
   "source": [
    "carData = pd.DataFrame(cars)\n",
    "carData"
   ]
  },
  {
   "cell_type": "code",
   "execution_count": 44,
   "id": "1e84cc17",
   "metadata": {},
   "outputs": [
    {
     "data": {
      "text/plain": [
       "make     object\n",
       "model    object\n",
       "msrp      int64\n",
       "dtype: object"
      ]
     },
     "execution_count": 44,
     "metadata": {},
     "output_type": "execute_result"
    }
   ],
   "source": [
    "# column data types\n",
    "carData.dtypes"
   ]
  },
  {
   "cell_type": "code",
   "execution_count": 46,
   "id": "01fc8b3c",
   "metadata": {},
   "outputs": [
    {
     "data": {
      "text/plain": [
       "Index(['make', 'model', 'msrp'], dtype='object')"
      ]
     },
     "execution_count": 46,
     "metadata": {},
     "output_type": "execute_result"
    }
   ],
   "source": [
    "# column titles\n",
    "carData.columns"
   ]
  },
  {
   "cell_type": "code",
   "execution_count": 48,
   "id": "baa8785e",
   "metadata": {},
   "outputs": [
    {
     "data": {
      "text/plain": [
       "15"
      ]
     },
     "execution_count": 48,
     "metadata": {},
     "output_type": "execute_result"
    }
   ],
   "source": [
    "# number of elements\n",
    "carData.size"
   ]
  },
  {
   "cell_type": "code",
   "execution_count": 50,
   "id": "ee98a55d",
   "metadata": {},
   "outputs": [
    {
     "data": {
      "text/plain": [
       "0    Toyota\n",
       "1      Ford\n",
       "2    Subaru\n",
       "3    Nissan\n",
       "4       BMW\n",
       "Name: make, dtype: object"
      ]
     },
     "execution_count": 50,
     "metadata": {},
     "output_type": "execute_result"
    }
   ],
   "source": [
    "# select a column\n",
    "carData['make']"
   ]
  },
  {
   "cell_type": "code",
   "execution_count": 56,
   "id": "9893f994",
   "metadata": {},
   "outputs": [
    {
     "data": {
      "text/html": [
       "<div>\n",
       "<style scoped>\n",
       "    .dataframe tbody tr th:only-of-type {\n",
       "        vertical-align: middle;\n",
       "    }\n",
       "\n",
       "    .dataframe tbody tr th {\n",
       "        vertical-align: top;\n",
       "    }\n",
       "\n",
       "    .dataframe thead th {\n",
       "        text-align: right;\n",
       "    }\n",
       "</style>\n",
       "<table border=\"1\" class=\"dataframe\">\n",
       "  <thead>\n",
       "    <tr style=\"text-align: right;\">\n",
       "      <th></th>\n",
       "      <th>make</th>\n",
       "      <th>model</th>\n",
       "      <th>msrp</th>\n",
       "    </tr>\n",
       "  </thead>\n",
       "  <tbody>\n",
       "    <tr>\n",
       "      <th>1</th>\n",
       "      <td>Toyota</td>\n",
       "      <td>Corola</td>\n",
       "      <td>2000000</td>\n",
       "    </tr>\n",
       "    <tr>\n",
       "      <th>2</th>\n",
       "      <td>Ford</td>\n",
       "      <td>Focus</td>\n",
       "      <td>1876000</td>\n",
       "    </tr>\n",
       "    <tr>\n",
       "      <th>3</th>\n",
       "      <td>Subaru</td>\n",
       "      <td>Forester</td>\n",
       "      <td>3245678</td>\n",
       "    </tr>\n",
       "    <tr>\n",
       "      <th>4</th>\n",
       "      <td>Nissan</td>\n",
       "      <td>Note</td>\n",
       "      <td>800000</td>\n",
       "    </tr>\n",
       "    <tr>\n",
       "      <th>5</th>\n",
       "      <td>BMW</td>\n",
       "      <td>520i</td>\n",
       "      <td>2250630</td>\n",
       "    </tr>\n",
       "  </tbody>\n",
       "</table>\n",
       "</div>"
      ],
      "text/plain": [
       "     make     model     msrp\n",
       "1  Toyota    Corola  2000000\n",
       "2    Ford     Focus  1876000\n",
       "3  Subaru  Forester  3245678\n",
       "4  Nissan      Note   800000\n",
       "5     BMW      520i  2250630"
      ]
     },
     "execution_count": 56,
     "metadata": {},
     "output_type": "execute_result"
    }
   ],
   "source": [
    "# change the row indexes to more natural counting\n",
    "carData.index = [1, 2, 3, 4, 5]\n",
    "carData"
   ]
  },
  {
   "cell_type": "code",
   "execution_count": 57,
   "id": "78373842",
   "metadata": {},
   "outputs": [],
   "source": [
    "# add a new columns\n",
    "carData['Year'] = [2019, 2016, 2015, 2020, 2017]"
   ]
  },
  {
   "cell_type": "code",
   "execution_count": 58,
   "id": "86d44874",
   "metadata": {},
   "outputs": [
    {
     "data": {
      "text/html": [
       "<div>\n",
       "<style scoped>\n",
       "    .dataframe tbody tr th:only-of-type {\n",
       "        vertical-align: middle;\n",
       "    }\n",
       "\n",
       "    .dataframe tbody tr th {\n",
       "        vertical-align: top;\n",
       "    }\n",
       "\n",
       "    .dataframe thead th {\n",
       "        text-align: right;\n",
       "    }\n",
       "</style>\n",
       "<table border=\"1\" class=\"dataframe\">\n",
       "  <thead>\n",
       "    <tr style=\"text-align: right;\">\n",
       "      <th></th>\n",
       "      <th>make</th>\n",
       "      <th>model</th>\n",
       "      <th>msrp</th>\n",
       "      <th>Year</th>\n",
       "    </tr>\n",
       "  </thead>\n",
       "  <tbody>\n",
       "    <tr>\n",
       "      <th>1</th>\n",
       "      <td>Toyota</td>\n",
       "      <td>Corola</td>\n",
       "      <td>2000000</td>\n",
       "      <td>2019</td>\n",
       "    </tr>\n",
       "    <tr>\n",
       "      <th>2</th>\n",
       "      <td>Ford</td>\n",
       "      <td>Focus</td>\n",
       "      <td>1876000</td>\n",
       "      <td>2016</td>\n",
       "    </tr>\n",
       "    <tr>\n",
       "      <th>3</th>\n",
       "      <td>Subaru</td>\n",
       "      <td>Forester</td>\n",
       "      <td>3245678</td>\n",
       "      <td>2015</td>\n",
       "    </tr>\n",
       "    <tr>\n",
       "      <th>4</th>\n",
       "      <td>Nissan</td>\n",
       "      <td>Note</td>\n",
       "      <td>800000</td>\n",
       "      <td>2020</td>\n",
       "    </tr>\n",
       "    <tr>\n",
       "      <th>5</th>\n",
       "      <td>BMW</td>\n",
       "      <td>520i</td>\n",
       "      <td>2250630</td>\n",
       "      <td>2017</td>\n",
       "    </tr>\n",
       "  </tbody>\n",
       "</table>\n",
       "</div>"
      ],
      "text/plain": [
       "     make     model     msrp  Year\n",
       "1  Toyota    Corola  2000000  2019\n",
       "2    Ford     Focus  1876000  2016\n",
       "3  Subaru  Forester  3245678  2015\n",
       "4  Nissan      Note   800000  2020\n",
       "5     BMW      520i  2250630  2017"
      ]
     },
     "execution_count": 58,
     "metadata": {},
     "output_type": "execute_result"
    }
   ],
   "source": [
    "carData"
   ]
  },
  {
   "cell_type": "markdown",
   "id": "92210668",
   "metadata": {},
   "source": [
    "#### creating random values"
   ]
  },
  {
   "cell_type": "code",
   "execution_count": 59,
   "id": "2c9e5751",
   "metadata": {},
   "outputs": [
    {
     "data": {
      "text/plain": [
       "array([[-0.45741316,  0.35859425, -1.11369455],\n",
       "       [ 0.20279183,  0.00592733, -0.12741281],\n",
       "       [ 0.49664794, -0.02788434, -0.14991844],\n",
       "       [ 1.07127355, -1.00953751, -1.01426257],\n",
       "       [ 1.35799534,  1.15650423, -1.7440679 ]])"
      ]
     },
     "execution_count": 59,
     "metadata": {},
     "output_type": "execute_result"
    }
   ],
   "source": [
    "# create a random 5 * 3 numpy array\n",
    "rand = np.random.randn(5, 3)\n",
    "rand"
   ]
  },
  {
   "cell_type": "code",
   "execution_count": 60,
   "id": "fa02bfca",
   "metadata": {},
   "outputs": [],
   "source": [
    "# creat column names \n",
    "colname = ['X1', 'X2', 'X3']"
   ]
  },
  {
   "cell_type": "code",
   "execution_count": 62,
   "id": "07ac2c1b",
   "metadata": {},
   "outputs": [
    {
     "data": {
      "text/html": [
       "<div>\n",
       "<style scoped>\n",
       "    .dataframe tbody tr th:only-of-type {\n",
       "        vertical-align: middle;\n",
       "    }\n",
       "\n",
       "    .dataframe tbody tr th {\n",
       "        vertical-align: top;\n",
       "    }\n",
       "\n",
       "    .dataframe thead th {\n",
       "        text-align: right;\n",
       "    }\n",
       "</style>\n",
       "<table border=\"1\" class=\"dataframe\">\n",
       "  <thead>\n",
       "    <tr style=\"text-align: right;\">\n",
       "      <th></th>\n",
       "      <th>X1</th>\n",
       "      <th>X2</th>\n",
       "      <th>X3</th>\n",
       "    </tr>\n",
       "  </thead>\n",
       "  <tbody>\n",
       "    <tr>\n",
       "      <th>0</th>\n",
       "      <td>-0.457413</td>\n",
       "      <td>0.358594</td>\n",
       "      <td>-1.113695</td>\n",
       "    </tr>\n",
       "    <tr>\n",
       "      <th>1</th>\n",
       "      <td>0.202792</td>\n",
       "      <td>0.005927</td>\n",
       "      <td>-0.127413</td>\n",
       "    </tr>\n",
       "    <tr>\n",
       "      <th>2</th>\n",
       "      <td>0.496648</td>\n",
       "      <td>-0.027884</td>\n",
       "      <td>-0.149918</td>\n",
       "    </tr>\n",
       "    <tr>\n",
       "      <th>3</th>\n",
       "      <td>1.071274</td>\n",
       "      <td>-1.009538</td>\n",
       "      <td>-1.014263</td>\n",
       "    </tr>\n",
       "    <tr>\n",
       "      <th>4</th>\n",
       "      <td>1.357995</td>\n",
       "      <td>1.156504</td>\n",
       "      <td>-1.744068</td>\n",
       "    </tr>\n",
       "  </tbody>\n",
       "</table>\n",
       "</div>"
      ],
      "text/plain": [
       "         X1        X2        X3\n",
       "0 -0.457413  0.358594 -1.113695\n",
       "1  0.202792  0.005927 -0.127413\n",
       "2  0.496648 -0.027884 -0.149918\n",
       "3  1.071274 -1.009538 -1.014263\n",
       "4  1.357995  1.156504 -1.744068"
      ]
     },
     "execution_count": 62,
     "metadata": {},
     "output_type": "execute_result"
    }
   ],
   "source": [
    "# creating dataframe\n",
    "rand_df = pd.DataFrame(rand, columns = colname)\n",
    "rand_df"
   ]
  },
  {
   "cell_type": "code",
   "execution_count": 64,
   "id": "25619b51",
   "metadata": {},
   "outputs": [
    {
     "data": {
      "text/plain": [
       "-4.149356264395075"
      ]
     },
     "execution_count": 64,
     "metadata": {},
     "output_type": "execute_result"
    }
   ],
   "source": [
    "# sum of a column\n",
    "rand_df['X3'].sum()"
   ]
  },
  {
   "cell_type": "code",
   "execution_count": 65,
   "id": "b4e26ce7",
   "metadata": {},
   "outputs": [
    {
     "data": {
      "text/html": [
       "<div>\n",
       "<style scoped>\n",
       "    .dataframe tbody tr th:only-of-type {\n",
       "        vertical-align: middle;\n",
       "    }\n",
       "\n",
       "    .dataframe tbody tr th {\n",
       "        vertical-align: top;\n",
       "    }\n",
       "\n",
       "    .dataframe thead th {\n",
       "        text-align: right;\n",
       "    }\n",
       "</style>\n",
       "<table border=\"1\" class=\"dataframe\">\n",
       "  <thead>\n",
       "    <tr style=\"text-align: right;\">\n",
       "      <th></th>\n",
       "      <th>X1</th>\n",
       "      <th>X2</th>\n",
       "      <th>X3</th>\n",
       "    </tr>\n",
       "  </thead>\n",
       "  <tbody>\n",
       "    <tr>\n",
       "      <th>count</th>\n",
       "      <td>5.000000</td>\n",
       "      <td>5.000000</td>\n",
       "      <td>5.000000</td>\n",
       "    </tr>\n",
       "    <tr>\n",
       "      <th>mean</th>\n",
       "      <td>0.534259</td>\n",
       "      <td>0.096721</td>\n",
       "      <td>-0.829871</td>\n",
       "    </tr>\n",
       "    <tr>\n",
       "      <th>std</th>\n",
       "      <td>0.717918</td>\n",
       "      <td>0.780912</td>\n",
       "      <td>0.690307</td>\n",
       "    </tr>\n",
       "    <tr>\n",
       "      <th>min</th>\n",
       "      <td>-0.457413</td>\n",
       "      <td>-1.009538</td>\n",
       "      <td>-1.744068</td>\n",
       "    </tr>\n",
       "    <tr>\n",
       "      <th>25%</th>\n",
       "      <td>0.202792</td>\n",
       "      <td>-0.027884</td>\n",
       "      <td>-1.113695</td>\n",
       "    </tr>\n",
       "    <tr>\n",
       "      <th>50%</th>\n",
       "      <td>0.496648</td>\n",
       "      <td>0.005927</td>\n",
       "      <td>-1.014263</td>\n",
       "    </tr>\n",
       "    <tr>\n",
       "      <th>75%</th>\n",
       "      <td>1.071274</td>\n",
       "      <td>0.358594</td>\n",
       "      <td>-0.149918</td>\n",
       "    </tr>\n",
       "    <tr>\n",
       "      <th>max</th>\n",
       "      <td>1.357995</td>\n",
       "      <td>1.156504</td>\n",
       "      <td>-0.127413</td>\n",
       "    </tr>\n",
       "  </tbody>\n",
       "</table>\n",
       "</div>"
      ],
      "text/plain": [
       "             X1        X2        X3\n",
       "count  5.000000  5.000000  5.000000\n",
       "mean   0.534259  0.096721 -0.829871\n",
       "std    0.717918  0.780912  0.690307\n",
       "min   -0.457413 -1.009538 -1.744068\n",
       "25%    0.202792 -0.027884 -1.113695\n",
       "50%    0.496648  0.005927 -1.014263\n",
       "75%    1.071274  0.358594 -0.149918\n",
       "max    1.357995  1.156504 -0.127413"
      ]
     },
     "execution_count": 65,
     "metadata": {},
     "output_type": "execute_result"
    }
   ],
   "source": [
    "# describe the data\n",
    "rand_df.describe()"
   ]
  },
  {
   "cell_type": "code",
   "execution_count": null,
   "id": "73cfbb9e",
   "metadata": {},
   "outputs": [],
   "source": []
  }
 ],
 "metadata": {
  "kernelspec": {
   "display_name": "Python 3 (ipykernel)",
   "language": "python",
   "name": "python3"
  },
  "language_info": {
   "codemirror_mode": {
    "name": "ipython",
    "version": 3
   },
   "file_extension": ".py",
   "mimetype": "text/x-python",
   "name": "python",
   "nbconvert_exporter": "python",
   "pygments_lexer": "ipython3",
   "version": "3.10.9"
  }
 },
 "nbformat": 4,
 "nbformat_minor": 5
}
