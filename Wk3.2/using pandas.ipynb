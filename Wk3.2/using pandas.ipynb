{
 "cells": [
  {
   "cell_type": "markdown",
   "id": "42d68ab5",
   "metadata": {},
   "source": [
    "# Pandas\n",
    "deals with  two data types\n",
    "- series\n",
    "- dataframes\n",
    "\n",
    "### series\n",
    "is a one dimensional dataframe ```tabular representation```\n",
    "\n",
    "### dataframe \n",
    "multidimensional data "
   ]
  },
  {
   "cell_type": "code",
   "execution_count": 1,
   "id": "ed38f4e4",
   "metadata": {},
   "outputs": [],
   "source": [
    "# creating a series\n",
    "import pandas as pd"
   ]
  },
  {
   "cell_type": "markdown",
   "id": "97daa92b",
   "metadata": {},
   "source": [
    "### import individual element\n",
    "to imprort just the series function from pandas type\n",
    "```python\n",
    "from pandas import Series\n",
    "```\n",
    "makes it so that instead of running \n",
    "```python\n",
    "s = pd.Series('list datatype')\n",
    "```\n",
    "we instead write \n",
    "```python\n",
    "s = Series('list datatype')\n",
    "```"
   ]
  },
  {
   "cell_type": "code",
   "execution_count": 3,
   "id": "58e7c1cf",
   "metadata": {},
   "outputs": [
    {
     "data": {
      "text/plain": [
       "(1.0, 3.2, 4.5, 6.7, 8.96, 10.99)"
      ]
     },
     "execution_count": 3,
     "metadata": {},
     "output_type": "execute_result"
    }
   ],
   "source": [
    "l = (1.0, 3.2, 4.5, 6.7, 8.96, 10.99)\n",
    "l"
   ]
  },
  {
   "cell_type": "code",
   "execution_count": 4,
   "id": "deeceb0c",
   "metadata": {},
   "outputs": [
    {
     "data": {
      "text/plain": [
       "0     1.00\n",
       "1     3.20\n",
       "2     4.50\n",
       "3     6.70\n",
       "4     8.96\n",
       "5    10.99\n",
       "dtype: float64"
      ]
     },
     "execution_count": 4,
     "metadata": {},
     "output_type": "execute_result"
    }
   ],
   "source": [
    "# convert list to series\n",
    "s = pd.Series(l)\n",
    "s"
   ]
  },
  {
   "cell_type": "code",
   "execution_count": 5,
   "id": "80e8c4c2",
   "metadata": {},
   "outputs": [
    {
     "data": {
      "text/plain": [
       "RangeIndex(start=0, stop=6, step=1)"
      ]
     },
     "execution_count": 5,
     "metadata": {},
     "output_type": "execute_result"
    }
   ],
   "source": [
    "# number of indexes available\n",
    "s.index"
   ]
  },
  {
   "cell_type": "code",
   "execution_count": 6,
   "id": "14abc7dc",
   "metadata": {},
   "outputs": [
    {
     "data": {
      "text/plain": [
       "dtype('float64')"
      ]
     },
     "execution_count": 6,
     "metadata": {},
     "output_type": "execute_result"
    }
   ],
   "source": [
    "# type of data in series\n",
    "s.dtype"
   ]
  },
  {
   "cell_type": "code",
   "execution_count": 7,
   "id": "f57480f1",
   "metadata": {},
   "outputs": [
    {
     "data": {
      "text/plain": [
       "array([ 1.  ,  3.2 ,  4.5 ,  6.7 ,  8.96, 10.99])"
      ]
     },
     "execution_count": 7,
     "metadata": {},
     "output_type": "execute_result"
    }
   ],
   "source": [
    "# the values in a series\n",
    "s.values"
   ]
  },
  {
   "cell_type": "markdown",
   "id": "e587383d",
   "metadata": {},
   "source": [
    "### generating a series from a random numpy array\n"
   ]
  },
  {
   "cell_type": "code",
   "execution_count": 10,
   "id": "b1613d13",
   "metadata": {},
   "outputs": [
    {
     "data": {
      "text/plain": [
       "array([-1.13310335, -1.58695934, -0.56351393,  0.26803991,  0.29618169,\n",
       "       -0.77520109,  0.50460964,  0.10068199, -0.43815469,  1.57015458])"
      ]
     },
     "execution_count": 10,
     "metadata": {},
     "output_type": "execute_result"
    }
   ],
   "source": [
    "import numpy as np\n",
    "np_list = np.random.normal(size = 10)\n",
    "np_list"
   ]
  },
  {
   "cell_type": "code",
   "execution_count": 11,
   "id": "177b3e49",
   "metadata": {},
   "outputs": [
    {
     "data": {
      "text/plain": [
       "0   -1.133103\n",
       "1   -1.586959\n",
       "2   -0.563514\n",
       "3    0.268040\n",
       "4    0.296182\n",
       "5   -0.775201\n",
       "6    0.504610\n",
       "7    0.100682\n",
       "8   -0.438155\n",
       "9    1.570155\n",
       "dtype: float64"
      ]
     },
     "execution_count": 11,
     "metadata": {},
     "output_type": "execute_result"
    }
   ],
   "source": [
    "# series from numpy list\n",
    "s_np = pd.Series(np_list)\n",
    "s_np"
   ]
  },
  {
   "cell_type": "code",
   "execution_count": 12,
   "id": "0ff8f109",
   "metadata": {},
   "outputs": [
    {
     "data": {
      "text/plain": [
       "RangeIndex(start=0, stop=10, step=1)"
      ]
     },
     "execution_count": 12,
     "metadata": {},
     "output_type": "execute_result"
    }
   ],
   "source": [
    "# check indexes \n",
    "s_np.index"
   ]
  },
  {
   "cell_type": "code",
   "execution_count": 13,
   "id": "694faa10",
   "metadata": {},
   "outputs": [
    {
     "data": {
      "text/plain": [
       "array([-1.13310335, -1.58695934, -0.56351393,  0.26803991,  0.29618169,\n",
       "       -0.77520109,  0.50460964,  0.10068199, -0.43815469,  1.57015458])"
      ]
     },
     "execution_count": 13,
     "metadata": {},
     "output_type": "execute_result"
    }
   ],
   "source": [
    "# check values \n",
    "s_np.values"
   ]
  },
  {
   "cell_type": "code",
   "execution_count": 15,
   "id": "bd0552ac",
   "metadata": {},
   "outputs": [
    {
     "data": {
      "text/plain": [
       "dtype('float64')"
      ]
     },
     "execution_count": 15,
     "metadata": {},
     "output_type": "execute_result"
    }
   ],
   "source": [
    "# check data type\n",
    "s_np.dtype"
   ]
  },
  {
   "cell_type": "markdown",
   "id": "49e6caaf",
   "metadata": {},
   "source": [
    "### changing the index of the series to a custom name"
   ]
  },
  {
   "cell_type": "code",
   "execution_count": 19,
   "id": "824eb0cb",
   "metadata": {},
   "outputs": [
    {
     "data": {
      "text/plain": [
       "Jan     1.00\n",
       "Feb     3.20\n",
       "Mar     4.50\n",
       "May     6.70\n",
       "Jun     8.96\n",
       "Jul    10.99\n",
       "dtype: float64"
      ]
     },
     "execution_count": 19,
     "metadata": {},
     "output_type": "execute_result"
    }
   ],
   "source": [
    "s3 = pd.Series(list(l), index = ['Jan', 'Feb', 'Mar', 'May', 'Jun', 'Jul'])\n",
    "s3"
   ]
  },
  {
   "cell_type": "code",
   "execution_count": 20,
   "id": "a2cf6e7c",
   "metadata": {},
   "outputs": [
    {
     "data": {
      "text/plain": [
       "Index(['Jan', 'Feb', 'Mar', 'May', 'Jun', 'Jul'], dtype='object')"
      ]
     },
     "execution_count": 20,
     "metadata": {},
     "output_type": "execute_result"
    }
   ],
   "source": [
    "# index names\n",
    "s3.index"
   ]
  },
  {
   "cell_type": "markdown",
   "id": "1409fd75",
   "metadata": {},
   "source": [
    "### creating series from dictionary"
   ]
  },
  {
   "cell_type": "code",
   "execution_count": null,
   "id": "4807ca76",
   "metadata": {},
   "outputs": [],
   "source": [
    "capitals = {'Nairobi': 'Kenya', \n",
    "           'Accra': 'Ghana',\n",
    "           'Khartoum': 'Sudan',\n",
    "           'Addis Ab'}"
   ]
  }
 ],
 "metadata": {
  "kernelspec": {
   "display_name": "Python 3 (ipykernel)",
   "language": "python",
   "name": "python3"
  },
  "language_info": {
   "codemirror_mode": {
    "name": "ipython",
    "version": 3
   },
   "file_extension": ".py",
   "mimetype": "text/x-python",
   "name": "python",
   "nbconvert_exporter": "python",
   "pygments_lexer": "ipython3",
   "version": "3.10.9"
  }
 },
 "nbformat": 4,
 "nbformat_minor": 5
}
