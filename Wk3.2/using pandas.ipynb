{
 "cells": [
  {
   "cell_type": "markdown",
   "id": "70183acd",
   "metadata": {},
   "source": [
    "# Pandas\n",
    "deals with  two data types\n",
    "- series\n",
    "- dataframes\n",
    "\n",
    "### series\n",
    "is a one dimensional dataframe ```tabular representation```\n",
    "\n",
    "### dataframe \n",
    "multidimensional data "
   ]
  },
  {
   "cell_type": "code",
   "execution_count": 1,
   "id": "fcf8c73c",
   "metadata": {},
   "outputs": [],
   "source": [
    "# creating a series\n",
    "import pandas as pd"
   ]
  },
  {
   "cell_type": "markdown",
   "id": "56ae8145",
   "metadata": {},
   "source": [
    "#### import individual element\n",
    "to imprort just the series function from pandas type\n",
    "```python\n",
    "from pandas import Series\n",
    "```\n",
    "makes it so that instead of running \n",
    "```python\n",
    "s = pd.Series('list datatype')\n",
    "```\n",
    "we instead write \n",
    "```python\n",
    "s = Series('list datatype')\n",
    "```"
   ]
  },
  {
   "cell_type": "code",
   "execution_count": 3,
   "id": "b4df9641",
   "metadata": {},
   "outputs": [
    {
     "data": {
      "text/plain": [
       "(1.0, 3.2, 4.5, 6.7, 8.96, 10.99)"
      ]
     },
     "execution_count": 3,
     "metadata": {},
     "output_type": "execute_result"
    }
   ],
   "source": [
    "l = (1.0, 3.2, 4.5, 6.7, 8.96, 10.99)\n",
    "l"
   ]
  },
  {
   "cell_type": "code",
   "execution_count": 4,
   "id": "bf9598fa",
   "metadata": {},
   "outputs": [
    {
     "data": {
      "text/plain": [
       "0     1.00\n",
       "1     3.20\n",
       "2     4.50\n",
       "3     6.70\n",
       "4     8.96\n",
       "5    10.99\n",
       "dtype: float64"
      ]
     },
     "execution_count": 4,
     "metadata": {},
     "output_type": "execute_result"
    }
   ],
   "source": [
    "# convert list to series\n",
    "s = pd.Series(l)\n",
    "s"
   ]
  },
  {
   "cell_type": "code",
   "execution_count": 5,
   "id": "dbccd069",
   "metadata": {},
   "outputs": [
    {
     "data": {
      "text/plain": [
       "RangeIndex(start=0, stop=6, step=1)"
      ]
     },
     "execution_count": 5,
     "metadata": {},
     "output_type": "execute_result"
    }
   ],
   "source": [
    "# number of indexes available\n",
    "s.index"
   ]
  },
  {
   "cell_type": "code",
   "execution_count": 6,
   "id": "71714091",
   "metadata": {},
   "outputs": [
    {
     "data": {
      "text/plain": [
       "dtype('float64')"
      ]
     },
     "execution_count": 6,
     "metadata": {},
     "output_type": "execute_result"
    }
   ],
   "source": [
    "# type of data in series\n",
    "s.dtype"
   ]
  },
  {
   "cell_type": "code",
   "execution_count": 7,
   "id": "7055795d",
   "metadata": {},
   "outputs": [
    {
     "data": {
      "text/plain": [
       "array([ 1.  ,  3.2 ,  4.5 ,  6.7 ,  8.96, 10.99])"
      ]
     },
     "execution_count": 7,
     "metadata": {},
     "output_type": "execute_result"
    }
   ],
   "source": [
    "# the values in a series\n",
    "s.values"
   ]
  },
  {
   "cell_type": "markdown",
   "id": "584ca64f",
   "metadata": {},
   "source": [
    "#### generating a series from a random numpy array\n"
   ]
  },
  {
   "cell_type": "code",
   "execution_count": 10,
   "id": "e216b71c",
   "metadata": {},
   "outputs": [
    {
     "data": {
      "text/plain": [
       "array([-1.13310335, -1.58695934, -0.56351393,  0.26803991,  0.29618169,\n",
       "       -0.77520109,  0.50460964,  0.10068199, -0.43815469,  1.57015458])"
      ]
     },
     "execution_count": 10,
     "metadata": {},
     "output_type": "execute_result"
    }
   ],
   "source": [
    "import numpy as np\n",
    "np_list = np.random.normal(size = 10)\n",
    "np_list"
   ]
  },
  {
   "cell_type": "code",
   "execution_count": 11,
   "id": "72f1e535",
   "metadata": {},
   "outputs": [
    {
     "data": {
      "text/plain": [
       "0   -1.133103\n",
       "1   -1.586959\n",
       "2   -0.563514\n",
       "3    0.268040\n",
       "4    0.296182\n",
       "5   -0.775201\n",
       "6    0.504610\n",
       "7    0.100682\n",
       "8   -0.438155\n",
       "9    1.570155\n",
       "dtype: float64"
      ]
     },
     "execution_count": 11,
     "metadata": {},
     "output_type": "execute_result"
    }
   ],
   "source": [
    "# series from numpy list\n",
    "s_np = pd.Series(np_list)\n",
    "s_np"
   ]
  },
  {
   "cell_type": "code",
   "execution_count": 12,
   "id": "48eb8be2",
   "metadata": {},
   "outputs": [
    {
     "data": {
      "text/plain": [
       "RangeIndex(start=0, stop=10, step=1)"
      ]
     },
     "execution_count": 12,
     "metadata": {},
     "output_type": "execute_result"
    }
   ],
   "source": [
    "# check indexes \n",
    "s_np.index"
   ]
  },
  {
   "cell_type": "code",
   "execution_count": 13,
   "id": "86f59323",
   "metadata": {},
   "outputs": [
    {
     "data": {
      "text/plain": [
       "array([-1.13310335, -1.58695934, -0.56351393,  0.26803991,  0.29618169,\n",
       "       -0.77520109,  0.50460964,  0.10068199, -0.43815469,  1.57015458])"
      ]
     },
     "execution_count": 13,
     "metadata": {},
     "output_type": "execute_result"
    }
   ],
   "source": [
    "# check values \n",
    "s_np.values"
   ]
  },
  {
   "cell_type": "code",
   "execution_count": 15,
   "id": "b56e5df3",
   "metadata": {},
   "outputs": [
    {
     "data": {
      "text/plain": [
       "dtype('float64')"
      ]
     },
     "execution_count": 15,
     "metadata": {},
     "output_type": "execute_result"
    }
   ],
   "source": [
    "# check data type\n",
    "s_np.dtype"
   ]
  },
  {
   "cell_type": "markdown",
   "id": "2d1a2bbe",
   "metadata": {},
   "source": [
    "#### changing the index of the series to a custom name"
   ]
  },
  {
   "cell_type": "code",
   "execution_count": 19,
   "id": "428bf855",
   "metadata": {},
   "outputs": [
    {
     "data": {
      "text/plain": [
       "Jan     1.00\n",
       "Feb     3.20\n",
       "Mar     4.50\n",
       "May     6.70\n",
       "Jun     8.96\n",
       "Jul    10.99\n",
       "dtype: float64"
      ]
     },
     "execution_count": 19,
     "metadata": {},
     "output_type": "execute_result"
    }
   ],
   "source": [
    "s3 = pd.Series(list(l), index = ['Jan', 'Feb', 'Mar', 'May', 'Jun', 'Jul'])\n",
    "s3"
   ]
  },
  {
   "cell_type": "code",
   "execution_count": 20,
   "id": "c6c4d19e",
   "metadata": {},
   "outputs": [
    {
     "data": {
      "text/plain": [
       "Index(['Jan', 'Feb', 'Mar', 'May', 'Jun', 'Jul'], dtype='object')"
      ]
     },
     "execution_count": 20,
     "metadata": {},
     "output_type": "execute_result"
    }
   ],
   "source": [
    "# index names\n",
    "s3.index"
   ]
  },
  {
   "cell_type": "markdown",
   "id": "15f82121",
   "metadata": {},
   "source": [
    "#### creating series from dictionary"
   ]
  },
  {
   "cell_type": "code",
   "execution_count": 21,
   "id": "7d696788",
   "metadata": {},
   "outputs": [
    {
     "data": {
      "text/plain": [
       "{'Nairobi': 'Kenya',\n",
       " 'Accra': 'Ghana',\n",
       " 'Khartoum': 'Sudan',\n",
       " 'Addis Ababa': 'Ethiopia',\n",
       " 'Dodoma': 'Tanzania',\n",
       " 'Kigali': 'Rwanda',\n",
       " 'Kampala': 'Uganda'}"
      ]
     },
     "execution_count": 21,
     "metadata": {},
     "output_type": "execute_result"
    }
   ],
   "source": [
    "capitals = {'Nairobi': 'Kenya', \n",
    "           'Accra': 'Ghana',\n",
    "           'Khartoum': 'Sudan',\n",
    "           'Addis Ababa': 'Ethiopia',\n",
    "           'Dodoma': 'Tanzania',\n",
    "           'Kigali': 'Rwanda',\n",
    "           'Kampala': 'Uganda'}\n",
    "capitals"
   ]
  },
  {
   "cell_type": "code",
   "execution_count": 22,
   "id": "9301a8a1",
   "metadata": {},
   "outputs": [
    {
     "data": {
      "text/plain": [
       "Nairobi           Kenya\n",
       "Accra             Ghana\n",
       "Khartoum          Sudan\n",
       "Addis Ababa    Ethiopia\n",
       "Dodoma         Tanzania\n",
       "Kigali           Rwanda\n",
       "Kampala          Uganda\n",
       "dtype: object"
      ]
     },
     "execution_count": 22,
     "metadata": {},
     "output_type": "execute_result"
    }
   ],
   "source": [
    "# creating series\n",
    "cap_series = pd.Series(capitals)\n",
    "cap_series"
   ]
  },
  {
   "cell_type": "markdown",
   "id": "f32a1ef6",
   "metadata": {},
   "source": [
    "#### idexing and slicing"
   ]
  },
  {
   "cell_type": "code",
   "execution_count": 23,
   "id": "acc110f6",
   "metadata": {},
   "outputs": [
    {
     "data": {
      "text/plain": [
       "'Sudan'"
      ]
     },
     "execution_count": 23,
     "metadata": {},
     "output_type": "execute_result"
    }
   ],
   "source": [
    "# third series \n",
    "cap_series[2]"
   ]
  },
  {
   "cell_type": "code",
   "execution_count": 24,
   "id": "f6e2a6ef",
   "metadata": {},
   "outputs": [
    {
     "data": {
      "text/plain": [
       "Nairobi     Kenya\n",
       "Accra       Ghana\n",
       "Khartoum    Sudan\n",
       "dtype: object"
      ]
     },
     "execution_count": 24,
     "metadata": {},
     "output_type": "execute_result"
    }
   ],
   "source": [
    "# return the first three rows\n",
    "cap_series[0:3]"
   ]
  },
  {
   "cell_type": "code",
   "execution_count": 25,
   "id": "3c9f137d",
   "metadata": {},
   "outputs": [
    {
     "data": {
      "text/plain": [
       "Khartoum          Sudan\n",
       "Addis Ababa    Ethiopia\n",
       "Dodoma         Tanzania\n",
       "Kigali           Rwanda\n",
       "dtype: object"
      ]
     },
     "execution_count": 25,
     "metadata": {},
     "output_type": "execute_result"
    }
   ],
   "source": [
    "# using iloc to retrieve specific rows\n",
    "# locate third to fifth row\n",
    "cap_series.iloc[2:6]"
   ]
  },
  {
   "cell_type": "markdown",
   "id": "3d998366",
   "metadata": {},
   "source": [
    "**notice** use of ```[]``` in using iloc"
   ]
  },
  {
   "cell_type": "markdown",
   "id": "7fe1cc2e",
   "metadata": {},
   "source": [
    "#### counting and selecting"
   ]
  },
  {
   "cell_type": "code",
   "execution_count": 27,
   "id": "260cb312",
   "metadata": {},
   "outputs": [
    {
     "data": {
      "text/plain": [
       "7"
      ]
     },
     "execution_count": 27,
     "metadata": {},
     "output_type": "execute_result"
    }
   ],
   "source": [
    "# counting\n",
    "cap_series.count()"
   ]
  },
  {
   "cell_type": "code",
   "execution_count": 28,
   "id": "dc4c18e7",
   "metadata": {},
   "outputs": [
    {
     "data": {
      "text/plain": [
       "7"
      ]
     },
     "execution_count": 28,
     "metadata": {},
     "output_type": "execute_result"
    }
   ],
   "source": [
    "# counting indexes\n",
    "cap_series.size"
   ]
  },
  {
   "cell_type": "markdown",
   "id": "c7d551da",
   "metadata": {},
   "source": [
    "**notice** if a value is replaced by NaN it stops being a value in a series"
   ]
  },
  {
   "cell_type": "code",
   "execution_count": 35,
   "id": "ef156230",
   "metadata": {},
   "outputs": [],
   "source": [
    "# selecting\n",
    "cap_series['Nairobi'] = float('NaN')"
   ]
  },
  {
   "cell_type": "code",
   "execution_count": 36,
   "id": "425404d8",
   "metadata": {},
   "outputs": [
    {
     "data": {
      "text/plain": [
       "Nairobi             NaN\n",
       "Accra             Ghana\n",
       "Khartoum          Sudan\n",
       "Addis Ababa    Ethiopia\n",
       "Dodoma         Tanzania\n",
       "Kigali           Rwanda\n",
       "Kampala          Uganda\n",
       "dtype: object"
      ]
     },
     "execution_count": 36,
     "metadata": {},
     "output_type": "execute_result"
    }
   ],
   "source": [
    "cap_series"
   ]
  },
  {
   "cell_type": "markdown",
   "id": "c38552eb",
   "metadata": {},
   "source": [
    "**Notice** \n",
    "\n",
    "count-- number of elements \n",
    "\n",
    "size -- number of positions"
   ]
  },
  {
   "cell_type": "code",
   "execution_count": 37,
   "id": "384d4632",
   "metadata": {},
   "outputs": [
    {
     "data": {
      "text/plain": [
       "6"
      ]
     },
     "execution_count": 37,
     "metadata": {},
     "output_type": "execute_result"
    }
   ],
   "source": [
    "cap_series.count()"
   ]
  },
  {
   "cell_type": "code",
   "execution_count": 39,
   "id": "ab8916d6",
   "metadata": {},
   "outputs": [
    {
     "data": {
      "text/plain": [
       "7"
      ]
     },
     "execution_count": 39,
     "metadata": {},
     "output_type": "execute_result"
    }
   ],
   "source": [
    "cap_series.size"
   ]
  },
  {
   "cell_type": "markdown",
   "id": "2f2592e5",
   "metadata": {},
   "source": [
    "### Dataframes"
   ]
  },
  {
   "cell_type": "code",
   "execution_count": 41,
   "id": "dd2ef406",
   "metadata": {},
   "outputs": [
    {
     "data": {
      "text/plain": [
       "{'make': ['Toyota', 'Ford', 'Subaru', 'Nissan', 'BMW'],\n",
       " 'model': ['Corola', 'Focus', 'Forester', 'Note', '520i'],\n",
       " 'msrp': [2000000, 1876000, 3245678, 800000, 2250630]}"
      ]
     },
     "execution_count": 41,
     "metadata": {},
     "output_type": "execute_result"
    }
   ],
   "source": [
    "cars = {'make':['Toyota', 'Ford', 'Subaru', 'Nissan', 'BMW'],\n",
    "       'model':['Corola', 'Focus', 'Forester', 'Note', '520i'],\n",
    "       'msrp':[2_000_000, 1_876_000, 3_245_678, 800_000, 2_250_630]}\n",
    "cars"
   ]
  },
  {
   "cell_type": "code",
   "execution_count": 42,
   "id": "524f1682",
   "metadata": {},
   "outputs": [
    {
     "data": {
      "text/html": [
       "<div>\n",
       "<style scoped>\n",
       "    .dataframe tbody tr th:only-of-type {\n",
       "        vertical-align: middle;\n",
       "    }\n",
       "\n",
       "    .dataframe tbody tr th {\n",
       "        vertical-align: top;\n",
       "    }\n",
       "\n",
       "    .dataframe thead th {\n",
       "        text-align: right;\n",
       "    }\n",
       "</style>\n",
       "<table border=\"1\" class=\"dataframe\">\n",
       "  <thead>\n",
       "    <tr style=\"text-align: right;\">\n",
       "      <th></th>\n",
       "      <th>make</th>\n",
       "      <th>model</th>\n",
       "      <th>msrp</th>\n",
       "    </tr>\n",
       "  </thead>\n",
       "  <tbody>\n",
       "    <tr>\n",
       "      <th>0</th>\n",
       "      <td>Toyota</td>\n",
       "      <td>Corola</td>\n",
       "      <td>2000000</td>\n",
       "    </tr>\n",
       "    <tr>\n",
       "      <th>1</th>\n",
       "      <td>Ford</td>\n",
       "      <td>Focus</td>\n",
       "      <td>1876000</td>\n",
       "    </tr>\n",
       "    <tr>\n",
       "      <th>2</th>\n",
       "      <td>Subaru</td>\n",
       "      <td>Forester</td>\n",
       "      <td>3245678</td>\n",
       "    </tr>\n",
       "    <tr>\n",
       "      <th>3</th>\n",
       "      <td>Nissan</td>\n",
       "      <td>Note</td>\n",
       "      <td>800000</td>\n",
       "    </tr>\n",
       "    <tr>\n",
       "      <th>4</th>\n",
       "      <td>BMW</td>\n",
       "      <td>520i</td>\n",
       "      <td>2250630</td>\n",
       "    </tr>\n",
       "  </tbody>\n",
       "</table>\n",
       "</div>"
      ],
      "text/plain": [
       "     make     model     msrp\n",
       "0  Toyota    Corola  2000000\n",
       "1    Ford     Focus  1876000\n",
       "2  Subaru  Forester  3245678\n",
       "3  Nissan      Note   800000\n",
       "4     BMW      520i  2250630"
      ]
     },
     "execution_count": 42,
     "metadata": {},
     "output_type": "execute_result"
    }
   ],
   "source": [
    "carData = pd.DataFrame(cars)\n",
    "carData"
   ]
  },
  {
   "cell_type": "code",
   "execution_count": 44,
   "id": "3955ea26",
   "metadata": {},
   "outputs": [
    {
     "data": {
      "text/plain": [
       "make     object\n",
       "model    object\n",
       "msrp      int64\n",
       "dtype: object"
      ]
     },
     "execution_count": 44,
     "metadata": {},
     "output_type": "execute_result"
    }
   ],
   "source": [
    "# column data types\n",
    "carData.dtypes"
   ]
  },
  {
   "cell_type": "code",
   "execution_count": 46,
   "id": "85fef199",
   "metadata": {},
   "outputs": [
    {
     "data": {
      "text/plain": [
       "Index(['make', 'model', 'msrp'], dtype='object')"
      ]
     },
     "execution_count": 46,
     "metadata": {},
     "output_type": "execute_result"
    }
   ],
   "source": [
    "# column titles\n",
    "carData.columns"
   ]
  },
  {
   "cell_type": "code",
   "execution_count": 48,
   "id": "02673c09",
   "metadata": {},
   "outputs": [
    {
     "data": {
      "text/plain": [
       "15"
      ]
     },
     "execution_count": 48,
     "metadata": {},
     "output_type": "execute_result"
    }
   ],
   "source": [
    "# number of elements\n",
    "carData.size"
   ]
  },
  {
   "cell_type": "code",
   "execution_count": 50,
   "id": "cda6ee44",
   "metadata": {},
   "outputs": [
    {
     "data": {
      "text/plain": [
       "0    Toyota\n",
       "1      Ford\n",
       "2    Subaru\n",
       "3    Nissan\n",
       "4       BMW\n",
       "Name: make, dtype: object"
      ]
     },
     "execution_count": 50,
     "metadata": {},
     "output_type": "execute_result"
    }
   ],
   "source": [
    "# select a column\n",
    "carData['make']"
   ]
  },
  {
   "cell_type": "code",
   "execution_count": 56,
   "id": "a683257e",
   "metadata": {},
   "outputs": [
    {
     "data": {
      "text/html": [
       "<div>\n",
       "<style scoped>\n",
       "    .dataframe tbody tr th:only-of-type {\n",
       "        vertical-align: middle;\n",
       "    }\n",
       "\n",
       "    .dataframe tbody tr th {\n",
       "        vertical-align: top;\n",
       "    }\n",
       "\n",
       "    .dataframe thead th {\n",
       "        text-align: right;\n",
       "    }\n",
       "</style>\n",
       "<table border=\"1\" class=\"dataframe\">\n",
       "  <thead>\n",
       "    <tr style=\"text-align: right;\">\n",
       "      <th></th>\n",
       "      <th>make</th>\n",
       "      <th>model</th>\n",
       "      <th>msrp</th>\n",
       "    </tr>\n",
       "  </thead>\n",
       "  <tbody>\n",
       "    <tr>\n",
       "      <th>1</th>\n",
       "      <td>Toyota</td>\n",
       "      <td>Corola</td>\n",
       "      <td>2000000</td>\n",
       "    </tr>\n",
       "    <tr>\n",
       "      <th>2</th>\n",
       "      <td>Ford</td>\n",
       "      <td>Focus</td>\n",
       "      <td>1876000</td>\n",
       "    </tr>\n",
       "    <tr>\n",
       "      <th>3</th>\n",
       "      <td>Subaru</td>\n",
       "      <td>Forester</td>\n",
       "      <td>3245678</td>\n",
       "    </tr>\n",
       "    <tr>\n",
       "      <th>4</th>\n",
       "      <td>Nissan</td>\n",
       "      <td>Note</td>\n",
       "      <td>800000</td>\n",
       "    </tr>\n",
       "    <tr>\n",
       "      <th>5</th>\n",
       "      <td>BMW</td>\n",
       "      <td>520i</td>\n",
       "      <td>2250630</td>\n",
       "    </tr>\n",
       "  </tbody>\n",
       "</table>\n",
       "</div>"
      ],
      "text/plain": [
       "     make     model     msrp\n",
       "1  Toyota    Corola  2000000\n",
       "2    Ford     Focus  1876000\n",
       "3  Subaru  Forester  3245678\n",
       "4  Nissan      Note   800000\n",
       "5     BMW      520i  2250630"
      ]
     },
     "execution_count": 56,
     "metadata": {},
     "output_type": "execute_result"
    }
   ],
   "source": [
    "# change the row indexes to more natural counting\n",
    "carData.index = [1, 2, 3, 4, 5]\n",
    "carData"
   ]
  },
  {
   "cell_type": "code",
   "execution_count": 57,
   "id": "fe9f40b8",
   "metadata": {},
   "outputs": [],
   "source": [
    "# add a new columns\n",
    "carData['Year'] = [2019, 2016, 2015, 2020, 2017]"
   ]
  },
  {
   "cell_type": "code",
   "execution_count": 58,
   "id": "e67947e4",
   "metadata": {},
   "outputs": [
    {
     "data": {
      "text/html": [
       "<div>\n",
       "<style scoped>\n",
       "    .dataframe tbody tr th:only-of-type {\n",
       "        vertical-align: middle;\n",
       "    }\n",
       "\n",
       "    .dataframe tbody tr th {\n",
       "        vertical-align: top;\n",
       "    }\n",
       "\n",
       "    .dataframe thead th {\n",
       "        text-align: right;\n",
       "    }\n",
       "</style>\n",
       "<table border=\"1\" class=\"dataframe\">\n",
       "  <thead>\n",
       "    <tr style=\"text-align: right;\">\n",
       "      <th></th>\n",
       "      <th>make</th>\n",
       "      <th>model</th>\n",
       "      <th>msrp</th>\n",
       "      <th>Year</th>\n",
       "    </tr>\n",
       "  </thead>\n",
       "  <tbody>\n",
       "    <tr>\n",
       "      <th>1</th>\n",
       "      <td>Toyota</td>\n",
       "      <td>Corola</td>\n",
       "      <td>2000000</td>\n",
       "      <td>2019</td>\n",
       "    </tr>\n",
       "    <tr>\n",
       "      <th>2</th>\n",
       "      <td>Ford</td>\n",
       "      <td>Focus</td>\n",
       "      <td>1876000</td>\n",
       "      <td>2016</td>\n",
       "    </tr>\n",
       "    <tr>\n",
       "      <th>3</th>\n",
       "      <td>Subaru</td>\n",
       "      <td>Forester</td>\n",
       "      <td>3245678</td>\n",
       "      <td>2015</td>\n",
       "    </tr>\n",
       "    <tr>\n",
       "      <th>4</th>\n",
       "      <td>Nissan</td>\n",
       "      <td>Note</td>\n",
       "      <td>800000</td>\n",
       "      <td>2020</td>\n",
       "    </tr>\n",
       "    <tr>\n",
       "      <th>5</th>\n",
       "      <td>BMW</td>\n",
       "      <td>520i</td>\n",
       "      <td>2250630</td>\n",
       "      <td>2017</td>\n",
       "    </tr>\n",
       "  </tbody>\n",
       "</table>\n",
       "</div>"
      ],
      "text/plain": [
       "     make     model     msrp  Year\n",
       "1  Toyota    Corola  2000000  2019\n",
       "2    Ford     Focus  1876000  2016\n",
       "3  Subaru  Forester  3245678  2015\n",
       "4  Nissan      Note   800000  2020\n",
       "5     BMW      520i  2250630  2017"
      ]
     },
     "execution_count": 58,
     "metadata": {},
     "output_type": "execute_result"
    }
   ],
   "source": [
    "carData"
   ]
  },
  {
   "cell_type": "markdown",
   "id": "6f978543",
   "metadata": {},
   "source": [
    "#### creating random values"
   ]
  },
  {
   "cell_type": "code",
   "execution_count": 59,
   "id": "508f071a",
   "metadata": {},
   "outputs": [
    {
     "data": {
      "text/plain": [
       "array([[-0.45741316,  0.35859425, -1.11369455],\n",
       "       [ 0.20279183,  0.00592733, -0.12741281],\n",
       "       [ 0.49664794, -0.02788434, -0.14991844],\n",
       "       [ 1.07127355, -1.00953751, -1.01426257],\n",
       "       [ 1.35799534,  1.15650423, -1.7440679 ]])"
      ]
     },
     "execution_count": 59,
     "metadata": {},
     "output_type": "execute_result"
    }
   ],
   "source": [
    "# create a random 5 * 3 numpy array\n",
    "rand = np.random.randn(5, 3)\n",
    "rand"
   ]
  },
  {
   "cell_type": "code",
   "execution_count": 60,
   "id": "9482f020",
   "metadata": {},
   "outputs": [],
   "source": [
    "# creat column names \n",
    "colname = ['X1', 'X2', 'X3']"
   ]
  },
  {
   "cell_type": "code",
   "execution_count": 62,
   "id": "c7ea0a70",
   "metadata": {},
   "outputs": [
    {
     "data": {
      "text/html": [
       "<div>\n",
       "<style scoped>\n",
       "    .dataframe tbody tr th:only-of-type {\n",
       "        vertical-align: middle;\n",
       "    }\n",
       "\n",
       "    .dataframe tbody tr th {\n",
       "        vertical-align: top;\n",
       "    }\n",
       "\n",
       "    .dataframe thead th {\n",
       "        text-align: right;\n",
       "    }\n",
       "</style>\n",
       "<table border=\"1\" class=\"dataframe\">\n",
       "  <thead>\n",
       "    <tr style=\"text-align: right;\">\n",
       "      <th></th>\n",
       "      <th>X1</th>\n",
       "      <th>X2</th>\n",
       "      <th>X3</th>\n",
       "    </tr>\n",
       "  </thead>\n",
       "  <tbody>\n",
       "    <tr>\n",
       "      <th>0</th>\n",
       "      <td>-0.457413</td>\n",
       "      <td>0.358594</td>\n",
       "      <td>-1.113695</td>\n",
       "    </tr>\n",
       "    <tr>\n",
       "      <th>1</th>\n",
       "      <td>0.202792</td>\n",
       "      <td>0.005927</td>\n",
       "      <td>-0.127413</td>\n",
       "    </tr>\n",
       "    <tr>\n",
       "      <th>2</th>\n",
       "      <td>0.496648</td>\n",
       "      <td>-0.027884</td>\n",
       "      <td>-0.149918</td>\n",
       "    </tr>\n",
       "    <tr>\n",
       "      <th>3</th>\n",
       "      <td>1.071274</td>\n",
       "      <td>-1.009538</td>\n",
       "      <td>-1.014263</td>\n",
       "    </tr>\n",
       "    <tr>\n",
       "      <th>4</th>\n",
       "      <td>1.357995</td>\n",
       "      <td>1.156504</td>\n",
       "      <td>-1.744068</td>\n",
       "    </tr>\n",
       "  </tbody>\n",
       "</table>\n",
       "</div>"
      ],
      "text/plain": [
       "         X1        X2        X3\n",
       "0 -0.457413  0.358594 -1.113695\n",
       "1  0.202792  0.005927 -0.127413\n",
       "2  0.496648 -0.027884 -0.149918\n",
       "3  1.071274 -1.009538 -1.014263\n",
       "4  1.357995  1.156504 -1.744068"
      ]
     },
     "execution_count": 62,
     "metadata": {},
     "output_type": "execute_result"
    }
   ],
   "source": [
    "# creating dataframe\n",
    "rand_df = pd.DataFrame(rand, columns = colname)\n",
    "rand_df"
   ]
  },
  {
   "cell_type": "code",
   "execution_count": 64,
   "id": "bfded5fc",
   "metadata": {},
   "outputs": [
    {
     "data": {
      "text/plain": [
       "-4.149356264395075"
      ]
     },
     "execution_count": 64,
     "metadata": {},
     "output_type": "execute_result"
    }
   ],
   "source": [
    "# sum of a column\n",
    "rand_df['X3'].sum()"
   ]
  },
  {
   "cell_type": "code",
   "execution_count": 65,
   "id": "cfc3f7ad",
   "metadata": {},
   "outputs": [
    {
     "data": {
      "text/html": [
       "<div>\n",
       "<style scoped>\n",
       "    .dataframe tbody tr th:only-of-type {\n",
       "        vertical-align: middle;\n",
       "    }\n",
       "\n",
       "    .dataframe tbody tr th {\n",
       "        vertical-align: top;\n",
       "    }\n",
       "\n",
       "    .dataframe thead th {\n",
       "        text-align: right;\n",
       "    }\n",
       "</style>\n",
       "<table border=\"1\" class=\"dataframe\">\n",
       "  <thead>\n",
       "    <tr style=\"text-align: right;\">\n",
       "      <th></th>\n",
       "      <th>X1</th>\n",
       "      <th>X2</th>\n",
       "      <th>X3</th>\n",
       "    </tr>\n",
       "  </thead>\n",
       "  <tbody>\n",
       "    <tr>\n",
       "      <th>count</th>\n",
       "      <td>5.000000</td>\n",
       "      <td>5.000000</td>\n",
       "      <td>5.000000</td>\n",
       "    </tr>\n",
       "    <tr>\n",
       "      <th>mean</th>\n",
       "      <td>0.534259</td>\n",
       "      <td>0.096721</td>\n",
       "      <td>-0.829871</td>\n",
       "    </tr>\n",
       "    <tr>\n",
       "      <th>std</th>\n",
       "      <td>0.717918</td>\n",
       "      <td>0.780912</td>\n",
       "      <td>0.690307</td>\n",
       "    </tr>\n",
       "    <tr>\n",
       "      <th>min</th>\n",
       "      <td>-0.457413</td>\n",
       "      <td>-1.009538</td>\n",
       "      <td>-1.744068</td>\n",
       "    </tr>\n",
       "    <tr>\n",
       "      <th>25%</th>\n",
       "      <td>0.202792</td>\n",
       "      <td>-0.027884</td>\n",
       "      <td>-1.113695</td>\n",
       "    </tr>\n",
       "    <tr>\n",
       "      <th>50%</th>\n",
       "      <td>0.496648</td>\n",
       "      <td>0.005927</td>\n",
       "      <td>-1.014263</td>\n",
       "    </tr>\n",
       "    <tr>\n",
       "      <th>75%</th>\n",
       "      <td>1.071274</td>\n",
       "      <td>0.358594</td>\n",
       "      <td>-0.149918</td>\n",
       "    </tr>\n",
       "    <tr>\n",
       "      <th>max</th>\n",
       "      <td>1.357995</td>\n",
       "      <td>1.156504</td>\n",
       "      <td>-0.127413</td>\n",
       "    </tr>\n",
       "  </tbody>\n",
       "</table>\n",
       "</div>"
      ],
      "text/plain": [
       "             X1        X2        X3\n",
       "count  5.000000  5.000000  5.000000\n",
       "mean   0.534259  0.096721 -0.829871\n",
       "std    0.717918  0.780912  0.690307\n",
       "min   -0.457413 -1.009538 -1.744068\n",
       "25%    0.202792 -0.027884 -1.113695\n",
       "50%    0.496648  0.005927 -1.014263\n",
       "75%    1.071274  0.358594 -0.149918\n",
       "max    1.357995  1.156504 -0.127413"
      ]
     },
     "execution_count": 65,
     "metadata": {},
     "output_type": "execute_result"
    }
   ],
   "source": [
    "# describe the data\n",
    "rand_df.describe()"
   ]
  },
  {
   "cell_type": "markdown",
   "id": "12bb900d",
   "metadata": {},
   "source": [
    "## Reading Data"
   ]
  },
  {
   "cell_type": "code",
   "execution_count": 67,
   "id": "ba423d1b",
   "metadata": {},
   "outputs": [
    {
     "data": {
      "text/html": [
       "<div>\n",
       "<style scoped>\n",
       "    .dataframe tbody tr th:only-of-type {\n",
       "        vertical-align: middle;\n",
       "    }\n",
       "\n",
       "    .dataframe tbody tr th {\n",
       "        vertical-align: top;\n",
       "    }\n",
       "\n",
       "    .dataframe thead th {\n",
       "        text-align: right;\n",
       "    }\n",
       "</style>\n",
       "<table border=\"1\" class=\"dataframe\">\n",
       "  <thead>\n",
       "    <tr style=\"text-align: right;\">\n",
       "      <th></th>\n",
       "      <th>PassengerId</th>\n",
       "      <th>Survived</th>\n",
       "      <th>Pclass</th>\n",
       "      <th>Name</th>\n",
       "      <th>Sex</th>\n",
       "      <th>Age</th>\n",
       "      <th>SibSp</th>\n",
       "      <th>Parch</th>\n",
       "      <th>Ticket</th>\n",
       "      <th>Fare</th>\n",
       "      <th>Cabin</th>\n",
       "      <th>Embarked</th>\n",
       "    </tr>\n",
       "  </thead>\n",
       "  <tbody>\n",
       "    <tr>\n",
       "      <th>0</th>\n",
       "      <td>1</td>\n",
       "      <td>0</td>\n",
       "      <td>3</td>\n",
       "      <td>Braund, Mr. Owen Harris</td>\n",
       "      <td>male</td>\n",
       "      <td>22.0</td>\n",
       "      <td>1</td>\n",
       "      <td>0</td>\n",
       "      <td>A/5 21171</td>\n",
       "      <td>7.2500</td>\n",
       "      <td>NaN</td>\n",
       "      <td>S</td>\n",
       "    </tr>\n",
       "    <tr>\n",
       "      <th>1</th>\n",
       "      <td>2</td>\n",
       "      <td>1</td>\n",
       "      <td>1</td>\n",
       "      <td>Cumings, Mrs. John Bradley (Florence Briggs Th...</td>\n",
       "      <td>female</td>\n",
       "      <td>38.0</td>\n",
       "      <td>1</td>\n",
       "      <td>0</td>\n",
       "      <td>PC 17599</td>\n",
       "      <td>71.2833</td>\n",
       "      <td>C85</td>\n",
       "      <td>C</td>\n",
       "    </tr>\n",
       "    <tr>\n",
       "      <th>2</th>\n",
       "      <td>3</td>\n",
       "      <td>1</td>\n",
       "      <td>3</td>\n",
       "      <td>Heikkinen, Miss. Laina</td>\n",
       "      <td>female</td>\n",
       "      <td>26.0</td>\n",
       "      <td>0</td>\n",
       "      <td>0</td>\n",
       "      <td>STON/O2. 3101282</td>\n",
       "      <td>7.9250</td>\n",
       "      <td>NaN</td>\n",
       "      <td>S</td>\n",
       "    </tr>\n",
       "    <tr>\n",
       "      <th>3</th>\n",
       "      <td>4</td>\n",
       "      <td>1</td>\n",
       "      <td>1</td>\n",
       "      <td>Futrelle, Mrs. Jacques Heath (Lily May Peel)</td>\n",
       "      <td>female</td>\n",
       "      <td>35.0</td>\n",
       "      <td>1</td>\n",
       "      <td>0</td>\n",
       "      <td>113803</td>\n",
       "      <td>53.1000</td>\n",
       "      <td>C123</td>\n",
       "      <td>S</td>\n",
       "    </tr>\n",
       "    <tr>\n",
       "      <th>4</th>\n",
       "      <td>5</td>\n",
       "      <td>0</td>\n",
       "      <td>3</td>\n",
       "      <td>Allen, Mr. William Henry</td>\n",
       "      <td>male</td>\n",
       "      <td>35.0</td>\n",
       "      <td>0</td>\n",
       "      <td>0</td>\n",
       "      <td>373450</td>\n",
       "      <td>8.0500</td>\n",
       "      <td>NaN</td>\n",
       "      <td>S</td>\n",
       "    </tr>\n",
       "    <tr>\n",
       "      <th>...</th>\n",
       "      <td>...</td>\n",
       "      <td>...</td>\n",
       "      <td>...</td>\n",
       "      <td>...</td>\n",
       "      <td>...</td>\n",
       "      <td>...</td>\n",
       "      <td>...</td>\n",
       "      <td>...</td>\n",
       "      <td>...</td>\n",
       "      <td>...</td>\n",
       "      <td>...</td>\n",
       "      <td>...</td>\n",
       "    </tr>\n",
       "    <tr>\n",
       "      <th>886</th>\n",
       "      <td>887</td>\n",
       "      <td>0</td>\n",
       "      <td>2</td>\n",
       "      <td>Montvila, Rev. Juozas</td>\n",
       "      <td>male</td>\n",
       "      <td>27.0</td>\n",
       "      <td>0</td>\n",
       "      <td>0</td>\n",
       "      <td>211536</td>\n",
       "      <td>13.0000</td>\n",
       "      <td>NaN</td>\n",
       "      <td>S</td>\n",
       "    </tr>\n",
       "    <tr>\n",
       "      <th>887</th>\n",
       "      <td>888</td>\n",
       "      <td>1</td>\n",
       "      <td>1</td>\n",
       "      <td>Graham, Miss. Margaret Edith</td>\n",
       "      <td>female</td>\n",
       "      <td>19.0</td>\n",
       "      <td>0</td>\n",
       "      <td>0</td>\n",
       "      <td>112053</td>\n",
       "      <td>30.0000</td>\n",
       "      <td>B42</td>\n",
       "      <td>S</td>\n",
       "    </tr>\n",
       "    <tr>\n",
       "      <th>888</th>\n",
       "      <td>889</td>\n",
       "      <td>0</td>\n",
       "      <td>3</td>\n",
       "      <td>Johnston, Miss. Catherine Helen \"Carrie\"</td>\n",
       "      <td>female</td>\n",
       "      <td>NaN</td>\n",
       "      <td>1</td>\n",
       "      <td>2</td>\n",
       "      <td>W./C. 6607</td>\n",
       "      <td>23.4500</td>\n",
       "      <td>NaN</td>\n",
       "      <td>S</td>\n",
       "    </tr>\n",
       "    <tr>\n",
       "      <th>889</th>\n",
       "      <td>890</td>\n",
       "      <td>1</td>\n",
       "      <td>1</td>\n",
       "      <td>Behr, Mr. Karl Howell</td>\n",
       "      <td>male</td>\n",
       "      <td>26.0</td>\n",
       "      <td>0</td>\n",
       "      <td>0</td>\n",
       "      <td>111369</td>\n",
       "      <td>30.0000</td>\n",
       "      <td>C148</td>\n",
       "      <td>C</td>\n",
       "    </tr>\n",
       "    <tr>\n",
       "      <th>890</th>\n",
       "      <td>891</td>\n",
       "      <td>0</td>\n",
       "      <td>3</td>\n",
       "      <td>Dooley, Mr. Patrick</td>\n",
       "      <td>male</td>\n",
       "      <td>32.0</td>\n",
       "      <td>0</td>\n",
       "      <td>0</td>\n",
       "      <td>370376</td>\n",
       "      <td>7.7500</td>\n",
       "      <td>NaN</td>\n",
       "      <td>Q</td>\n",
       "    </tr>\n",
       "  </tbody>\n",
       "</table>\n",
       "<p>891 rows × 12 columns</p>\n",
       "</div>"
      ],
      "text/plain": [
       "     PassengerId  Survived  Pclass  \\\n",
       "0              1         0       3   \n",
       "1              2         1       1   \n",
       "2              3         1       3   \n",
       "3              4         1       1   \n",
       "4              5         0       3   \n",
       "..           ...       ...     ...   \n",
       "886          887         0       2   \n",
       "887          888         1       1   \n",
       "888          889         0       3   \n",
       "889          890         1       1   \n",
       "890          891         0       3   \n",
       "\n",
       "                                                  Name     Sex   Age  SibSp  \\\n",
       "0                              Braund, Mr. Owen Harris    male  22.0      1   \n",
       "1    Cumings, Mrs. John Bradley (Florence Briggs Th...  female  38.0      1   \n",
       "2                               Heikkinen, Miss. Laina  female  26.0      0   \n",
       "3         Futrelle, Mrs. Jacques Heath (Lily May Peel)  female  35.0      1   \n",
       "4                             Allen, Mr. William Henry    male  35.0      0   \n",
       "..                                                 ...     ...   ...    ...   \n",
       "886                              Montvila, Rev. Juozas    male  27.0      0   \n",
       "887                       Graham, Miss. Margaret Edith  female  19.0      0   \n",
       "888           Johnston, Miss. Catherine Helen \"Carrie\"  female   NaN      1   \n",
       "889                              Behr, Mr. Karl Howell    male  26.0      0   \n",
       "890                                Dooley, Mr. Patrick    male  32.0      0   \n",
       "\n",
       "     Parch            Ticket     Fare Cabin Embarked  \n",
       "0        0         A/5 21171   7.2500   NaN        S  \n",
       "1        0          PC 17599  71.2833   C85        C  \n",
       "2        0  STON/O2. 3101282   7.9250   NaN        S  \n",
       "3        0            113803  53.1000  C123        S  \n",
       "4        0            373450   8.0500   NaN        S  \n",
       "..     ...               ...      ...   ...      ...  \n",
       "886      0            211536  13.0000   NaN        S  \n",
       "887      0            112053  30.0000   B42        S  \n",
       "888      2        W./C. 6607  23.4500   NaN        S  \n",
       "889      0            111369  30.0000  C148        C  \n",
       "890      0            370376   7.7500   NaN        Q  \n",
       "\n",
       "[891 rows x 12 columns]"
      ]
     },
     "execution_count": 67,
     "metadata": {},
     "output_type": "execute_result"
    }
   ],
   "source": [
    "# using readcsv\n",
    "path = 'titanic_train.csv'\n",
    "train = pd.read_csv(path)\n",
    "train"
   ]
  },
  {
   "cell_type": "code",
   "execution_count": null,
   "id": "3fcc663f",
   "metadata": {},
   "outputs": [],
   "source": [
    "# analysis on age \n",
    "age = train['age']"
   ]
  },
  {
   "cell_type": "code",
   "execution_count": null,
   "id": "1ef3a1c9",
   "metadata": {},
   "outputs": [],
   "source": [
    "age"
   ]
  }
 ],
 "metadata": {
  "kernelspec": {
   "display_name": "Python 3 (ipykernel)",
   "language": "python",
   "name": "python3"
  },
  "language_info": {
   "codemirror_mode": {
    "name": "ipython",
    "version": 3
   },
   "file_extension": ".py",
   "mimetype": "text/x-python",
   "name": "python",
   "nbconvert_exporter": "python",
   "pygments_lexer": "ipython3",
   "version": "3.10.9"
  }
 },
 "nbformat": 4,
 "nbformat_minor": 5
}
