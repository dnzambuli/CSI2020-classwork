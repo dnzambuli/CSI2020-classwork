{
 "cells": [
  {
   "cell_type": "markdown",
   "id": "05c2c0bb",
   "metadata": {},
   "source": [
    "# Using Numpy \n",
    "```python\n",
    "import numpy as np\n",
    "import sys\n",
    "```\n",
    "\n",
    "## basic info\n",
    "### What is numpy\n",
    "A multi-dimensional array data type\n",
    "### Why numpy over lists\n",
    "| Numpy array |list|\n",
    "|-------------|-----|\n",
    "|Fast - uses fixed types|Slow - uses object types|\n",
    "**Because numpy requires:**\n",
    "1. less memory to store values \n",
    "\n",
    "2. Doesn't require type checking of elements stored\n",
    "\n",
    "|Numpy array |list|\n",
    "|------------|-----|\n",
    "|uses contiguous memory| uses pointers to information in memory stak|\n",
    "\n",
    "- all elements in a numpy array are next to each other\n",
    "\n",
    "Makes use of ``**SIMD(single instrucction multiple data)**``\n",
    "- allows more efficient processing by the cpu. \n",
    "- allows for multiple data arithmetic\n",
    "\n",
    "Makes better use of the ```cache```\n",
    "- makes itteration easier\n",
    "- lowers load on memory lookup\n",
    "\n",
    "|Numpy array |list|\n",
    "|------------|-----|\n",
    "|value arithmetic| doesn't allow value arithmetic|\n",
    "\n",
    "## Application of Numpy\n",
    "- MATLAB replacement\n",
    "- Ploting(matplotlib)\n",
    "- Backend ```storing data``` (Pandas, connect 4, Digital photography)\n",
    "- allows for machine learning\n",
    "\n"
   ]
  },
  {
   "cell_type": "code",
   "execution_count": 1,
   "id": "8efdcf90",
   "metadata": {},
   "outputs": [],
   "source": [
    "# add numpy into the project\n",
    "# if it doesnt work use pip install on conda base\n",
    "import numpy as np"
   ]
  },
  {
   "cell_type": "markdown",
   "id": "bd337b64",
   "metadata": {},
   "source": [
    "### basics"
   ]
  },
  {
   "cell_type": "code",
   "execution_count": 3,
   "id": "47c4367d",
   "metadata": {},
   "outputs": [
    {
     "name": "stdout",
     "output_type": "stream",
     "text": [
      "[1 2 3]\n"
     ]
    }
   ],
   "source": [
    "# one dim array \n",
    "a = np.array([1,2, 3])\n",
    "print(a)"
   ]
  },
  {
   "cell_type": "code",
   "execution_count": 4,
   "id": "e23a84dd",
   "metadata": {},
   "outputs": [
    {
     "name": "stdout",
     "output_type": "stream",
     "text": [
      "[[1 2 3 4]\n",
      " [5 6 7 8]]\n"
     ]
    }
   ],
   "source": [
    "# multidimensional array\n",
    "b = np.array([[1, 2, 3, 4],[ 5, 6, 7, 8]])\n",
    "print(b)"
   ]
  },
  {
   "cell_type": "code",
   "execution_count": 5,
   "id": "de8eb743",
   "metadata": {},
   "outputs": [
    {
     "data": {
      "text/plain": [
       "1"
      ]
     },
     "execution_count": 5,
     "metadata": {},
     "output_type": "execute_result"
    }
   ],
   "source": [
    "# dimensions of a numpy array\n",
    "# size of a\n",
    "a.ndim"
   ]
  },
  {
   "cell_type": "code",
   "execution_count": 6,
   "id": "d3cc3108",
   "metadata": {},
   "outputs": [
    {
     "data": {
      "text/plain": [
       "2"
      ]
     },
     "execution_count": 6,
     "metadata": {},
     "output_type": "execute_result"
    }
   ],
   "source": [
    "# dims of b\n",
    "b.ndim"
   ]
  },
  {
   "cell_type": "code",
   "execution_count": 7,
   "id": "55f8fa59",
   "metadata": {},
   "outputs": [
    {
     "data": {
      "text/plain": [
       "(3,)"
      ]
     },
     "execution_count": 7,
     "metadata": {},
     "output_type": "execute_result"
    }
   ],
   "source": [
    "# shapes of arrays\n",
    "# returns (row, col)\n",
    "# shape a\n",
    "a.shape"
   ]
  },
  {
   "cell_type": "code",
   "execution_count": 8,
   "id": "942468aa",
   "metadata": {},
   "outputs": [
    {
     "data": {
      "text/plain": [
       "(2, 4)"
      ]
     },
     "execution_count": 8,
     "metadata": {},
     "output_type": "execute_result"
    }
   ],
   "source": [
    "# b shape\n",
    "b.shape"
   ]
  },
  {
   "cell_type": "code",
   "execution_count": 9,
   "id": "a96dc834",
   "metadata": {},
   "outputs": [
    {
     "data": {
      "text/plain": [
       "dtype('int32')"
      ]
     },
     "execution_count": 9,
     "metadata": {},
     "output_type": "execute_result"
    }
   ],
   "source": [
    "# data type in the array\n",
    "# data in a\n",
    "a.dtype"
   ]
  },
  {
   "cell_type": "code",
   "execution_count": 10,
   "id": "cb79993b",
   "metadata": {},
   "outputs": [
    {
     "data": {
      "text/plain": [
       "4"
      ]
     },
     "execution_count": 10,
     "metadata": {},
     "output_type": "execute_result"
    }
   ],
   "source": [
    "# space each value occupies\n",
    "# space in a\n",
    "a.itemsize"
   ]
  },
  {
   "cell_type": "code",
   "execution_count": 12,
   "id": "ac976412",
   "metadata": {},
   "outputs": [
    {
     "data": {
      "text/plain": [
       "12"
      ]
     },
     "execution_count": 12,
     "metadata": {},
     "output_type": "execute_result"
    }
   ],
   "source": [
    "# total space occipied\n",
    "# a total space\n",
    "a.itemsize * a.size"
   ]
  },
  {
   "cell_type": "markdown",
   "id": "d4ace6e7",
   "metadata": {},
   "source": [
    "#### Tip\n",
    "To change how data is stored in a numpy array create array as follows\n",
    "```python\n",
    "a = np.array([1, 2, 3], dtype = 'int16')\n",
    "# stores data as int16 instead of the default int32\n",
    "```\n",
    "\n",
    "to get the number of elements in an array \n",
    "```python\n",
    "a.size \n",
    "# returns 3\n",
    "```\n",
    "\n",
    "Instead of running ```a.itemsize * a.size``` to get total memory space.\n",
    "\n",
    "run \n",
    "```python\n",
    "a.nbytes\n",
    "# returns 12\n",
    "```\n",
    "\n",
    "**Notice:** ```floats``` occupy more memory space than ```ints``` by default"
   ]
  },
  {
   "cell_type": "markdown",
   "id": "b9023cc0",
   "metadata": {},
   "source": [
    "### Accessing and Manupulating elements "
   ]
  },
  {
   "cell_type": "code",
   "execution_count": null,
   "id": "a9ec9bc1",
   "metadata": {},
   "outputs": [],
   "source": []
  }
 ],
 "metadata": {
  "kernelspec": {
   "display_name": "Python 3 (ipykernel)",
   "language": "python",
   "name": "python3"
  },
  "language_info": {
   "codemirror_mode": {
    "name": "ipython",
    "version": 3
   },
   "file_extension": ".py",
   "mimetype": "text/x-python",
   "name": "python",
   "nbconvert_exporter": "python",
   "pygments_lexer": "ipython3",
   "version": "3.10.9"
  }
 },
 "nbformat": 4,
 "nbformat_minor": 5
}
