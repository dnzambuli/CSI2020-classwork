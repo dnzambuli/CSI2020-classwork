{
 "cells": [
  {
   "cell_type": "markdown",
   "id": "740c2792",
   "metadata": {},
   "source": [
    "# Using Numpy \n",
    "```python\n",
    "import numpy as np\n",
    "import sys\n",
    "```\n",
    "\n",
    "## basic info\n",
    "### What is numpy\n",
    "A multi-dimensional array data type\n",
    "### Why numpy over lists\n",
    "| Numpy array |list|\n",
    "|-------------|-----|\n",
    "|Fast - uses fixed types|Slow - uses object types|\n",
    "**Because numpy requires:**\n",
    "1. less memory to store values \n",
    "\n",
    "2. Doesn't require type checking of elements stored\n",
    "\n",
    "|Numpy array |list|\n",
    "|------------|-----|\n",
    "|uses contiguous memory| uses pointers to information in memory stak|\n",
    "\n",
    "- all elements in a numpy array are next to each other\n",
    "\n",
    "Makes use of ``**SIMD(single instrucction multiple data)**``\n",
    "- allows more efficient processing by the cpu. \n",
    "- allows for multiple data arithmetic\n",
    "\n",
    "Makes better use of the ```cache```\n",
    "- makes itteration easier\n",
    "- lowers load on memory lookup\n",
    "\n",
    "|Numpy array |list|\n",
    "|------------|-----|\n",
    "|value arithmetic| doesn't allow value arithmetic|\n",
    "\n",
    "## Application of Numpy\n",
    "- MATLAB replacement\n",
    "- Ploting(matplotlib)\n",
    "- Backend ```storing data``` (Pandas, connect 4, Digital photography)\n",
    "- allows for machine learning\n",
    "\n"
   ]
  },
  {
   "cell_type": "code",
   "execution_count": 1,
   "id": "2d8940d1",
   "metadata": {},
   "outputs": [],
   "source": [
    "# add numpy into the project\n",
    "# if it doesnt work use pip install on conda base\n",
    "import numpy as np"
   ]
  },
  {
   "cell_type": "markdown",
   "id": "ee272328",
   "metadata": {},
   "source": [
    "### basics"
   ]
  },
  {
   "cell_type": "code",
   "execution_count": 3,
   "id": "c583ca35",
   "metadata": {},
   "outputs": [
    {
     "name": "stdout",
     "output_type": "stream",
     "text": [
      "[1 2 3]\n"
     ]
    }
   ],
   "source": [
    "# one dim array \n",
    "a = np.array([1,2, 3])\n",
    "print(a)"
   ]
  },
  {
   "cell_type": "code",
   "execution_count": null,
   "id": "71d6b433",
   "metadata": {},
   "outputs": [],
   "source": []
  },
  {
   "cell_type": "code",
   "execution_count": null,
   "id": "ba0761d1",
   "metadata": {},
   "outputs": [],
   "source": []
  }
 ],
 "metadata": {
  "kernelspec": {
   "display_name": "Python 3 (ipykernel)",
   "language": "python",
   "name": "python3"
  },
  "language_info": {
   "codemirror_mode": {
    "name": "ipython",
    "version": 3
   },
   "file_extension": ".py",
   "mimetype": "text/x-python",
   "name": "python",
   "nbconvert_exporter": "python",
   "pygments_lexer": "ipython3",
   "version": "3.10.9"
  }
 },
 "nbformat": 4,
 "nbformat_minor": 5
}
