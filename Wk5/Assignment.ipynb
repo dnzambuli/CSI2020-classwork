{
 "cells": [
  {
   "cell_type": "markdown",
   "id": "9d315bc4",
   "metadata": {},
   "source": [
    "# Take Away Assignment\n",
    "Use the table below to select the ideal decision tree to use based on info gain\n",
    "|x|y|z|C|\n",
    "|---|---|---|---|\n",
    "|i|i|i|i|\n",
    "|i|i|0|i|\n",
    "|0|0|i|ii|\n",
    "|i|0|0|ii|"
   ]
  },
  {
   "cell_type": "code",
   "execution_count": 1,
   "id": "0f5c9736",
   "metadata": {},
   "outputs": [],
   "source": [
    "import numpy as np"
   ]
  },
  {
   "cell_type": "code",
   "execution_count": 8,
   "id": "58488192",
   "metadata": {},
   "outputs": [
    {
     "data": {
      "text/plain": [
       "1.0"
      ]
     },
     "execution_count": 8,
     "metadata": {},
     "output_type": "execute_result"
    }
   ],
   "source": [
    "# first decision tree\n",
    "par_one = 2\n",
    "par_two = 2\n",
    "par_tot = par_one + par_two\n",
    "par_one_ent = (-par_one/par_tot)* (np.log2(par_one/par_tot))\n",
    "par_two_ent = (-par_two/par_tot)* (np.log2(par_two/par_tot))\n",
    "# parent entropy\n",
    "par_ent = par_one_ent + par_two_ent \n",
    "par_ent"
   ]
  },
  {
   "cell_type": "code",
   "execution_count": 11,
   "id": "19c5286f",
   "metadata": {},
   "outputs": [
    {
     "data": {
      "text/plain": [
       "0.5"
      ]
     },
     "execution_count": 11,
     "metadata": {},
     "output_type": "execute_result"
    }
   ],
   "source": [
    "# first tree left child entropy\n",
    "one_lchild = 1\n",
    "one_lchild_tot = 1\n",
    "one_lchild_ent = (-one_lchild/one_lchidl_tot) * (np.log2(one_lchild/one_lchidl_tot))"
   ]
  }
 ],
 "metadata": {
  "kernelspec": {
   "display_name": "Python 3 (ipykernel)",
   "language": "python",
   "name": "python3"
  },
  "language_info": {
   "codemirror_mode": {
    "name": "ipython",
    "version": 3
   },
   "file_extension": ".py",
   "mimetype": "text/x-python",
   "name": "python",
   "nbconvert_exporter": "python",
   "pygments_lexer": "ipython3",
   "version": "3.10.9"
  }
 },
 "nbformat": 4,
 "nbformat_minor": 5
}
