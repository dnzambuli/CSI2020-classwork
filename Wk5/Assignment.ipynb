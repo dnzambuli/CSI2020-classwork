{
 "cells": [
  {
   "cell_type": "markdown",
   "id": "324c0ab2",
   "metadata": {},
   "source": [
    "# Take Away Assignment\n",
    "Use the table below to select the ideal decision tree to use based on info gain\n",
    "|x|y|z|C|\n",
    "|---|---|---|---|\n",
    "|i|i|i|i|\n",
    "|i|i|0|i|\n",
    "|0|0|i|ii|\n",
    "|i|0|0|ii|"
   ]
  },
  {
   "cell_type": "code",
   "execution_count": 1,
   "id": "1695b383",
   "metadata": {},
   "outputs": [],
   "source": [
    "import numpy as np"
   ]
  },
  {
   "cell_type": "code",
   "execution_count": 9,
   "id": "7fd18a10",
   "metadata": {},
   "outputs": [
    {
     "data": {
      "text/plain": [
       "1.0"
      ]
     },
     "execution_count": 9,
     "metadata": {},
     "output_type": "execute_result"
    }
   ],
   "source": [
    "# x decision tree\n",
    "par_one = 2\n",
    "par_two = 2\n",
    "par_tot = par_one + par_two\n",
    "par_one_ent = (-par_one/par_tot)* (np.log2(par_one/par_tot))\n",
    "par_two_ent = (-par_two/par_tot)* (np.log2(par_two/par_tot))\n",
    "# parent entropy\n",
    "par_ent = par_one_ent + par_two_ent \n",
    "par_ent"
   ]
  },
  {
   "cell_type": "code",
   "execution_count": 7,
   "id": "3efdabe4",
   "metadata": {},
   "outputs": [
    {
     "data": {
      "text/plain": [
       "-0.0"
      ]
     },
     "execution_count": 7,
     "metadata": {},
     "output_type": "execute_result"
    }
   ],
   "source": [
    "# x tree left child entropy\n",
    "x_lchild = 1\n",
    "x_lchild_tot = 1\n",
    "x_lchild_ent = (-x_lchild/x_lchild_tot) * (np.log2(x_lchild/x_lchild_tot))\n",
    "x_lchild_ent"
   ]
  },
  {
   "cell_type": "code",
   "execution_count": 8,
   "id": "e728422d",
   "metadata": {},
   "outputs": [
    {
     "data": {
      "text/plain": [
       "1.0"
      ]
     },
     "execution_count": 8,
     "metadata": {},
     "output_type": "execute_result"
    }
   ],
   "source": [
    "# x tree left child weight\n",
    "x_Lchild_avg_val = x_lchild_tot/par_tot * x_lchild_ent\n",
    "x_lchild_weight = par_ent - x_Lchild_avg_val\n",
    "x_lchild_weight"
   ]
  },
  {
   "cell_type": "code",
   "execution_count": 10,
   "id": "698df9d5",
   "metadata": {},
   "outputs": [
    {
     "data": {
      "text/plain": [
       "3"
      ]
     },
     "execution_count": 10,
     "metadata": {},
     "output_type": "execute_result"
    }
   ],
   "source": [
    "# x right child \n",
    "x_rchild_one = 2\n",
    "x_rchild_two = 1\n",
    "x_rchild_tot = x_rchild_one + x_rchild_two\n",
    "x_rchild_tot"
   ]
  },
  {
   "cell_type": "code",
   "execution_count": 12,
   "id": "b269c8dc",
   "metadata": {},
   "outputs": [
    {
     "data": {
      "text/plain": [
       "0.9182958340544896"
      ]
     },
     "execution_count": 12,
     "metadata": {},
     "output_type": "execute_result"
    }
   ],
   "source": [
    "x_r_one_ent = (-x_rchild_one/x_rchild_tot) * (np.log2(x_rchild_one/x_rchild_tot))\n",
    "x_r_two_ent = (-x_rchild_two/x_rchild_tot) * (np.log2(x_rchild_two/x_rchild_tot))\n",
    "x_r_ent = x_r_one_ent + x_r_two_ent\n",
    "x_r_ent"
   ]
  },
  {
   "cell_type": "code",
   "execution_count": 13,
   "id": "47c380a3",
   "metadata": {},
   "outputs": [
    {
     "data": {
      "text/plain": [
       "0.31127812445913283"
      ]
     },
     "execution_count": 13,
     "metadata": {},
     "output_type": "execute_result"
    }
   ],
   "source": [
    "# right child weight\n",
    "x_rchild_avg_val = x_rchild_tot/ par_tot * x_r_ent\n",
    "x_rchild_weight = par_ent - x_rchild_avg_val\n",
    "x_rchild_weight"
   ]
  },
  {
   "cell_type": "code",
   "execution_count": 14,
   "id": "b0e9c8cb",
   "metadata": {},
   "outputs": [
    {
     "data": {
      "text/plain": [
       "1.311278124459133"
      ]
     },
     "execution_count": 14,
     "metadata": {},
     "output_type": "execute_result"
    }
   ],
   "source": [
    "# total info gain\n",
    "x_info_gain = x_lchild_weight + x_rchild_weight\n",
    "x_info_gain"
   ]
  },
  {
   "cell_type": "markdown",
   "id": "da455308",
   "metadata": {},
   "source": [
    "## moving to the y attributre decision tree\n",
    "***Notice*** similar parent values. ie\n",
    "\n",
    "|i|i|\n",
    "|---|---|\n",
    "|ii|ii|"
   ]
  },
  {
   "cell_type": "code",
   "execution_count": 15,
   "id": "a103fddd",
   "metadata": {},
   "outputs": [
    {
     "data": {
      "text/plain": [
       "4"
      ]
     },
     "execution_count": 15,
     "metadata": {},
     "output_type": "execute_result"
    }
   ],
   "source": [
    "y_par_tot = par_tot\n",
    "y_par_tot"
   ]
  },
  {
   "cell_type": "code",
   "execution_count": 17,
   "id": "9d019c4e",
   "metadata": {},
   "outputs": [
    {
     "data": {
      "text/plain": [
       "1.0"
      ]
     },
     "execution_count": 17,
     "metadata": {},
     "output_type": "execute_result"
    }
   ],
   "source": [
    "# y parent entropy\n",
    "y_ent = par_ent\n",
    "y_ent"
   ]
  },
  {
   "cell_type": "markdown",
   "id": "e448a063",
   "metadata": {},
   "source": [
    "## y child elements \n",
    "1. **right child**\n",
    "\n",
    "|ii|ii|\n",
    "|---|---|\n",
    "\n",
    "2. **left child**\n",
    "\n",
    "|i|i|\n",
    "|---|---|"
   ]
  },
  {
   "cell_type": "code",
   "execution_count": 18,
   "id": "00df2405",
   "metadata": {},
   "outputs": [
    {
     "data": {
      "text/plain": [
       "2"
      ]
     },
     "execution_count": 18,
     "metadata": {},
     "output_type": "execute_result"
    }
   ],
   "source": [
    "# right child \n",
    "y_rchild_two = 2\n",
    "y_rchild_one = 0\n",
    "y_rchild_tot = y_rchild_one + y_rchild_two\n",
    "y_rchild_tot"
   ]
  },
  {
   "cell_type": "code",
   "execution_count": 24,
   "id": "ecaa39e0",
   "metadata": {},
   "outputs": [
    {
     "data": {
      "text/plain": [
       "0.0"
      ]
     },
     "execution_count": 24,
     "metadata": {},
     "output_type": "execute_result"
    }
   ],
   "source": [
    "# notice log2(0) results in a divide by zero error\n",
    "y_rtwo_ent = (-y_rchild_two/ y_rchild_tot) * (np.log2(y_rchild_two/ y_rchild_tot))\n",
    "# y_rone_ent = (-y_rchild_one/ y_rchild_tot) * (np.log2(y_rchild_one/ y_rchild_tot))\n",
    "y_rchild_ent = 0 + y_rtwo_ent\n",
    "y_rchild_ent"
   ]
  },
  {
   "cell_type": "code",
   "execution_count": 26,
   "id": "91544d55",
   "metadata": {},
   "outputs": [
    {
     "data": {
      "text/plain": [
       "-0.0"
      ]
     },
     "execution_count": 26,
     "metadata": {},
     "output_type": "execute_result"
    }
   ],
   "source": [
    "# left child\n",
    "y_lchild_ent = (-2/2)* np.log2(2/2)\n",
    "y_lchild_ent"
   ]
  },
  {
   "cell_type": "code",
   "execution_count": 27,
   "id": "2bb46388",
   "metadata": {},
   "outputs": [
    {
     "data": {
      "text/plain": [
       "1.0"
      ]
     },
     "execution_count": 27,
     "metadata": {},
     "output_type": "execute_result"
    }
   ],
   "source": [
    "y_rchild_avg = y_rchild_tot /par_tot * y_lchild_ent\n",
    "y_rchild_weight = par_ent - y_rchild_avg\n",
    "y_rchild_weight"
   ]
  },
  {
   "cell_type": "code",
   "execution_count": 28,
   "id": "03e62423",
   "metadata": {},
   "outputs": [
    {
     "data": {
      "text/plain": [
       "1.0"
      ]
     },
     "execution_count": 28,
     "metadata": {},
     "output_type": "execute_result"
    }
   ],
   "source": [
    "# left child weight \n",
    "y_lchild_avg = 2 /par_tot * y_lchild_ent\n",
    "y_lchild_weight = par_ent - y_lchild_avg\n",
    "y_lchild_weight"
   ]
  },
  {
   "cell_type": "code",
   "execution_count": 29,
   "id": "bee05625",
   "metadata": {},
   "outputs": [
    {
     "data": {
      "text/plain": [
       "2.0"
      ]
     },
     "execution_count": 29,
     "metadata": {},
     "output_type": "execute_result"
    }
   ],
   "source": [
    "y_tot_weight = y_lchild_weight + y_rchild_weight\n",
    "y_tot_weight"
   ]
  },
  {
   "cell_type": "markdown",
   "id": "4c686298",
   "metadata": {},
   "source": [
    "# z child elements\n",
    "1. **right child**\n",
    "|i|ii|\n",
    "|--|--|\n",
    "2. **left child**\n",
    "|i|ii|\n",
    "|--|--|"
   ]
  },
  {
   "cell_type": "code",
   "execution_count": 31,
   "id": "62aba98b",
   "metadata": {},
   "outputs": [
    {
     "data": {
      "text/plain": [
       "2"
      ]
     },
     "execution_count": 31,
     "metadata": {},
     "output_type": "execute_result"
    }
   ],
   "source": [
    "# right child\n",
    "z_one = 1\n",
    "z_two = 1\n",
    "z_tot = z_one + z_two\n",
    "z_tot"
   ]
  },
  {
   "cell_type": "code",
   "execution_count": 33,
   "id": "2a90ffa8",
   "metadata": {},
   "outputs": [
    {
     "data": {
      "text/plain": [
       "1.0"
      ]
     },
     "execution_count": 33,
     "metadata": {},
     "output_type": "execute_result"
    }
   ],
   "source": [
    "# z child entropy\n",
    "z_one_ent = (-z_one/z_tot) * np.log2(z_one/z_tot)\n",
    "z_two_ent = (-z_two/z_tot) * np.log2(z_two/z_tot)\n",
    "z_child_ent = z_one_ent + z_two_ent\n",
    "z_child_ent"
   ]
  },
  {
   "cell_type": "code",
   "execution_count": 35,
   "id": "77169240",
   "metadata": {},
   "outputs": [
    {
     "data": {
      "text/plain": [
       "0.5"
      ]
     },
     "execution_count": 35,
     "metadata": {},
     "output_type": "execute_result"
    }
   ],
   "source": [
    "# child weight\n",
    "z_avg_val = z_tot/ par_tot * z_child_ent\n",
    "z_avg_val"
   ]
  },
  {
   "cell_type": "code",
   "execution_count": 36,
   "id": "bb3d6a0c",
   "metadata": {},
   "outputs": [
    {
     "data": {
      "text/plain": [
       "0.5"
      ]
     },
     "execution_count": 36,
     "metadata": {},
     "output_type": "execute_result"
    }
   ],
   "source": [
    "z_weight = par_ent - z_avg_val\n",
    "z_weight"
   ]
  },
  {
   "cell_type": "code",
   "execution_count": 37,
   "id": "d03650ce",
   "metadata": {},
   "outputs": [
    {
     "data": {
      "text/plain": [
       "1.0"
      ]
     },
     "execution_count": 37,
     "metadata": {},
     "output_type": "execute_result"
    }
   ],
   "source": [
    "z_tot_weight = z_weight * 2\n",
    "z_tot_weight"
   ]
  },
  {
   "cell_type": "markdown",
   "id": "dbff59a5",
   "metadata": {},
   "source": [
    "## The best decision tree by weight is \n",
    "tree with ```y``` attribute"
   ]
  }
 ],
 "metadata": {
  "kernelspec": {
   "display_name": "Python 3 (ipykernel)",
   "language": "python",
   "name": "python3"
  },
  "language_info": {
   "codemirror_mode": {
    "name": "ipython",
    "version": 3
   },
   "file_extension": ".py",
   "mimetype": "text/x-python",
   "name": "python",
   "nbconvert_exporter": "python",
   "pygments_lexer": "ipython3",
   "version": "3.10.9"
  }
 },
 "nbformat": 4,
 "nbformat_minor": 5
}
