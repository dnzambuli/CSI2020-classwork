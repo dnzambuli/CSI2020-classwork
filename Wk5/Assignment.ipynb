{
 "cells": [
  {
   "cell_type": "markdown",
   "id": "324c0ab2",
   "metadata": {},
   "source": [
    "# Take Away Assignment\n",
    "Use the table below to select the ideal decision tree to use based on info gain\n",
    "|x|y|z|C|\n",
    "|---|---|---|---|\n",
    "|i|i|i|i|\n",
    "|i|i|0|i|\n",
    "|0|0|i|ii|\n",
    "|i|0|0|ii|"
   ]
  },
  {
   "cell_type": "code",
   "execution_count": 1,
   "id": "1695b383",
   "metadata": {},
   "outputs": [],
   "source": [
    "import numpy as np"
   ]
  },
  {
   "cell_type": "code",
   "execution_count": 9,
   "id": "7fd18a10",
   "metadata": {},
   "outputs": [
    {
     "data": {
      "text/plain": [
       "1.0"
      ]
     },
     "execution_count": 9,
     "metadata": {},
     "output_type": "execute_result"
    }
   ],
   "source": [
    "# x decision tree\n",
    "par_one = 2\n",
    "par_two = 2\n",
    "par_tot = par_one + par_two\n",
    "par_one_ent = (-par_one/par_tot)* (np.log2(par_one/par_tot))\n",
    "par_two_ent = (-par_two/par_tot)* (np.log2(par_two/par_tot))\n",
    "# parent entropy\n",
    "par_ent = par_one_ent + par_two_ent \n",
    "par_ent"
   ]
  },
  {
   "cell_type": "code",
   "execution_count": 7,
   "id": "3efdabe4",
   "metadata": {},
   "outputs": [
    {
     "data": {
      "text/plain": [
       "-0.0"
      ]
     },
     "execution_count": 7,
     "metadata": {},
     "output_type": "execute_result"
    }
   ],
   "source": [
    "# x tree left child entropy\n",
    "x_lchild = 1\n",
    "x_lchild_tot = 1\n",
    "x_lchild_ent = (-x_lchild/x_lchild_tot) * (np.log2(x_lchild/x_lchild_tot))\n",
    "x_lchild_ent"
   ]
  },
  {
   "cell_type": "code",
   "execution_count": 8,
   "id": "f5bd76d4",
   "metadata": {},
   "outputs": [
    {
     "data": {
      "text/plain": [
       "1.0"
      ]
     },
     "execution_count": 8,
     "metadata": {},
     "output_type": "execute_result"
    }
   ],
   "source": [
    "# x tree left child weight\n",
    "x_Lchild_avg_val = x_lchild_tot/par_tot * x_lchild_ent\n",
    "x_lchild_weight = par_ent - x_Lchild_avg_val\n",
    "x_lchild_weight"
   ]
  },
  {
   "cell_type": "code",
   "execution_count": 10,
   "id": "52b31191",
   "metadata": {},
   "outputs": [
    {
     "data": {
      "text/plain": [
       "3"
      ]
     },
     "execution_count": 10,
     "metadata": {},
     "output_type": "execute_result"
    }
   ],
   "source": [
    "# x right child \n",
    "x_rchild_one = 2\n",
    "x_rchild_two = 1\n",
    "x_rchild_tot = x_rchild_one + x_rchild_two\n",
    "x_rchild_tot"
   ]
  },
  {
   "cell_type": "code",
   "execution_count": 12,
   "id": "5786d6e7",
   "metadata": {},
   "outputs": [
    {
     "data": {
      "text/plain": [
       "0.9182958340544896"
      ]
     },
     "execution_count": 12,
     "metadata": {},
     "output_type": "execute_result"
    }
   ],
   "source": [
    "x_r_one_ent = (-x_rchild_one/x_rchild_tot) * (np.log2(x_rchild_one/x_rchild_tot))\n",
    "x_r_two_ent = (-x_rchild_two/x_rchild_tot) * (np.log2(x_rchild_two/x_rchild_tot))\n",
    "x_r_ent = x_r_one_ent + x_r_two_ent\n",
    "x_r_ent"
   ]
  },
  {
   "cell_type": "code",
   "execution_count": 13,
   "id": "8721897d",
   "metadata": {},
   "outputs": [
    {
     "data": {
      "text/plain": [
       "0.31127812445913283"
      ]
     },
     "execution_count": 13,
     "metadata": {},
     "output_type": "execute_result"
    }
   ],
   "source": [
    "# right child weight\n",
    "x_rchild_avg_val = x_rchild_tot/ par_tot * x_r_ent\n",
    "x_rchild_weight = par_ent - x_rchild_avg_val\n",
    "x_rchild_weight"
   ]
  },
  {
   "cell_type": "code",
   "execution_count": 14,
   "id": "5e334166",
   "metadata": {},
   "outputs": [
    {
     "data": {
      "text/plain": [
       "1.311278124459133"
      ]
     },
     "execution_count": 14,
     "metadata": {},
     "output_type": "execute_result"
    }
   ],
   "source": [
    "# total info gain\n",
    "x_info_gain = x_lchild_weight + x_rchild_weight\n",
    "x_info_gain"
   ]
  },
  {
   "cell_type": "markdown",
   "id": "269c8b90",
   "metadata": {},
   "source": [
    "## moving to the y attributre decision tree\n",
    "***Notice*** similar parent values. ie\n",
    "\n",
    "|i|i|\n",
    "|---|---|\n",
    "|ii|ii|"
   ]
  },
  {
   "cell_type": "code",
   "execution_count": 15,
   "id": "43307089",
   "metadata": {},
   "outputs": [
    {
     "data": {
      "text/plain": [
       "4"
      ]
     },
     "execution_count": 15,
     "metadata": {},
     "output_type": "execute_result"
    }
   ],
   "source": [
    "y_par_tot = par_tot\n",
    "y_par_tot"
   ]
  },
  {
   "cell_type": "code",
   "execution_count": null,
   "id": "370f0698",
   "metadata": {},
   "outputs": [],
   "source": []
  }
 ],
 "metadata": {
  "kernelspec": {
   "display_name": "Python 3 (ipykernel)",
   "language": "python",
   "name": "python3"
  },
  "language_info": {
   "codemirror_mode": {
    "name": "ipython",
    "version": 3
   },
   "file_extension": ".py",
   "mimetype": "text/x-python",
   "name": "python",
   "nbconvert_exporter": "python",
   "pygments_lexer": "ipython3",
   "version": "3.10.9"
  }
 },
 "nbformat": 4,
 "nbformat_minor": 5
}
