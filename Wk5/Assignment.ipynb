{
 "cells": [
  {
   "cell_type": "markdown",
   "id": "324c0ab2",
   "metadata": {},
   "source": [
    "# Take Away Assignment\n",
    "Use the table below to select the ideal decision tree to use based on info gain\n",
    "|x|y|z|C|\n",
    "|---|---|---|---|\n",
    "|i|i|i|i|\n",
    "|i|i|0|i|\n",
    "|0|0|i|ii|\n",
    "|i|0|0|ii|"
   ]
  },
  {
   "cell_type": "code",
   "execution_count": 1,
   "id": "1695b383",
   "metadata": {},
   "outputs": [],
   "source": [
    "import numpy as np"
   ]
  },
  {
   "cell_type": "code",
   "execution_count": 9,
   "id": "7fd18a10",
   "metadata": {},
   "outputs": [
    {
     "data": {
      "text/plain": [
       "1.0"
      ]
     },
     "execution_count": 9,
     "metadata": {},
     "output_type": "execute_result"
    }
   ],
   "source": [
    "# x decision tree\n",
    "par_one = 2\n",
    "par_two = 2\n",
    "par_tot = par_one + par_two\n",
    "par_one_ent = (-par_one/par_tot)* (np.log2(par_one/par_tot))\n",
    "par_two_ent = (-par_two/par_tot)* (np.log2(par_two/par_tot))\n",
    "# parent entropy\n",
    "par_ent = par_one_ent + par_two_ent \n",
    "par_ent"
   ]
  },
  {
   "cell_type": "code",
   "execution_count": 7,
   "id": "3efdabe4",
   "metadata": {},
   "outputs": [
    {
     "data": {
      "text/plain": [
       "-0.0"
      ]
     },
     "execution_count": 7,
     "metadata": {},
     "output_type": "execute_result"
    }
   ],
   "source": [
    "# x tree left child entropy\n",
    "x_lchild = 1\n",
    "x_lchild_tot = 1\n",
    "x_lchild_ent = (-x_lchild/x_lchild_tot) * (np.log2(x_lchild/x_lchild_tot))\n",
    "x_lchild_ent"
   ]
  },
  {
   "cell_type": "code",
   "execution_count": 8,
   "id": "1b1a5737",
   "metadata": {},
   "outputs": [
    {
     "data": {
      "text/plain": [
       "1.0"
      ]
     },
     "execution_count": 8,
     "metadata": {},
     "output_type": "execute_result"
    }
   ],
   "source": [
    "# x tree left child weight\n",
    "x_Lchild_avg_val = x_lchild_tot/par_tot * x_lchild_ent\n",
    "x_lchild_weight = par_ent - x_Lchild_avg_val\n",
    "x_lchild_weight"
   ]
  },
  {
   "cell_type": "code",
   "execution_count": null,
   "id": "310c558a",
   "metadata": {},
   "outputs": [],
   "source": [
    "# x right child \n",
    "x_rchild_one = 2\n",
    "x_rchild_two = 1\n",
    "x_rchild_tot = x_rchild_one + x_"
   ]
  }
 ],
 "metadata": {
  "kernelspec": {
   "display_name": "Python 3 (ipykernel)",
   "language": "python",
   "name": "python3"
  },
  "language_info": {
   "codemirror_mode": {
    "name": "ipython",
    "version": 3
   },
   "file_extension": ".py",
   "mimetype": "text/x-python",
   "name": "python",
   "nbconvert_exporter": "python",
   "pygments_lexer": "ipython3",
   "version": "3.10.9"
  }
 },
 "nbformat": 4,
 "nbformat_minor": 5
}
