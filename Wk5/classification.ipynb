{
 "cells": [
  {
   "cell_type": "markdown",
   "id": "6c831bcf",
   "metadata": {},
   "source": [
    "## Entropy\n",
    "the measure \n",
    "\n",
    "green 14\n",
    "red 16\n",
    "\n",
    "### Entropy formula\n",
    "\n",
    "$$\n",
    "\\left\\{-\\frac{x}{y}\\right\\} * \\left\\{np.log2(\\frac{x}{y})\\right\\}\n",
    "$$"
   ]
  },
  {
   "cell_type": "code",
   "execution_count": 2,
   "id": "e41db612",
   "metadata": {},
   "outputs": [],
   "source": [
    "import numpy as np\n"
   ]
  },
  {
   "cell_type": "code",
   "execution_count": 7,
   "id": "a1910827",
   "metadata": {},
   "outputs": [
    {
     "data": {
      "text/plain": [
       "0.48367498432454326"
      ]
     },
     "execution_count": 7,
     "metadata": {},
     "output_type": "execute_result"
    }
   ],
   "source": [
    "e_red = -16/30*(np.log2(16/30))\n",
    "e_red"
   ]
  },
  {
   "cell_type": "code",
   "execution_count": 9,
   "id": "e3d2ae62",
   "metadata": {},
   "outputs": [
    {
     "data": {
      "text/plain": [
       "0.5131166476570933"
      ]
     },
     "execution_count": 9,
     "metadata": {},
     "output_type": "execute_result"
    }
   ],
   "source": [
    "e_green =-14/30*(np.log2(14/30))\n",
    "e_green"
   ]
  },
  {
   "cell_type": "code",
   "execution_count": 11,
   "id": "047032e2",
   "metadata": {},
   "outputs": [
    {
     "data": {
      "text/plain": [
       "0.9967916319816366"
      ]
     },
     "execution_count": 11,
     "metadata": {},
     "output_type": "execute_result"
    }
   ],
   "source": [
    "# parent entropy\n",
    "p_ent = e_green + e_red\n",
    "p_ent"
   ]
  },
  {
   "cell_type": "code",
   "execution_count": 12,
   "id": "813f62eb",
   "metadata": {},
   "outputs": [],
   "source": [
    "# right child \n",
    "red = 16\n",
    "green = 14"
   ]
  },
  {
   "cell_type": "code",
   "execution_count": 17,
   "id": "e17a7863",
   "metadata": {},
   "outputs": [],
   "source": [
    "r_red  = 15\n",
    "r_green = 2\n",
    "r_tot = r_red +r_green"
   ]
  },
  {
   "cell_type": "code",
   "execution_count": 21,
   "id": "5a75b6c6",
   "metadata": {},
   "outputs": [
    {
     "data": {
      "text/plain": [
       "0.5225593745369408"
      ]
     },
     "execution_count": 21,
     "metadata": {},
     "output_type": "execute_result"
    }
   ],
   "source": [
    "# right entropy\n",
    "r_ent = ((-r_red/r_tot*(np.log2(r_red/r_tot))) +-r_green/r_tot*(np.log2(r_green/r_tot))  )\n",
    "r_ent"
   ]
  },
  {
   "cell_type": "code",
   "execution_count": 19,
   "id": "29c0dc7c",
   "metadata": {},
   "outputs": [],
   "source": [
    "l_red = 1\n",
    "l_green = 12\n",
    "l_tot = l_red + l_green\n"
   ]
  },
  {
   "cell_type": "code",
   "execution_count": 22,
   "id": "304c62ea",
   "metadata": {},
   "outputs": [
    {
     "data": {
      "text/plain": [
       "0.39124356362925566"
      ]
     },
     "execution_count": 22,
     "metadata": {},
     "output_type": "execute_result"
    }
   ],
   "source": [
    "# left entropy\n",
    "l_ent = ((-l_red/l_tot*(np.log2(l_red/l_tot))) +-l_green/l_tot*(np.log2(l_green/l_tot))  )\n",
    "l_ent"
   ]
  },
  {
   "cell_type": "code",
   "execution_count": 23,
   "id": "44ead767",
   "metadata": {},
   "outputs": [
    {
     "data": {
      "text/plain": [
       "0.9138029381661965"
      ]
     },
     "execution_count": 23,
     "metadata": {},
     "output_type": "execute_result"
    }
   ],
   "source": [
    "l_ent + r_ent"
   ]
  },
  {
   "cell_type": "code",
   "execution_count": 25,
   "id": "01ba78ef",
   "metadata": {},
   "outputs": [],
   "source": [
    "par_tot = 30"
   ]
  },
  {
   "cell_type": "code",
   "execution_count": 29,
   "id": "c25903a0",
   "metadata": {},
   "outputs": [
    {
     "data": {
      "text/plain": [
       "0.16953887757267747"
      ]
     },
     "execution_count": 29,
     "metadata": {},
     "output_type": "execute_result"
    }
   ],
   "source": [
    "# left child total \n",
    "l_avg_val = l_tot/ par_tot * l_ent\n",
    "l_avg_val"
   ]
  },
  {
   "cell_type": "code",
   "execution_count": 30,
   "id": "e35cf8f6",
   "metadata": {},
   "outputs": [
    {
     "data": {
      "text/plain": [
       "0.2961169789042664"
      ]
     },
     "execution_count": 30,
     "metadata": {},
     "output_type": "execute_result"
    }
   ],
   "source": [
    "# right child tot\n",
    "r_avg_val = r_tot/par_tot * r_ent\n",
    "r_avg_val"
   ]
  },
  {
   "cell_type": "code",
   "execution_count": 31,
   "id": "f0174211",
   "metadata": {},
   "outputs": [
    {
     "data": {
      "text/plain": [
       "0.8272527544089591"
      ]
     },
     "execution_count": 31,
     "metadata": {},
     "output_type": "execute_result"
    }
   ],
   "source": [
    "# information gain\n",
    "# parent entropy - left child average value\n",
    "l_info = p_ent - l_avg_val\n",
    "l_info"
   ]
  },
  {
   "cell_type": "code",
   "execution_count": 33,
   "id": "04b57cd2",
   "metadata": {},
   "outputs": [
    {
     "data": {
      "text/plain": [
       "0.7006746530773702"
      ]
     },
     "execution_count": 33,
     "metadata": {},
     "output_type": "execute_result"
    }
   ],
   "source": [
    "# right child info gain\n",
    "r_info = p_ent - r_avg_val\n",
    "r_info"
   ]
  },
  {
   "cell_type": "code",
   "execution_count": null,
   "id": "c9cd95af",
   "metadata": {},
   "outputs": [],
   "source": []
  }
 ],
 "metadata": {
  "kernelspec": {
   "display_name": "Python 3 (ipykernel)",
   "language": "python",
   "name": "python3"
  },
  "language_info": {
   "codemirror_mode": {
    "name": "ipython",
    "version": 3
   },
   "file_extension": ".py",
   "mimetype": "text/x-python",
   "name": "python",
   "nbconvert_exporter": "python",
   "pygments_lexer": "ipython3",
   "version": "3.10.9"
  }
 },
 "nbformat": 4,
 "nbformat_minor": 5
}
