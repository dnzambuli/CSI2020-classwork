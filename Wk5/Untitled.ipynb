{
 "cells": [
  {
   "cell_type": "markdown",
   "id": "da719cbe",
   "metadata": {},
   "source": [
    "## Entropy\n",
    "the measure \n",
    "\n",
    "green 14\n",
    "red 16\n",
    "\n",
    "### Entropy formula\n",
    "$$\n",
    "\\left{-\\frac{x}{y} * \\left{np.log2(\\frac{x}{y})\\right}\\right}\n",
    "$$"
   ]
  },
  {
   "cell_type": "code",
   "execution_count": 2,
   "id": "4ce48b0f",
   "metadata": {},
   "outputs": [],
   "source": [
    "import numpy as np\n"
   ]
  },
  {
   "cell_type": "code",
   "execution_count": 7,
   "id": "bc7e162f",
   "metadata": {},
   "outputs": [
    {
     "data": {
      "text/plain": [
       "0.48367498432454326"
      ]
     },
     "execution_count": 7,
     "metadata": {},
     "output_type": "execute_result"
    }
   ],
   "source": [
    "e_red = -16/30*(np.log2(16/30))\n",
    "e_red"
   ]
  },
  {
   "cell_type": "code",
   "execution_count": 9,
   "id": "bcdf65e1",
   "metadata": {},
   "outputs": [
    {
     "data": {
      "text/plain": [
       "0.5131166476570933"
      ]
     },
     "execution_count": 9,
     "metadata": {},
     "output_type": "execute_result"
    }
   ],
   "source": [
    "e_green =-14/30*(np.log2(14/30))\n",
    "e_green"
   ]
  },
  {
   "cell_type": "code",
   "execution_count": 11,
   "id": "1cc5379b",
   "metadata": {},
   "outputs": [
    {
     "data": {
      "text/plain": [
       "0.9967916319816366"
      ]
     },
     "execution_count": 11,
     "metadata": {},
     "output_type": "execute_result"
    }
   ],
   "source": [
    "# parent entropy\n",
    "p_ent = e_green + e_red\n",
    "p_ent"
   ]
  },
  {
   "cell_type": "code",
   "execution_count": 12,
   "id": "ec0b2299",
   "metadata": {},
   "outputs": [],
   "source": [
    "# right child \n",
    "red = 16\n",
    "green = 14"
   ]
  },
  {
   "cell_type": "code",
   "execution_count": 17,
   "id": "dda64fe7",
   "metadata": {},
   "outputs": [],
   "source": [
    "r_red  = 15\n",
    "r_green = 2\n",
    "r_tot = r_red +r_green"
   ]
  },
  {
   "cell_type": "code",
   "execution_count": 21,
   "id": "b1c069bc",
   "metadata": {},
   "outputs": [
    {
     "data": {
      "text/plain": [
       "0.5225593745369408"
      ]
     },
     "execution_count": 21,
     "metadata": {},
     "output_type": "execute_result"
    }
   ],
   "source": [
    "# right entropy\n",
    "r_ent = ((-r_red/r_tot*(np.log2(r_red/r_tot))) +-r_green/r_tot*(np.log2(r_green/r_tot))  )\n",
    "r_ent"
   ]
  },
  {
   "cell_type": "code",
   "execution_count": 19,
   "id": "ff40a3e8",
   "metadata": {},
   "outputs": [],
   "source": [
    "l_red = 1\n",
    "l_green = 12\n",
    "l_tot = l_red + l_green\n"
   ]
  },
  {
   "cell_type": "code",
   "execution_count": 22,
   "id": "d1dcbd1f",
   "metadata": {},
   "outputs": [
    {
     "data": {
      "text/plain": [
       "0.39124356362925566"
      ]
     },
     "execution_count": 22,
     "metadata": {},
     "output_type": "execute_result"
    }
   ],
   "source": [
    "# left entropy\n",
    "l_ent = ((-l_red/l_tot*(np.log2(l_red/l_tot))) +-l_green/l_tot*(np.log2(l_green/l_tot))  )\n",
    "l_ent"
   ]
  },
  {
   "cell_type": "code",
   "execution_count": 23,
   "id": "181a6769",
   "metadata": {},
   "outputs": [
    {
     "data": {
      "text/plain": [
       "0.9138029381661965"
      ]
     },
     "execution_count": 23,
     "metadata": {},
     "output_type": "execute_result"
    }
   ],
   "source": [
    "l_ent + r_ent"
   ]
  },
  {
   "cell_type": "code",
   "execution_count": null,
   "id": "4b62b81b",
   "metadata": {},
   "outputs": [],
   "source": []
  }
 ],
 "metadata": {
  "kernelspec": {
   "display_name": "Python 3 (ipykernel)",
   "language": "python",
   "name": "python3"
  },
  "language_info": {
   "codemirror_mode": {
    "name": "ipython",
    "version": 3
   },
   "file_extension": ".py",
   "mimetype": "text/x-python",
   "name": "python",
   "nbconvert_exporter": "python",
   "pygments_lexer": "ipython3",
   "version": "3.10.9"
  }
 },
 "nbformat": 4,
 "nbformat_minor": 5
}
