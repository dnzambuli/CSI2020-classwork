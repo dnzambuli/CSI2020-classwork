{
 "cells": [
  {
   "cell_type": "markdown",
   "id": "813da453",
   "metadata": {},
   "source": [
    "## Entropy\n",
    "the measure \n",
    "\n",
    "green 14\n",
    "red 16\n",
    "\n",
    "### Entropy formula\n",
    "```MathJax\n",
    "$\\left{-\\frac{x}{y} * \\left{np.log2(\\frac{x}{y})\\right}\\right}$\n",
    "```"
   ]
  },
  {
   "cell_type": "code",
   "execution_count": 2,
   "id": "eda120d9",
   "metadata": {},
   "outputs": [],
   "source": [
    "import numpy as np\n"
   ]
  },
  {
   "cell_type": "code",
   "execution_count": 7,
   "id": "fb940d9c",
   "metadata": {},
   "outputs": [
    {
     "data": {
      "text/plain": [
       "0.48367498432454326"
      ]
     },
     "execution_count": 7,
     "metadata": {},
     "output_type": "execute_result"
    }
   ],
   "source": [
    "e_red = -16/30*(np.log2(16/30))\n",
    "e_red"
   ]
  },
  {
   "cell_type": "code",
   "execution_count": 9,
   "id": "611fb28a",
   "metadata": {},
   "outputs": [
    {
     "data": {
      "text/plain": [
       "0.5131166476570933"
      ]
     },
     "execution_count": 9,
     "metadata": {},
     "output_type": "execute_result"
    }
   ],
   "source": [
    "e_green =-14/30*(np.log2(14/30))\n",
    "e_green"
   ]
  },
  {
   "cell_type": "code",
   "execution_count": 11,
   "id": "9705c06d",
   "metadata": {},
   "outputs": [
    {
     "data": {
      "text/plain": [
       "0.9967916319816366"
      ]
     },
     "execution_count": 11,
     "metadata": {},
     "output_type": "execute_result"
    }
   ],
   "source": [
    "# parent entropy\n",
    "p_ent = e_green + e_red\n",
    "p_ent"
   ]
  },
  {
   "cell_type": "code",
   "execution_count": 12,
   "id": "14f9dd92",
   "metadata": {},
   "outputs": [],
   "source": [
    "# right child \n",
    "red = 16\n",
    "green = 14"
   ]
  },
  {
   "cell_type": "code",
   "execution_count": 17,
   "id": "68152d27",
   "metadata": {},
   "outputs": [],
   "source": [
    "r_red  = 15\n",
    "r_green = 2\n",
    "r_tot = r_red +r_green"
   ]
  },
  {
   "cell_type": "code",
   "execution_count": 21,
   "id": "46d05108",
   "metadata": {},
   "outputs": [
    {
     "data": {
      "text/plain": [
       "0.5225593745369408"
      ]
     },
     "execution_count": 21,
     "metadata": {},
     "output_type": "execute_result"
    }
   ],
   "source": [
    "# right entropy\n",
    "r_ent = ((-r_red/r_tot*(np.log2(r_red/r_tot))) +-r_green/r_tot*(np.log2(r_green/r_tot))  )\n",
    "r_ent"
   ]
  },
  {
   "cell_type": "code",
   "execution_count": 19,
   "id": "b2f4ab54",
   "metadata": {},
   "outputs": [],
   "source": [
    "l_red = 1\n",
    "l_green = 12\n",
    "l_tot = l_red + l_green\n"
   ]
  },
  {
   "cell_type": "code",
   "execution_count": 22,
   "id": "2b96b498",
   "metadata": {},
   "outputs": [
    {
     "data": {
      "text/plain": [
       "0.39124356362925566"
      ]
     },
     "execution_count": 22,
     "metadata": {},
     "output_type": "execute_result"
    }
   ],
   "source": [
    "# left entropy\n",
    "l_ent = ((-l_red/l_tot*(np.log2(l_red/l_tot))) +-l_green/l_tot*(np.log2(l_green/l_tot))  )\n",
    "l_ent"
   ]
  },
  {
   "cell_type": "code",
   "execution_count": 23,
   "id": "6676b109",
   "metadata": {},
   "outputs": [
    {
     "data": {
      "text/plain": [
       "0.9138029381661965"
      ]
     },
     "execution_count": 23,
     "metadata": {},
     "output_type": "execute_result"
    }
   ],
   "source": [
    "l_ent + r_ent"
   ]
  },
  {
   "cell_type": "code",
   "execution_count": 25,
   "id": "ad1f3229",
   "metadata": {},
   "outputs": [],
   "source": [
    "par_tot = 30"
   ]
  },
  {
   "cell_type": "code",
   "execution_count": 29,
   "id": "31e0bd92",
   "metadata": {},
   "outputs": [
    {
     "data": {
      "text/plain": [
       "0.16953887757267747"
      ]
     },
     "execution_count": 29,
     "metadata": {},
     "output_type": "execute_result"
    }
   ],
   "source": [
    "# left child total \n",
    "l_avg_val = l_tot/ par_tot * l_ent\n",
    "l_avg_val"
   ]
  },
  {
   "cell_type": "code",
   "execution_count": 27,
   "id": "7c912fde",
   "metadata": {},
   "outputs": [
    {
     "data": {
      "text/plain": [
       "0.2961169789042664"
      ]
     },
     "execution_count": 27,
     "metadata": {},
     "output_type": "execute_result"
    }
   ],
   "source": [
    "# right child tot\n",
    "r_tot/par_tot * r_ent"
   ]
  },
  {
   "cell_type": "code",
   "execution_count": null,
   "id": "3c2d107b",
   "metadata": {},
   "outputs": [],
   "source": [
    "# information gain\n",
    "# parent entropy - left child average value\n",
    "left_info = p_ent - "
   ]
  }
 ],
 "metadata": {
  "kernelspec": {
   "display_name": "Python 3 (ipykernel)",
   "language": "python",
   "name": "python3"
  },
  "language_info": {
   "codemirror_mode": {
    "name": "ipython",
    "version": 3
   },
   "file_extension": ".py",
   "mimetype": "text/x-python",
   "name": "python",
   "nbconvert_exporter": "python",
   "pygments_lexer": "ipython3",
   "version": "3.10.9"
  }
 },
 "nbformat": 4,
 "nbformat_minor": 5
}
