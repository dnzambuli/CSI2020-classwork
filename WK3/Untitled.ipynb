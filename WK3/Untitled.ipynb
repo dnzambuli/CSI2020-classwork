{
 "cells": [
  {
   "cell_type": "markdown",
   "id": "348f5442",
   "metadata": {},
   "source": [
    "## Introduction to Numpy and Pandas\n",
    "\n",
    "### Numpy\n",
    "Also ```Numerical Python```.\n",
    "\n",
    "Is a library for developing matrixes and multidimensional arrays \n",
    "\n",
    "```python3\n",
    "import numpy as np\n",
    "```\n",
    "```np``` - is a an **alias** for numpy as used within a file."
   ]
  },
  {
   "cell_type": "code",
   "execution_count": 2,
   "id": "89d0a6be",
   "metadata": {},
   "outputs": [],
   "source": [
    "# including numpy in the project\n",
    "import numpy as np "
   ]
  },
  {
   "cell_type": "code",
   "execution_count": 3,
   "id": "d1142cb5",
   "metadata": {},
   "outputs": [
    {
     "data": {
      "text/plain": [
       "list"
      ]
     },
     "execution_count": 3,
     "metadata": {},
     "output_type": "execute_result"
    }
   ],
   "source": [
    "# creating a one dim array\n",
    "# starting with a list\n",
    "l = [1, 2, 3, 4, 5]\n",
    "\n",
    "# confirm the type \n",
    "type(l)"
   ]
  },
  {
   "cell_type": "code",
   "execution_count": 5,
   "id": "b2659341",
   "metadata": {},
   "outputs": [
    {
     "data": {
      "text/plain": [
       "numpy.ndarray"
      ]
     },
     "execution_count": 5,
     "metadata": {},
     "output_type": "execute_result"
    }
   ],
   "source": [
    "# creating a one dim\n",
    "oneDim = np.array(l)\n",
    "\n",
    "# confirm type\n",
    "type(oneDim)"
   ]
  },
  {
   "cell_type": "code",
   "execution_count": 6,
   "id": "095c820d",
   "metadata": {},
   "outputs": [
    {
     "data": {
      "text/plain": [
       "1"
      ]
     },
     "execution_count": 6,
     "metadata": {},
     "output_type": "execute_result"
    }
   ],
   "source": [
    "# count number of rows \n",
    "oneDim.ndim"
   ]
  },
  {
   "cell_type": "code",
   "execution_count": 7,
   "id": "99a065ac",
   "metadata": {},
   "outputs": [
    {
     "data": {
      "text/plain": [
       "(5,)"
      ]
     },
     "execution_count": 7,
     "metadata": {},
     "output_type": "execute_result"
    }
   ],
   "source": [
    "# counting number of columns\n",
    "oneDim.shape "
   ]
  },
  {
   "cell_type": "code",
   "execution_count": 14,
   "id": "2c3e13f9",
   "metadata": {},
   "outputs": [
    {
     "data": {
      "text/plain": [
       "dtype('int32')"
      ]
     },
     "execution_count": 14,
     "metadata": {},
     "output_type": "execute_result"
    }
   ],
   "source": [
    "# check the data type \n",
    "oneDim.dtype"
   ]
  },
  {
   "cell_type": "code",
   "execution_count": 15,
   "id": "bacb89be",
   "metadata": {},
   "outputs": [
    {
     "name": "stdout",
     "output_type": "stream",
     "text": [
      "[1 2 3 4 5]\n"
     ]
    },
    {
     "data": {
      "text/plain": [
       "array([1, 2, 3, 4, 5])"
      ]
     },
     "execution_count": 15,
     "metadata": {},
     "output_type": "execute_result"
    }
   ],
   "source": [
    "# transposition\n",
    "print(oneDim)\n",
    "t = oneDim.T\n",
    "t"
   ]
  },
  {
   "cell_type": "markdown",
   "id": "fc6f6772",
   "metadata": {},
   "source": [
    "## Python Data Type\n",
    "### integers\n",
    "```python\n",
    "x = 9\n",
    "print(type(x))\n",
    "```\n",
    "**output**\n",
    "```\n",
    ">> int\n",
    "```\n",
    "### floats\n",
    "```python\n",
    "x = 9.0\n",
    "print(type(x))\n",
    "```\n",
    "**output**\n",
    "```\n",
    ">> float\n",
    "```\n",
    "### Booleans\n",
    "```python\n",
    "x = True\n",
    "print(type(x))\n",
    "```\n",
    "**output**\n",
    "```\n",
    ">> Bool\n",
    "```\n",
    "### String\n",
    "```python\n",
    "x = 'hello'\n",
    "print(type(x))\n",
    "```\n",
    "**output**\n",
    "```\n",
    ">> str\n",
    "```\n",
    "### list\n",
    "```python\n",
    "x = [9.0, 1, 2, 4]\n",
    "print(type(x))\n",
    "```\n",
    "**output**\n",
    "```\n",
    ">> list\n",
    "```\n",
    "### tuple\n",
    "```python\n",
    "x = (9.0, 1, 2, 4)\n",
    "print(type(x))\n",
    "```\n",
    "**output**\n",
    "```\n",
    ">> tuple\n",
    "```"
   ]
  },
  {
   "cell_type": "markdown",
   "id": "4fd93cf4",
   "metadata": {},
   "source": [
    "### np.array().T\n",
    "- transposes arrays of greater than two dimensions "
   ]
  },
  {
   "cell_type": "code",
   "execution_count": 19,
   "id": "396a95bf",
   "metadata": {},
   "outputs": [],
   "source": [
    "# creating an array with 3 rows and 4 columns \n",
    "# using arange(start, stop, step) to create a random number array\n",
    "samp = np.arange(12)"
   ]
  },
  {
   "cell_type": "code",
   "execution_count": 20,
   "id": "01293330",
   "metadata": {},
   "outputs": [
    {
     "data": {
      "text/plain": [
       "array([ 0,  1,  2,  3,  4,  5,  6,  7,  8,  9, 10, 11])"
      ]
     },
     "execution_count": 20,
     "metadata": {},
     "output_type": "execute_result"
    }
   ],
   "source": [
    "samp"
   ]
  },
  {
   "cell_type": "code",
   "execution_count": 21,
   "id": "a3066cb4",
   "metadata": {},
   "outputs": [
    {
     "data": {
      "text/plain": [
       "array([[ 0,  1,  2,  3],\n",
       "       [ 4,  5,  6,  7],\n",
       "       [ 8,  9, 10, 11]])"
      ]
     },
     "execution_count": 21,
     "metadata": {},
     "output_type": "execute_result"
    }
   ],
   "source": [
    "# rearange the array to be 3 * 4\n",
    "re_samp = samp.reshape(3, 4)\n",
    "re_samp"
   ]
  },
  {
   "cell_type": "code",
   "execution_count": 23,
   "id": "6e505f14",
   "metadata": {},
   "outputs": [
    {
     "data": {
      "text/plain": [
       "array([0.        , 0.11111111, 0.22222222, 0.33333333, 0.44444444,\n",
       "       0.55555556, 0.66666667, 0.77777778, 0.88888889, 1.        ])"
      ]
     },
     "execution_count": 23,
     "metadata": {},
     "output_type": "execute_result"
    }
   ],
   "source": [
    "# create values equaly spaced between two numbers\n",
    "# using np.linspace(start, stop, number of numbers)\n",
    "# uses an arithmetic progression\n",
    "equal = np.linspace(0, 1, 10)\n",
    "equal"
   ]
  },
  {
   "cell_type": "code",
   "execution_count": 24,
   "id": "0fd9d30b",
   "metadata": {},
   "outputs": [
    {
     "data": {
      "text/plain": [
       "array([  10.        ,   19.30697729,   37.2759372 ,   71.9685673 ,\n",
       "        138.94954944,  268.26957953,  517.94746792, 1000.        ])"
      ]
     },
     "execution_count": 24,
     "metadata": {},
     "output_type": "execute_result"
    }
   ],
   "source": [
    "# dividing a region with such that first number is log10(start) last number is log10(end)\n",
    "# notice all numbers are equally spaced logs\n",
    "logs = np.logspace(1, 3, 8)\n",
    "logs"
   ]
  },
  {
   "cell_type": "code",
   "execution_count": 27,
   "id": "1c72973e",
   "metadata": {},
   "outputs": [
    {
     "data": {
      "text/plain": [
       "array([[0., 0., 0., 0.],\n",
       "       [0., 0., 0., 0.]])"
      ]
     },
     "execution_count": 27,
     "metadata": {},
     "output_type": "execute_result"
    }
   ],
   "source": [
    "# generating a random n-dim array of just zeros\n",
    "# notice that it accepts a tuple as input\n",
    "nil = np.zeros((2, 4))\n",
    "nil"
   ]
  },
  {
   "cell_type": "code",
   "execution_count": null,
   "id": "30889518",
   "metadata": {},
   "outputs": [],
   "source": [
    "# one vector of length 6\n",
    "one = np.ones(6)\n",
    "one\n",
    "# one matrix of ones (4*4)\n"
   ]
  },
  {
   "cell_type": "code",
   "execution_count": null,
   "id": "8bd606ea",
   "metadata": {},
   "outputs": [],
   "source": []
  }
 ],
 "metadata": {
  "kernelspec": {
   "display_name": "Python 3 (ipykernel)",
   "language": "python",
   "name": "python3"
  },
  "language_info": {
   "codemirror_mode": {
    "name": "ipython",
    "version": 3
   },
   "file_extension": ".py",
   "mimetype": "text/x-python",
   "name": "python",
   "nbconvert_exporter": "python",
   "pygments_lexer": "ipython3",
   "version": "3.10.9"
  }
 },
 "nbformat": 4,
 "nbformat_minor": 5
}
