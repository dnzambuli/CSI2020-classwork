{
 "cells": [
  {
   "cell_type": "markdown",
   "id": "25a16e15",
   "metadata": {},
   "source": [
    "## Introduction to Numpy and Pandas\n",
    "\n",
    "### Numpy\n",
    "Also ```Numerical Python```.\n",
    "\n",
    "Is a library for developing matrixes and multidimensional arrays \n",
    "\n",
    "```python3\n",
    "import numpy as np\n",
    "```\n",
    "```np``` - is a an **alias** for numpy as used within a file."
   ]
  },
  {
   "cell_type": "code",
   "execution_count": 2,
   "id": "459c362c",
   "metadata": {},
   "outputs": [],
   "source": [
    "# including numpy in the project\n",
    "import numpy as np "
   ]
  },
  {
   "cell_type": "code",
   "execution_count": 3,
   "id": "a6309f6a",
   "metadata": {},
   "outputs": [
    {
     "data": {
      "text/plain": [
       "list"
      ]
     },
     "execution_count": 3,
     "metadata": {},
     "output_type": "execute_result"
    }
   ],
   "source": [
    "# creating a one dim array\n",
    "# starting with a list\n",
    "l = [1, 2, 3, 4, 5]\n",
    "\n",
    "# confirm the type \n",
    "type(l)"
   ]
  },
  {
   "cell_type": "code",
   "execution_count": 5,
   "id": "db479e9c",
   "metadata": {},
   "outputs": [
    {
     "data": {
      "text/plain": [
       "numpy.ndarray"
      ]
     },
     "execution_count": 5,
     "metadata": {},
     "output_type": "execute_result"
    }
   ],
   "source": [
    "# creating a one dim\n",
    "oneDim = np.array(l)\n",
    "\n",
    "# confirm type\n",
    "type(oneDim)"
   ]
  },
  {
   "cell_type": "code",
   "execution_count": 6,
   "id": "e0170fa3",
   "metadata": {},
   "outputs": [
    {
     "data": {
      "text/plain": [
       "1"
      ]
     },
     "execution_count": 6,
     "metadata": {},
     "output_type": "execute_result"
    }
   ],
   "source": [
    "# count number of rows \n",
    "oneDim.ndim"
   ]
  },
  {
   "cell_type": "code",
   "execution_count": 7,
   "id": "a9d34a56",
   "metadata": {},
   "outputs": [
    {
     "data": {
      "text/plain": [
       "(5,)"
      ]
     },
     "execution_count": 7,
     "metadata": {},
     "output_type": "execute_result"
    }
   ],
   "source": [
    "# counting number of columns\n",
    "oneDim.shape "
   ]
  },
  {
   "cell_type": "code",
   "execution_count": 14,
   "id": "0d1c6355",
   "metadata": {},
   "outputs": [
    {
     "data": {
      "text/plain": [
       "dtype('int32')"
      ]
     },
     "execution_count": 14,
     "metadata": {},
     "output_type": "execute_result"
    }
   ],
   "source": [
    "# check the data type \n",
    "oneDim.dtype"
   ]
  },
  {
   "cell_type": "code",
   "execution_count": 15,
   "id": "8d91b160",
   "metadata": {},
   "outputs": [
    {
     "name": "stdout",
     "output_type": "stream",
     "text": [
      "[1 2 3 4 5]\n"
     ]
    },
    {
     "data": {
      "text/plain": [
       "array([1, 2, 3, 4, 5])"
      ]
     },
     "execution_count": 15,
     "metadata": {},
     "output_type": "execute_result"
    }
   ],
   "source": [
    "# transposition\n",
    "print(oneDim)\n",
    "t = oneDim.T\n",
    "t"
   ]
  },
  {
   "cell_type": "markdown",
   "id": "eaa9827d",
   "metadata": {},
   "source": [
    "## Python Data Type\n",
    "### integers\n",
    "```python\n",
    "x = 9\n",
    "print(type(x))\n",
    "```\n",
    "**output**\n",
    "```\n",
    ">> int\n",
    "```\n",
    "### floats\n",
    "```python\n",
    "x = 9.0\n",
    "print(type(x))\n",
    "```\n",
    "**output**\n",
    "```\n",
    ">> float\n",
    "```\n",
    "### Booleans\n",
    "```python\n",
    "x = True\n",
    "print(type(x))\n",
    "```\n",
    "**output**\n",
    "```\n",
    ">> Bool\n",
    "```\n",
    "### String\n",
    "```python\n",
    "x = 'hello'\n",
    "print(type(x))\n",
    "```\n",
    "**output**\n",
    "```\n",
    ">> str\n",
    "```\n",
    "### list\n",
    "```python\n",
    "x = [9.0, 1, 2, 4]\n",
    "print(type(x))\n",
    "```\n",
    "**output**\n",
    "```\n",
    ">> list\n",
    "```\n",
    "### tuple\n",
    "```python\n",
    "x = (9.0, 1, 2, 4)\n",
    "print(type(x))\n",
    "```\n",
    "**output**\n",
    "```\n",
    ">> tuple\n",
    "```"
   ]
  },
  {
   "cell_type": "markdown",
   "id": "d67b7fc3",
   "metadata": {},
   "source": [
    "### np.array().T\n",
    "- transposes arrays of greater than two dimensions "
   ]
  },
  {
   "cell_type": "code",
   "execution_count": 19,
   "id": "1fc4a2ea",
   "metadata": {},
   "outputs": [],
   "source": [
    "# creating an array with 3 rows and 4 columns \n",
    "# using arange(start, stop, step) to create a random number array\n",
    "samp = np.arange(12)"
   ]
  },
  {
   "cell_type": "code",
   "execution_count": 20,
   "id": "02b3ae04",
   "metadata": {},
   "outputs": [
    {
     "data": {
      "text/plain": [
       "array([ 0,  1,  2,  3,  4,  5,  6,  7,  8,  9, 10, 11])"
      ]
     },
     "execution_count": 20,
     "metadata": {},
     "output_type": "execute_result"
    }
   ],
   "source": [
    "samp"
   ]
  },
  {
   "cell_type": "code",
   "execution_count": 21,
   "id": "e2ee0690",
   "metadata": {},
   "outputs": [
    {
     "data": {
      "text/plain": [
       "array([[ 0,  1,  2,  3],\n",
       "       [ 4,  5,  6,  7],\n",
       "       [ 8,  9, 10, 11]])"
      ]
     },
     "execution_count": 21,
     "metadata": {},
     "output_type": "execute_result"
    }
   ],
   "source": [
    "# rearange the array to be 3 * 4\n",
    "re_samp = samp.reshape(3, 4)\n",
    "re_samp"
   ]
  },
  {
   "cell_type": "code",
   "execution_count": 23,
   "id": "a87bb8a6",
   "metadata": {},
   "outputs": [
    {
     "data": {
      "text/plain": [
       "array([0.        , 0.11111111, 0.22222222, 0.33333333, 0.44444444,\n",
       "       0.55555556, 0.66666667, 0.77777778, 0.88888889, 1.        ])"
      ]
     },
     "execution_count": 23,
     "metadata": {},
     "output_type": "execute_result"
    }
   ],
   "source": [
    "# create values equaly spaced between two numbers\n",
    "# using np.linspace(start, stop, number of numbers)\n",
    "# uses an arithmetic progression\n",
    "equal = np.linspace(0, 1, 10)\n",
    "equal"
   ]
  },
  {
   "cell_type": "code",
   "execution_count": 24,
   "id": "b30bbe1c",
   "metadata": {},
   "outputs": [
    {
     "data": {
      "text/plain": [
       "array([  10.        ,   19.30697729,   37.2759372 ,   71.9685673 ,\n",
       "        138.94954944,  268.26957953,  517.94746792, 1000.        ])"
      ]
     },
     "execution_count": 24,
     "metadata": {},
     "output_type": "execute_result"
    }
   ],
   "source": [
    "# dividing a region with such that first number is log10(start) last number is log10(end)\n",
    "# notice all numbers are equally spaced logs\n",
    "logs = np.logspace(1, 3, 8)\n",
    "logs"
   ]
  },
  {
   "cell_type": "code",
   "execution_count": 27,
   "id": "9ffc4a20",
   "metadata": {},
   "outputs": [
    {
     "data": {
      "text/plain": [
       "array([[0., 0., 0., 0.],\n",
       "       [0., 0., 0., 0.]])"
      ]
     },
     "execution_count": 27,
     "metadata": {},
     "output_type": "execute_result"
    }
   ],
   "source": [
    "# generating a random n-dim array of just zeros\n",
    "# notice that it accepts a tuple as input\n",
    "nil = np.zeros((2, 4))\n",
    "nil"
   ]
  },
  {
   "cell_type": "code",
   "execution_count": 29,
   "id": "5b3dc27c",
   "metadata": {},
   "outputs": [
    {
     "data": {
      "text/plain": [
       "array([1., 1., 1., 1., 1., 1.])"
      ]
     },
     "execution_count": 29,
     "metadata": {},
     "output_type": "execute_result"
    }
   ],
   "source": [
    "# one vector of length 6\n",
    "one = np.ones(6)\n",
    "one\n"
   ]
  },
  {
   "cell_type": "code",
   "execution_count": 30,
   "id": "5c877179",
   "metadata": {},
   "outputs": [
    {
     "data": {
      "text/plain": [
       "array([[1., 1., 1., 1.],\n",
       "       [1., 1., 1., 1.],\n",
       "       [1., 1., 1., 1.],\n",
       "       [1., 1., 1., 1.]])"
      ]
     },
     "execution_count": 30,
     "metadata": {},
     "output_type": "execute_result"
    }
   ],
   "source": [
    "# one matrix of ones (4*4)\n",
    "mat_one = np.ones((4,4))\n",
    "mat_one"
   ]
  },
  {
   "cell_type": "code",
   "execution_count": 31,
   "id": "62ec181e",
   "metadata": {},
   "outputs": [
    {
     "data": {
      "text/plain": [
       "array([[1., 0., 0., 0.],\n",
       "       [0., 1., 0., 0.],\n",
       "       [0., 0., 1., 0.],\n",
       "       [0., 0., 0., 1.]])"
      ]
     },
     "execution_count": 31,
     "metadata": {},
     "output_type": "execute_result"
    }
   ],
   "source": [
    "# identity matrix\n",
    "# generating a 4 * 4 identity matrix\n",
    "ident = np.eye(4)\n",
    "ident"
   ]
  },
  {
   "cell_type": "code",
   "execution_count": 33,
   "id": "a059b0fb",
   "metadata": {},
   "outputs": [
    {
     "data": {
      "text/plain": [
       "array([1, 2, 3, 4, 5])"
      ]
     },
     "execution_count": 33,
     "metadata": {},
     "output_type": "execute_result"
    }
   ],
   "source": [
    "# matrix arrithmetic\n",
    "# add  one to each element\n",
    "# add an equal array of ones A => given  B => one\n",
    "x = np.array((1, 2, 3, 4, 5))\n",
    "x"
   ]
  },
  {
   "cell_type": "code",
   "execution_count": 35,
   "id": "de50032f",
   "metadata": {},
   "outputs": [
    {
     "data": {
      "text/plain": [
       "array([2, 3, 4, 5, 6])"
      ]
     },
     "execution_count": 35,
     "metadata": {},
     "output_type": "execute_result"
    }
   ],
   "source": [
    "# add one to each element\n",
    "x + 1"
   ]
  },
  {
   "cell_type": "code",
   "execution_count": 36,
   "id": "bf9bd6dc",
   "metadata": {},
   "outputs": [
    {
     "data": {
      "text/plain": [
       "array([ 2,  4,  6,  8, 10])"
      ]
     },
     "execution_count": 36,
     "metadata": {},
     "output_type": "execute_result"
    }
   ],
   "source": [
    "# element multiplication\n",
    "x * 2"
   ]
  },
  {
   "cell_type": "code",
   "execution_count": 38,
   "id": "f0f40298",
   "metadata": {},
   "outputs": [
    {
     "data": {
      "text/plain": [
       "array([ 1,  4,  9, 16, 25])"
      ]
     },
     "execution_count": 38,
     "metadata": {},
     "output_type": "execute_result"
    }
   ],
   "source": [
    "# element exponents \n",
    "x * x"
   ]
  },
  {
   "cell_type": "code",
   "execution_count": 39,
   "id": "93159767",
   "metadata": {},
   "outputs": [
    {
     "data": {
      "text/plain": [
       "array([0, 1, 1, 2, 2], dtype=int32)"
      ]
     },
     "execution_count": 39,
     "metadata": {},
     "output_type": "execute_result"
    }
   ],
   "source": [
    "# element integer division\n",
    "# return the answer of integer division with atruncated decimal\n",
    "x // 2"
   ]
  },
  {
   "cell_type": "code",
   "execution_count": 40,
   "id": "f7e5336a",
   "metadata": {},
   "outputs": [
    {
     "data": {
      "text/plain": [
       "array([1, 0, 1, 0, 1], dtype=int32)"
      ]
     },
     "execution_count": 40,
     "metadata": {},
     "output_type": "execute_result"
    }
   ],
   "source": [
    "# modulus\n",
    "x %2"
   ]
  },
  {
   "cell_type": "code",
   "execution_count": 41,
   "id": "86e6b8a4",
   "metadata": {},
   "outputs": [
    {
     "data": {
      "text/plain": [
       "array([-5, -4, -3, -2, -1,  0,  1,  2,  3,  4])"
      ]
     },
     "execution_count": 41,
     "metadata": {},
     "output_type": "execute_result"
    }
   ],
   "source": [
    "# create an array of 10 elements\n",
    "y = np.arange(-5, 5)\n",
    "y"
   ]
  },
  {
   "cell_type": "code",
   "execution_count": 43,
   "id": "843d3e80",
   "metadata": {},
   "outputs": [
    {
     "data": {
      "text/plain": [
       "3"
      ]
     },
     "execution_count": 43,
     "metadata": {},
     "output_type": "execute_result"
    }
   ],
   "source": [
    "# slicing and indexing\n",
    "# indexing\n",
    "y[8]"
   ]
  },
  {
   "cell_type": "code",
   "execution_count": 47,
   "id": "f58ac7a4",
   "metadata": {},
   "outputs": [
    {
     "data": {
      "text/plain": [
       "array([-3, -2, -1,  0])"
      ]
     },
     "execution_count": 47,
     "metadata": {},
     "output_type": "execute_result"
    }
   ],
   "source": [
    "# slicing\n",
    "# get the third to the sixth element \n",
    "y[2:6]"
   ]
  },
  {
   "cell_type": "code",
   "execution_count": 48,
   "id": "ffcf0bd3",
   "metadata": {},
   "outputs": [
    {
     "data": {
      "text/plain": [
       "array([3, 4])"
      ]
     },
     "execution_count": 48,
     "metadata": {},
     "output_type": "execute_result"
    }
   ],
   "source": [
    "# get the last two elements\n",
    "y[-2:]"
   ]
  },
  {
   "cell_type": "code",
   "execution_count": 49,
   "id": "e5e6e9cb",
   "metadata": {},
   "outputs": [
    {
     "data": {
      "text/plain": [
       "array([1, 2, 3, 4, 5, 6, 7, 8, 9])"
      ]
     },
     "execution_count": 49,
     "metadata": {},
     "output_type": "execute_result"
    }
   ],
   "source": [
    "# creating a copy\n",
    "a = np.arange(1, 10)\n",
    "a"
   ]
  },
  {
   "cell_type": "code",
   "execution_count": 51,
   "id": "36232316",
   "metadata": {},
   "outputs": [
    {
     "data": {
      "text/plain": [
       "array([3, 4, 5, 6])"
      ]
     },
     "execution_count": 51,
     "metadata": {},
     "output_type": "execute_result"
    }
   ],
   "source": [
    "b = a[2:6]\n",
    "b"
   ]
  },
  {
   "cell_type": "code",
   "execution_count": 53,
   "id": "f5b2f12c",
   "metadata": {},
   "outputs": [
    {
     "data": {
      "text/plain": [
       "array([3, 5, 5, 6])"
      ]
     },
     "execution_count": 53,
     "metadata": {},
     "output_type": "execute_result"
    }
   ],
   "source": [
    "b[1] = 5\n",
    "b"
   ]
  },
  {
   "cell_type": "code",
   "execution_count": 55,
   "id": "20c79ded",
   "metadata": {},
   "outputs": [
    {
     "data": {
      "text/plain": [
       "array([1, 2, 3, 5, 5, 6, 7, 8, 9])"
      ]
     },
     "execution_count": 55,
     "metadata": {},
     "output_type": "execute_result"
    }
   ],
   "source": [
    "a"
   ]
  },
  {
   "cell_type": "code",
   "execution_count": 56,
   "id": "431c4650",
   "metadata": {},
   "outputs": [
    {
     "data": {
      "text/plain": [
       "array([3, 4, 5, 6])"
      ]
     },
     "execution_count": 56,
     "metadata": {},
     "output_type": "execute_result"
    }
   ],
   "source": [
    "# editing the slice edits the original to prevent this copy is used\n",
    "a = np.arange(1, 10)\n",
    "b = a[2:6].copy()\n",
    "b"
   ]
  },
  {
   "cell_type": "code",
   "execution_count": 57,
   "id": "efbc9400",
   "metadata": {},
   "outputs": [
    {
     "data": {
      "text/plain": [
       "array([1, 2, 3, 4, 5, 6, 7, 8, 9])"
      ]
     },
     "execution_count": 57,
     "metadata": {},
     "output_type": "execute_result"
    }
   ],
   "source": [
    "b[1] = 5\n",
    "a"
   ]
  },
  {
   "cell_type": "code",
   "execution_count": 58,
   "id": "5414434d",
   "metadata": {},
   "outputs": [
    {
     "data": {
      "text/plain": [
       "array([3, 5, 5, 6])"
      ]
     },
     "execution_count": 58,
     "metadata": {},
     "output_type": "execute_result"
    }
   ],
   "source": [
    "b"
   ]
  },
  {
   "cell_type": "markdown",
   "id": "b8f51a3d",
   "metadata": {},
   "source": [
    "## Numpy Arithmetic and Statistical Functions\n"
   ]
  },
  {
   "cell_type": "code",
   "execution_count": 59,
   "id": "d323ebba",
   "metadata": {},
   "outputs": [
    {
     "data": {
      "text/plain": [
       "array([-1.4,  0.4, -3.2,  2.5,  3.4])"
      ]
     },
     "execution_count": 59,
     "metadata": {},
     "output_type": "execute_result"
    }
   ],
   "source": [
    "samp2 = np.array([-1.4, 0.4, -3.2, 2.5, 3.4])\n",
    "samp2"
   ]
  },
  {
   "cell_type": "code",
   "execution_count": 60,
   "id": "871bbc66",
   "metadata": {},
   "outputs": [
    {
     "data": {
      "text/plain": [
       "array([1.4, 0.4, 3.2, 2.5, 3.4])"
      ]
     },
     "execution_count": 60,
     "metadata": {},
     "output_type": "execute_result"
    }
   ],
   "source": [
    "# absolute value\n",
    "ab_val = np.abs(samp2)\n",
    "ab_val"
   ]
  },
  {
   "cell_type": "code",
   "execution_count": 61,
   "id": "e1724dfd",
   "metadata": {},
   "outputs": [
    {
     "data": {
      "text/plain": [
       "3.4"
      ]
     },
     "execution_count": 61,
     "metadata": {},
     "output_type": "execute_result"
    }
   ],
   "source": [
    "# maximum and minimum\n",
    "max_val = np.max(samp2)\n",
    "max_val"
   ]
  },
  {
   "cell_type": "code",
   "execution_count": 62,
   "id": "90b0f958",
   "metadata": {},
   "outputs": [
    {
     "data": {
      "text/plain": [
       "array([-3.4, -1.6, -5.2,  0.5,  1.4])"
      ]
     },
     "execution_count": 62,
     "metadata": {},
     "output_type": "execute_result"
    }
   ],
   "source": [
    "# add and subtract\n",
    "# subtract 2\n",
    "minus = np.subtract(samp2, 2)\n",
    "minus"
   ]
  },
  {
   "cell_type": "code",
   "execution_count": 63,
   "id": "f8aede5a",
   "metadata": {},
   "outputs": [
    {
     "data": {
      "text/plain": [
       "0.33999999999999997"
      ]
     },
     "execution_count": 63,
     "metadata": {},
     "output_type": "execute_result"
    }
   ],
   "source": [
    "# mean\n",
    "mn = np.mean(samp2)\n",
    "mn"
   ]
  },
  {
   "cell_type": "code",
   "execution_count": 64,
   "id": "a52498d4",
   "metadata": {},
   "outputs": [
    {
     "data": {
      "text/plain": [
       "2.432776191925595"
      ]
     },
     "execution_count": 64,
     "metadata": {},
     "output_type": "execute_result"
    }
   ],
   "source": [
    "# standard deviation\n",
    "sd = np.std(samp2)\n",
    "sd"
   ]
  },
  {
   "cell_type": "markdown",
   "id": "b8742053",
   "metadata": {},
   "source": [
    "## Class Task\n",
    "1. generate 20 elements that are normaly distributed. calculate the:\n",
    "- mean\n",
    "- standard deviation \n",
    "- mode\n",
    "\n",
    "2. generate another 30 elements that are normaly distributed. calculate the:\n",
    "- mean\n",
    "- standard deviation \n",
    "- mode\n",
    "\n",
    "3. combine and find:\n",
    "- mean\n",
    "- standard deviation \n",
    "- mode"
   ]
  },
  {
   "cell_type": "code",
   "execution_count": null,
   "id": "6d358942",
   "metadata": {},
   "outputs": [],
   "source": []
  }
 ],
 "metadata": {
  "kernelspec": {
   "display_name": "Python 3 (ipykernel)",
   "language": "python",
   "name": "python3"
  },
  "language_info": {
   "codemirror_mode": {
    "name": "ipython",
    "version": 3
   },
   "file_extension": ".py",
   "mimetype": "text/x-python",
   "name": "python",
   "nbconvert_exporter": "python",
   "pygments_lexer": "ipython3",
   "version": "3.10.9"
  }
 },
 "nbformat": 4,
 "nbformat_minor": 5
}
