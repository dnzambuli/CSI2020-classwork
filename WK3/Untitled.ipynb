{
 "cells": [
  {
   "cell_type": "markdown",
   "id": "d77ca4ae",
   "metadata": {},
   "source": [
    "## Introduction to Numpy and Pandas\n",
    "\n",
    "### Numpy\n",
    "Also ```Numerical Python```.\n",
    "\n",
    "Is a library for developing matrixes and multidimensional arrays \n",
    "\n",
    "```python3\n",
    "import numpy as np\n",
    "```\n",
    "```np``` - is a an **alias** for numpy as used within a file."
   ]
  },
  {
   "cell_type": "code",
   "execution_count": 2,
   "id": "c5950488",
   "metadata": {},
   "outputs": [],
   "source": [
    "# including numpy in the project\n",
    "import numpy as np "
   ]
  },
  {
   "cell_type": "code",
   "execution_count": 3,
   "id": "d7a9e9f1",
   "metadata": {},
   "outputs": [
    {
     "data": {
      "text/plain": [
       "list"
      ]
     },
     "execution_count": 3,
     "metadata": {},
     "output_type": "execute_result"
    }
   ],
   "source": [
    "# creating a one dim array\n",
    "# starting with a list\n",
    "l = [1, 2, 3, 4, 5]\n",
    "\n",
    "# confirm the type \n",
    "type(l)"
   ]
  },
  {
   "cell_type": "code",
   "execution_count": 5,
   "id": "44f0ff7f",
   "metadata": {},
   "outputs": [
    {
     "data": {
      "text/plain": [
       "numpy.ndarray"
      ]
     },
     "execution_count": 5,
     "metadata": {},
     "output_type": "execute_result"
    }
   ],
   "source": [
    "# creating a one dim\n",
    "oneDim = np.array(l)\n",
    "\n",
    "# confirm type\n",
    "type(oneDim)"
   ]
  },
  {
   "cell_type": "code",
   "execution_count": 6,
   "id": "363a2765",
   "metadata": {},
   "outputs": [
    {
     "data": {
      "text/plain": [
       "1"
      ]
     },
     "execution_count": 6,
     "metadata": {},
     "output_type": "execute_result"
    }
   ],
   "source": [
    "# count number of rows \n",
    "oneDim.ndim"
   ]
  },
  {
   "cell_type": "code",
   "execution_count": 7,
   "id": "5acf7c5a",
   "metadata": {},
   "outputs": [
    {
     "data": {
      "text/plain": [
       "(5,)"
      ]
     },
     "execution_count": 7,
     "metadata": {},
     "output_type": "execute_result"
    }
   ],
   "source": [
    "# counting number of columns\n",
    "oneDim.shape "
   ]
  },
  {
   "cell_type": "code",
   "execution_count": null,
   "id": "aa33ebfe",
   "metadata": {},
   "outputs": [],
   "source": []
  },
  {
   "cell_type": "code",
   "execution_count": null,
   "id": "fdc43fb0",
   "metadata": {},
   "outputs": [],
   "source": []
  }
 ],
 "metadata": {
  "kernelspec": {
   "display_name": "Python 3 (ipykernel)",
   "language": "python",
   "name": "python3"
  },
  "language_info": {
   "codemirror_mode": {
    "name": "ipython",
    "version": 3
   },
   "file_extension": ".py",
   "mimetype": "text/x-python",
   "name": "python",
   "nbconvert_exporter": "python",
   "pygments_lexer": "ipython3",
   "version": "3.10.9"
  }
 },
 "nbformat": 4,
 "nbformat_minor": 5
}
