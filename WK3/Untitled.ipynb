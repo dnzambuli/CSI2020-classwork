{
 "cells": [
  {
   "cell_type": "markdown",
   "id": "667f0102",
   "metadata": {},
   "source": [
    "## Introduction to Numpy and Pandas\n",
    "\n",
    "### Numpy\n",
    "Also ```Numerical Python```.\n",
    "\n",
    "Is a library for developing matrixes and multidimensional arrays \n",
    "\n",
    "```python3\n",
    "import numpy as np\n",
    "```\n",
    "```np``` - is a an **alias** for numpy as used within a file."
   ]
  },
  {
   "cell_type": "code",
   "execution_count": 2,
   "id": "d89cb06b",
   "metadata": {},
   "outputs": [],
   "source": [
    "# including numpy in the project\n",
    "import numpy as np "
   ]
  },
  {
   "cell_type": "code",
   "execution_count": 3,
   "id": "41875881",
   "metadata": {},
   "outputs": [
    {
     "data": {
      "text/plain": [
       "list"
      ]
     },
     "execution_count": 3,
     "metadata": {},
     "output_type": "execute_result"
    }
   ],
   "source": [
    "# creating a one dim array\n",
    "# starting with a list\n",
    "l = [1, 2, 3, 4, 5]\n",
    "\n",
    "# confirm the type \n",
    "type(l)"
   ]
  },
  {
   "cell_type": "code",
   "execution_count": 5,
   "id": "6c85341c",
   "metadata": {},
   "outputs": [
    {
     "data": {
      "text/plain": [
       "numpy.ndarray"
      ]
     },
     "execution_count": 5,
     "metadata": {},
     "output_type": "execute_result"
    }
   ],
   "source": [
    "# creating a one dim\n",
    "oneDim = np.array(l)\n",
    "\n",
    "# confirm type\n",
    "type(oneDim)"
   ]
  },
  {
   "cell_type": "code",
   "execution_count": 6,
   "id": "34f7c5bb",
   "metadata": {},
   "outputs": [
    {
     "data": {
      "text/plain": [
       "1"
      ]
     },
     "execution_count": 6,
     "metadata": {},
     "output_type": "execute_result"
    }
   ],
   "source": [
    "# count number of rows \n",
    "oneDim.ndim"
   ]
  },
  {
   "cell_type": "code",
   "execution_count": 7,
   "id": "35889e66",
   "metadata": {},
   "outputs": [
    {
     "data": {
      "text/plain": [
       "(5,)"
      ]
     },
     "execution_count": 7,
     "metadata": {},
     "output_type": "execute_result"
    }
   ],
   "source": [
    "# counting number of columns\n",
    "oneDim.shape "
   ]
  },
  {
   "cell_type": "code",
   "execution_count": 14,
   "id": "ebe76028",
   "metadata": {},
   "outputs": [
    {
     "data": {
      "text/plain": [
       "dtype('int32')"
      ]
     },
     "execution_count": 14,
     "metadata": {},
     "output_type": "execute_result"
    }
   ],
   "source": [
    "# check the data type \n",
    "oneDim.dtype"
   ]
  },
  {
   "cell_type": "code",
   "execution_count": 15,
   "id": "67be200b",
   "metadata": {},
   "outputs": [
    {
     "name": "stdout",
     "output_type": "stream",
     "text": [
      "[1 2 3 4 5]\n"
     ]
    },
    {
     "data": {
      "text/plain": [
       "array([1, 2, 3, 4, 5])"
      ]
     },
     "execution_count": 15,
     "metadata": {},
     "output_type": "execute_result"
    }
   ],
   "source": [
    "# transposition\n",
    "print(oneDim)\n",
    "t = oneDim.T\n",
    "t"
   ]
  },
  {
   "cell_type": "markdown",
   "id": "c4f2d694",
   "metadata": {},
   "source": [
    "## Python Data Type\n",
    "### integers\n",
    "```python\n",
    "x = 9\n",
    "print(type(x))\n",
    "```\n",
    "**output**\n",
    "```\n",
    ">> int\n",
    "```\n",
    "### floats\n",
    "```python\n",
    "x = 9.0\n",
    "print(type(x))\n",
    "```\n",
    "**output**\n",
    "```\n",
    ">> float\n",
    "```\n",
    "### Booleans\n",
    "```python\n",
    "x = True\n",
    "print(type(x))\n",
    "```\n",
    "**output**\n",
    "```\n",
    ">> Bool\n",
    "```\n",
    "### String\n",
    "```python\n",
    "x = 'hello'\n",
    "print(type(x))\n",
    "```\n",
    "**output**\n",
    "```\n",
    ">> str\n",
    "```\n",
    "### list\n",
    "```python\n",
    "x = [9.0, 1, 2, 4]\n",
    "print(type(x))\n",
    "```\n",
    "**output**\n",
    "```\n",
    ">> list\n",
    "```\n",
    "### tuple\n",
    "```python\n",
    "x = (9.0, 1, 2, 4)\n",
    "print(type(x))\n",
    "```\n",
    "**output**\n",
    "```\n",
    ">> tuple\n",
    "```"
   ]
  },
  {
   "cell_type": "markdown",
   "id": "6093ade5",
   "metadata": {},
   "source": [
    "### np.array().T\n",
    "- transposes arrays of greater than two dimensions "
   ]
  },
  {
   "cell_type": "code",
   "execution_count": 19,
   "id": "12a84853",
   "metadata": {},
   "outputs": [],
   "source": [
    "# creating an array with 3 rows and 4 columns \n",
    "# using arange(start, stop, step) to create a random number array\n",
    "samp = np.arange(12)"
   ]
  },
  {
   "cell_type": "code",
   "execution_count": 20,
   "id": "3d1e62a0",
   "metadata": {},
   "outputs": [
    {
     "data": {
      "text/plain": [
       "array([ 0,  1,  2,  3,  4,  5,  6,  7,  8,  9, 10, 11])"
      ]
     },
     "execution_count": 20,
     "metadata": {},
     "output_type": "execute_result"
    }
   ],
   "source": [
    "samp"
   ]
  },
  {
   "cell_type": "code",
   "execution_count": 21,
   "id": "f9e0056d",
   "metadata": {},
   "outputs": [
    {
     "data": {
      "text/plain": [
       "array([[ 0,  1,  2,  3],\n",
       "       [ 4,  5,  6,  7],\n",
       "       [ 8,  9, 10, 11]])"
      ]
     },
     "execution_count": 21,
     "metadata": {},
     "output_type": "execute_result"
    }
   ],
   "source": [
    "# rearange the array to be 3 * 4\n",
    "re_samp = samp.reshape(3, 4)\n",
    "re_samp"
   ]
  },
  {
   "cell_type": "code",
   "execution_count": 23,
   "id": "e8b5a32d",
   "metadata": {},
   "outputs": [
    {
     "data": {
      "text/plain": [
       "array([0.        , 0.11111111, 0.22222222, 0.33333333, 0.44444444,\n",
       "       0.55555556, 0.66666667, 0.77777778, 0.88888889, 1.        ])"
      ]
     },
     "execution_count": 23,
     "metadata": {},
     "output_type": "execute_result"
    }
   ],
   "source": [
    "# create values equaly spaced between two numbers\n",
    "# using np.linspace(start, stop, number of numbers)\n",
    "# uses an arithmetic progression\n",
    "equal = np.linspace(0, 1, 10)\n",
    "equal"
   ]
  },
  {
   "cell_type": "code",
   "execution_count": 24,
   "id": "d37d7585",
   "metadata": {},
   "outputs": [
    {
     "data": {
      "text/plain": [
       "array([  10.        ,   19.30697729,   37.2759372 ,   71.9685673 ,\n",
       "        138.94954944,  268.26957953,  517.94746792, 1000.        ])"
      ]
     },
     "execution_count": 24,
     "metadata": {},
     "output_type": "execute_result"
    }
   ],
   "source": [
    "# dividing a region with such that first number is log10(start) last number is log10(end)\n",
    "# notice all numbers are equally spaced logs\n",
    "logs = np.logspace(1, 3, 8)\n",
    "logs"
   ]
  },
  {
   "cell_type": "code",
   "execution_count": 27,
   "id": "b23e9737",
   "metadata": {},
   "outputs": [
    {
     "data": {
      "text/plain": [
       "array([[0., 0., 0., 0.],\n",
       "       [0., 0., 0., 0.]])"
      ]
     },
     "execution_count": 27,
     "metadata": {},
     "output_type": "execute_result"
    }
   ],
   "source": [
    "# generating a random n-dim array of just zeros\n",
    "# notice that it accepts a tuple as input\n",
    "nil = np.zeros((2, 4))\n",
    "nil"
   ]
  },
  {
   "cell_type": "code",
   "execution_count": 29,
   "id": "78e7b48b",
   "metadata": {},
   "outputs": [
    {
     "data": {
      "text/plain": [
       "array([1., 1., 1., 1., 1., 1.])"
      ]
     },
     "execution_count": 29,
     "metadata": {},
     "output_type": "execute_result"
    }
   ],
   "source": [
    "# one vector of length 6\n",
    "one = np.ones(6)\n",
    "one\n"
   ]
  },
  {
   "cell_type": "code",
   "execution_count": 30,
   "id": "1c0e51bb",
   "metadata": {},
   "outputs": [
    {
     "data": {
      "text/plain": [
       "array([[1., 1., 1., 1.],\n",
       "       [1., 1., 1., 1.],\n",
       "       [1., 1., 1., 1.],\n",
       "       [1., 1., 1., 1.]])"
      ]
     },
     "execution_count": 30,
     "metadata": {},
     "output_type": "execute_result"
    }
   ],
   "source": [
    "# one matrix of ones (4*4)\n",
    "mat_one = np.ones((4,4))\n",
    "mat_one"
   ]
  },
  {
   "cell_type": "code",
   "execution_count": 31,
   "id": "9a1d67e1",
   "metadata": {},
   "outputs": [
    {
     "data": {
      "text/plain": [
       "array([[1., 0., 0., 0.],\n",
       "       [0., 1., 0., 0.],\n",
       "       [0., 0., 1., 0.],\n",
       "       [0., 0., 0., 1.]])"
      ]
     },
     "execution_count": 31,
     "metadata": {},
     "output_type": "execute_result"
    }
   ],
   "source": [
    "# identity matrix\n",
    "# generating a 4 * 4 identity matrix\n",
    "ident = np.eye(4)\n",
    "ident"
   ]
  },
  {
   "cell_type": "code",
   "execution_count": 33,
   "id": "9d98f555",
   "metadata": {},
   "outputs": [
    {
     "data": {
      "text/plain": [
       "array([1, 2, 3, 4, 5])"
      ]
     },
     "execution_count": 33,
     "metadata": {},
     "output_type": "execute_result"
    }
   ],
   "source": [
    "# matrix arrithmetic\n",
    "# add  one to each element\n",
    "# add an equal array of ones A => given  B => one\n",
    "x = np.array((1, 2, 3, 4, 5))\n",
    "x"
   ]
  },
  {
   "cell_type": "code",
   "execution_count": 35,
   "id": "570efcbf",
   "metadata": {},
   "outputs": [
    {
     "data": {
      "text/plain": [
       "array([2, 3, 4, 5, 6])"
      ]
     },
     "execution_count": 35,
     "metadata": {},
     "output_type": "execute_result"
    }
   ],
   "source": [
    "# add one to each element\n",
    "x + 1"
   ]
  },
  {
   "cell_type": "code",
   "execution_count": 36,
   "id": "527d6c53",
   "metadata": {},
   "outputs": [
    {
     "data": {
      "text/plain": [
       "array([ 2,  4,  6,  8, 10])"
      ]
     },
     "execution_count": 36,
     "metadata": {},
     "output_type": "execute_result"
    }
   ],
   "source": [
    "# element multiplication\n",
    "x * 2"
   ]
  },
  {
   "cell_type": "code",
   "execution_count": 38,
   "id": "4398a8b2",
   "metadata": {},
   "outputs": [
    {
     "data": {
      "text/plain": [
       "array([ 1,  4,  9, 16, 25])"
      ]
     },
     "execution_count": 38,
     "metadata": {},
     "output_type": "execute_result"
    }
   ],
   "source": [
    "# element exponents \n",
    "x * x"
   ]
  },
  {
   "cell_type": "code",
   "execution_count": 39,
   "id": "175179d4",
   "metadata": {},
   "outputs": [
    {
     "data": {
      "text/plain": [
       "array([0, 1, 1, 2, 2], dtype=int32)"
      ]
     },
     "execution_count": 39,
     "metadata": {},
     "output_type": "execute_result"
    }
   ],
   "source": [
    "# element integer division\n",
    "# return the answer of integer division with atruncated decimal\n",
    "x // 2"
   ]
  },
  {
   "cell_type": "code",
   "execution_count": 40,
   "id": "dc854cbc",
   "metadata": {},
   "outputs": [
    {
     "data": {
      "text/plain": [
       "array([1, 0, 1, 0, 1], dtype=int32)"
      ]
     },
     "execution_count": 40,
     "metadata": {},
     "output_type": "execute_result"
    }
   ],
   "source": [
    "# modulus\n",
    "x %2"
   ]
  },
  {
   "cell_type": "code",
   "execution_count": 41,
   "id": "ddc625da",
   "metadata": {},
   "outputs": [
    {
     "data": {
      "text/plain": [
       "array([-5, -4, -3, -2, -1,  0,  1,  2,  3,  4])"
      ]
     },
     "execution_count": 41,
     "metadata": {},
     "output_type": "execute_result"
    }
   ],
   "source": [
    "# create an array of 10 elements\n",
    "y = np.arange(-5, 5)\n",
    "y"
   ]
  },
  {
   "cell_type": "code",
   "execution_count": 43,
   "id": "c263dedc",
   "metadata": {},
   "outputs": [
    {
     "data": {
      "text/plain": [
       "3"
      ]
     },
     "execution_count": 43,
     "metadata": {},
     "output_type": "execute_result"
    }
   ],
   "source": [
    "# slicing and indexing\n",
    "# indexing\n",
    "y[8]"
   ]
  },
  {
   "cell_type": "code",
   "execution_count": 47,
   "id": "1040cbb1",
   "metadata": {},
   "outputs": [
    {
     "data": {
      "text/plain": [
       "array([-3, -2, -1,  0])"
      ]
     },
     "execution_count": 47,
     "metadata": {},
     "output_type": "execute_result"
    }
   ],
   "source": [
    "# slicing\n",
    "# get the third to the sixth element \n",
    "y[2:6]"
   ]
  },
  {
   "cell_type": "code",
   "execution_count": 48,
   "id": "2f4b1ddc",
   "metadata": {},
   "outputs": [
    {
     "data": {
      "text/plain": [
       "array([3, 4])"
      ]
     },
     "execution_count": 48,
     "metadata": {},
     "output_type": "execute_result"
    }
   ],
   "source": [
    "# get the last two elements\n",
    "y[-2:]"
   ]
  },
  {
   "cell_type": "code",
   "execution_count": 49,
   "id": "fef2fbd4",
   "metadata": {},
   "outputs": [
    {
     "data": {
      "text/plain": [
       "array([1, 2, 3, 4, 5, 6, 7, 8, 9])"
      ]
     },
     "execution_count": 49,
     "metadata": {},
     "output_type": "execute_result"
    }
   ],
   "source": [
    "# creating a copy\n",
    "a = np.arange(1, 10)\n",
    "a"
   ]
  },
  {
   "cell_type": "code",
   "execution_count": 51,
   "id": "0cb48979",
   "metadata": {},
   "outputs": [
    {
     "data": {
      "text/plain": [
       "array([3, 4, 5, 6])"
      ]
     },
     "execution_count": 51,
     "metadata": {},
     "output_type": "execute_result"
    }
   ],
   "source": [
    "b = a[2:6]\n",
    "b"
   ]
  },
  {
   "cell_type": "code",
   "execution_count": 53,
   "id": "f2d30f84",
   "metadata": {},
   "outputs": [
    {
     "data": {
      "text/plain": [
       "array([3, 5, 5, 6])"
      ]
     },
     "execution_count": 53,
     "metadata": {},
     "output_type": "execute_result"
    }
   ],
   "source": [
    "b[1] = 5\n",
    "b"
   ]
  },
  {
   "cell_type": "code",
   "execution_count": 55,
   "id": "ccb637e6",
   "metadata": {},
   "outputs": [
    {
     "data": {
      "text/plain": [
       "array([1, 2, 3, 5, 5, 6, 7, 8, 9])"
      ]
     },
     "execution_count": 55,
     "metadata": {},
     "output_type": "execute_result"
    }
   ],
   "source": [
    "a"
   ]
  },
  {
   "cell_type": "code",
   "execution_count": 56,
   "id": "b4fd2489",
   "metadata": {},
   "outputs": [
    {
     "data": {
      "text/plain": [
       "array([3, 4, 5, 6])"
      ]
     },
     "execution_count": 56,
     "metadata": {},
     "output_type": "execute_result"
    }
   ],
   "source": [
    "# editing the slice edits the original to prevent this copy is used\n",
    "a = np.arange(1, 10)\n",
    "b = a[2:6].copy()\n",
    "b"
   ]
  },
  {
   "cell_type": "code",
   "execution_count": 57,
   "id": "41533eee",
   "metadata": {},
   "outputs": [
    {
     "data": {
      "text/plain": [
       "array([1, 2, 3, 4, 5, 6, 7, 8, 9])"
      ]
     },
     "execution_count": 57,
     "metadata": {},
     "output_type": "execute_result"
    }
   ],
   "source": [
    "b[1] = 5\n",
    "a"
   ]
  },
  {
   "cell_type": "code",
   "execution_count": 58,
   "id": "48f902e4",
   "metadata": {},
   "outputs": [
    {
     "data": {
      "text/plain": [
       "array([3, 5, 5, 6])"
      ]
     },
     "execution_count": 58,
     "metadata": {},
     "output_type": "execute_result"
    }
   ],
   "source": [
    "b"
   ]
  },
  {
   "cell_type": "markdown",
   "id": "8d616dff",
   "metadata": {},
   "source": [
    "## Numpy Arithmetic and Statistical Functions\n"
   ]
  },
  {
   "cell_type": "code",
   "execution_count": 59,
   "id": "6982de5b",
   "metadata": {},
   "outputs": [
    {
     "data": {
      "text/plain": [
       "array([-1.4,  0.4, -3.2,  2.5,  3.4])"
      ]
     },
     "execution_count": 59,
     "metadata": {},
     "output_type": "execute_result"
    }
   ],
   "source": [
    "samp2 = np.array([-1.4, 0.4, -3.2, 2.5, 3.4])\n",
    "samp2"
   ]
  },
  {
   "cell_type": "code",
   "execution_count": 60,
   "id": "18f7c976",
   "metadata": {},
   "outputs": [
    {
     "data": {
      "text/plain": [
       "array([1.4, 0.4, 3.2, 2.5, 3.4])"
      ]
     },
     "execution_count": 60,
     "metadata": {},
     "output_type": "execute_result"
    }
   ],
   "source": [
    "# absolute value\n",
    "ab_val = np.abs(samp2)\n",
    "ab_val"
   ]
  },
  {
   "cell_type": "code",
   "execution_count": 61,
   "id": "1f86d508",
   "metadata": {},
   "outputs": [
    {
     "data": {
      "text/plain": [
       "3.4"
      ]
     },
     "execution_count": 61,
     "metadata": {},
     "output_type": "execute_result"
    }
   ],
   "source": [
    "# maximum and minimum\n",
    "max_val = np.max(samp2)\n",
    "max_val"
   ]
  },
  {
   "cell_type": "code",
   "execution_count": 62,
   "id": "e90814e4",
   "metadata": {},
   "outputs": [
    {
     "data": {
      "text/plain": [
       "array([-3.4, -1.6, -5.2,  0.5,  1.4])"
      ]
     },
     "execution_count": 62,
     "metadata": {},
     "output_type": "execute_result"
    }
   ],
   "source": [
    "# add and subtract\n",
    "# subtract 2\n",
    "minus = np.subtract(samp2, 2)\n",
    "minus"
   ]
  },
  {
   "cell_type": "code",
   "execution_count": 63,
   "id": "36f56e00",
   "metadata": {},
   "outputs": [
    {
     "data": {
      "text/plain": [
       "0.33999999999999997"
      ]
     },
     "execution_count": 63,
     "metadata": {},
     "output_type": "execute_result"
    }
   ],
   "source": [
    "# mean\n",
    "mn = np.mean(samp2)\n",
    "mn"
   ]
  },
  {
   "cell_type": "code",
   "execution_count": 64,
   "id": "ad4b0bd0",
   "metadata": {},
   "outputs": [
    {
     "data": {
      "text/plain": [
       "2.432776191925595"
      ]
     },
     "execution_count": 64,
     "metadata": {},
     "output_type": "execute_result"
    }
   ],
   "source": [
    "# standard deviation\n",
    "sd = np.std(samp2)\n",
    "sd"
   ]
  },
  {
   "cell_type": "markdown",
   "id": "02cf00ed",
   "metadata": {},
   "source": [
    "## Class Task\n",
    "1. generate 20 elements that are normaly distributed. calculate the:\n",
    "- mean\n",
    "- standard deviation \n",
    "- mode\n",
    "\n",
    "2. generate another 30 elements that are normaly distributed. calculate the:\n",
    "- mean\n",
    "- standard deviation \n",
    "- mode\n",
    "\n",
    "3. combine and find:\n",
    "- mean\n",
    "- standard deviation \n",
    "- mode"
   ]
  },
  {
   "cell_type": "code",
   "execution_count": 67,
   "id": "c5da7f59",
   "metadata": {},
   "outputs": [
    {
     "data": {
      "text/plain": [
       "array([-1.55602536, -0.60922274, -0.10069   , -1.46195098,  0.56804473,\n",
       "        0.85985672, -0.13912596,  1.03799384,  0.12176952, -0.98780803,\n",
       "        0.62737209,  1.18062111, -0.8824156 , -0.87793968,  0.13538198,\n",
       "        0.4848866 , -0.48061707, -1.24994036, -1.77584047, -1.00122151])"
      ]
     },
     "execution_count": 67,
     "metadata": {},
     "output_type": "execute_result"
    }
   ],
   "source": [
    "# np.random.normal(mean, std, size)\n",
    "twenty = np.random.normal(size = 20)\n",
    "twenty"
   ]
  },
  {
   "cell_type": "code",
   "execution_count": 68,
   "id": "8f544ec5",
   "metadata": {},
   "outputs": [
    {
     "data": {
      "text/plain": [
       "-0.3053435577082298"
      ]
     },
     "execution_count": 68,
     "metadata": {},
     "output_type": "execute_result"
    }
   ],
   "source": [
    "# mean\n",
    "np.mean(twenty)"
   ]
  },
  {
   "cell_type": "code",
   "execution_count": 69,
   "id": "35afc118",
   "metadata": {},
   "outputs": [
    {
     "data": {
      "text/plain": [
       "0.8878135774879281"
      ]
     },
     "execution_count": 69,
     "metadata": {},
     "output_type": "execute_result"
    }
   ],
   "source": [
    "# standard deviation\n",
    "np.std(twenty)"
   ]
  },
  {
   "cell_type": "code",
   "execution_count": 73,
   "id": "84a999ca",
   "metadata": {},
   "outputs": [
    {
     "name": "stderr",
     "output_type": "stream",
     "text": [
      "C:\\Users\\damun\\AppData\\Local\\Temp\\ipykernel_11688\\2352366463.py:3: FutureWarning: Unlike other reduction functions (e.g. `skew`, `kurtosis`), the default behavior of `mode` typically preserves the axis it acts along. In SciPy 1.11.0, this behavior will change: the default value of `keepdims` will become False, the `axis` over which the statistic is taken will be eliminated, and the value None will no longer be accepted. Set `keepdims` to True or False to avoid this warning.\n",
      "  stats.mode(twenty)\n"
     ]
    },
    {
     "data": {
      "text/plain": [
       "ModeResult(mode=array([-1.77584047]), count=array([1]))"
      ]
     },
     "execution_count": 73,
     "metadata": {},
     "output_type": "execute_result"
    }
   ],
   "source": [
    "# mode\n",
    "from scipy import stats\n",
    "stats.mode(twenty)"
   ]
  },
  {
   "cell_type": "markdown",
   "id": "ea34cea4",
   "metadata": {},
   "source": [
    "## Take Home\n",
    "1. Co"
   ]
  },
  {
   "cell_type": "code",
   "execution_count": null,
   "id": "5f53ce8f",
   "metadata": {},
   "outputs": [],
   "source": []
  },
  {
   "cell_type": "code",
   "execution_count": null,
   "id": "28b43678",
   "metadata": {},
   "outputs": [],
   "source": []
  }
 ],
 "metadata": {
  "kernelspec": {
   "display_name": "Python 3 (ipykernel)",
   "language": "python",
   "name": "python3"
  },
  "language_info": {
   "codemirror_mode": {
    "name": "ipython",
    "version": 3
   },
   "file_extension": ".py",
   "mimetype": "text/x-python",
   "name": "python",
   "nbconvert_exporter": "python",
   "pygments_lexer": "ipython3",
   "version": "3.10.9"
  }
 },
 "nbformat": 4,
 "nbformat_minor": 5
}
