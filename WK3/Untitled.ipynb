{
 "cells": [
  {
   "cell_type": "markdown",
   "id": "539feb2b",
   "metadata": {},
   "source": [
    "## Introduction to Numpy and Pandas\n",
    "\n",
    "### Numpy\n",
    "Also ```Numerical Python```.\n",
    "\n",
    "Is a library for developing matrixes and multidimensional arrays \n",
    "\n",
    "```python3\n",
    "import numpy as np\n",
    "```\n",
    "```np``` - is a an **alias** for numpy as used within a file."
   ]
  },
  {
   "cell_type": "code",
   "execution_count": 2,
   "id": "866a429e",
   "metadata": {},
   "outputs": [],
   "source": [
    "# including numpy in the project\n",
    "import numpy as np "
   ]
  },
  {
   "cell_type": "code",
   "execution_count": 3,
   "id": "13406567",
   "metadata": {},
   "outputs": [
    {
     "data": {
      "text/plain": [
       "list"
      ]
     },
     "execution_count": 3,
     "metadata": {},
     "output_type": "execute_result"
    }
   ],
   "source": [
    "# creating a one dim array\n",
    "# starting with a list\n",
    "l = [1, 2, 3, 4, 5]\n",
    "\n",
    "# confirm the type \n",
    "type(l)"
   ]
  },
  {
   "cell_type": "code",
   "execution_count": 5,
   "id": "204c4b73",
   "metadata": {},
   "outputs": [
    {
     "data": {
      "text/plain": [
       "numpy.ndarray"
      ]
     },
     "execution_count": 5,
     "metadata": {},
     "output_type": "execute_result"
    }
   ],
   "source": [
    "# creating a one dim\n",
    "oneDim = np.array(l)\n",
    "\n",
    "# confirm type\n",
    "type(oneDim)"
   ]
  },
  {
   "cell_type": "code",
   "execution_count": 6,
   "id": "99cd46ca",
   "metadata": {},
   "outputs": [
    {
     "data": {
      "text/plain": [
       "1"
      ]
     },
     "execution_count": 6,
     "metadata": {},
     "output_type": "execute_result"
    }
   ],
   "source": [
    "# count number of rows \n",
    "oneDim.ndim"
   ]
  },
  {
   "cell_type": "code",
   "execution_count": 7,
   "id": "0ee57367",
   "metadata": {},
   "outputs": [
    {
     "data": {
      "text/plain": [
       "(5,)"
      ]
     },
     "execution_count": 7,
     "metadata": {},
     "output_type": "execute_result"
    }
   ],
   "source": [
    "# counting number of columns\n",
    "oneDim.shape "
   ]
  },
  {
   "cell_type": "code",
   "execution_count": 14,
   "id": "3ab6a33e",
   "metadata": {},
   "outputs": [
    {
     "data": {
      "text/plain": [
       "dtype('int32')"
      ]
     },
     "execution_count": 14,
     "metadata": {},
     "output_type": "execute_result"
    }
   ],
   "source": [
    "# check the data type \n",
    "oneDim.dtype"
   ]
  },
  {
   "cell_type": "code",
   "execution_count": 15,
   "id": "c53f5229",
   "metadata": {},
   "outputs": [
    {
     "name": "stdout",
     "output_type": "stream",
     "text": [
      "[1 2 3 4 5]\n"
     ]
    },
    {
     "data": {
      "text/plain": [
       "array([1, 2, 3, 4, 5])"
      ]
     },
     "execution_count": 15,
     "metadata": {},
     "output_type": "execute_result"
    }
   ],
   "source": [
    "# transposition\n",
    "print(oneDim)\n",
    "t = oneDim.T\n",
    "t"
   ]
  },
  {
   "cell_type": "markdown",
   "id": "61b7e46d",
   "metadata": {},
   "source": [
    "## Python Data Type\n",
    "### integers\n",
    "```python\n",
    "x = 9\n",
    "print(type(x))\n",
    "```\n",
    "**output**\n",
    "```\n",
    ">> int\n",
    "```\n",
    "### floats\n",
    "```python\n",
    "x = 9.0\n",
    "print(type(x))\n",
    "```\n",
    "**output**\n",
    "```\n",
    ">> float\n",
    "```\n",
    "### Booleans\n",
    "```python\n",
    "x = True\n",
    "print(type(x))\n",
    "```\n",
    "**output**\n",
    "```\n",
    ">> Bool\n",
    "```\n",
    "### String\n",
    "```python\n",
    "x = 'hello'\n",
    "print(type(x))\n",
    "```\n",
    "**output**\n",
    "```\n",
    ">> str\n",
    "```\n",
    "### list\n",
    "```python\n",
    "x = [9.0, 1, 2, 4]\n",
    "print(type(x))\n",
    "```\n",
    "**output**\n",
    "```\n",
    ">> list\n",
    "```\n",
    "### tuple\n"
   ]
  },
  {
   "cell_type": "markdown",
   "id": "db08ada8",
   "metadata": {},
   "source": [
    "### np.array().T\n",
    "- transposes arrays of greater than two dimensions "
   ]
  },
  {
   "cell_type": "code",
   "execution_count": 17,
   "id": "68ca6e72",
   "metadata": {},
   "outputs": [
    {
     "data": {
      "text/plain": [
       "list"
      ]
     },
     "execution_count": 17,
     "metadata": {},
     "output_type": "execute_result"
    }
   ],
   "source": [
    "type([9.0, 1, 2, 4])"
   ]
  }
 ],
 "metadata": {
  "kernelspec": {
   "display_name": "Python 3 (ipykernel)",
   "language": "python",
   "name": "python3"
  },
  "language_info": {
   "codemirror_mode": {
    "name": "ipython",
    "version": 3
   },
   "file_extension": ".py",
   "mimetype": "text/x-python",
   "name": "python",
   "nbconvert_exporter": "python",
   "pygments_lexer": "ipython3",
   "version": "3.10.9"
  }
 },
 "nbformat": 4,
 "nbformat_minor": 5
}
