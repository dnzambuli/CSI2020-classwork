{
 "cells": [
  {
   "cell_type": "markdown",
   "id": "da9bf499",
   "metadata": {},
   "source": [
    "## Introduction to Numpy and Pandas\n",
    "\n",
    "### Numpy\n",
    "Also ```Numerical Python```.\n",
    "\n",
    "Is a library for developing matrixes and multidimensional arrays \n",
    "\n",
    "```python3\n",
    "import numpy as np\n",
    "```\n",
    "```np``` - is a an **alias** for numpy as used within a file."
   ]
  },
  {
   "cell_type": "code",
   "execution_count": 2,
   "id": "3a3c8d3c",
   "metadata": {},
   "outputs": [],
   "source": [
    "# including numpy in the project\n",
    "import numpy as np "
   ]
  },
  {
   "cell_type": "code",
   "execution_count": 3,
   "id": "cef3cf14",
   "metadata": {},
   "outputs": [
    {
     "data": {
      "text/plain": [
       "list"
      ]
     },
     "execution_count": 3,
     "metadata": {},
     "output_type": "execute_result"
    }
   ],
   "source": [
    "# creating a one dim array\n",
    "# starting with a list\n",
    "l = [1, 2, 3, 4, 5]\n",
    "\n",
    "# confirm the type \n",
    "type(l)"
   ]
  },
  {
   "cell_type": "code",
   "execution_count": 5,
   "id": "0137d1f2",
   "metadata": {},
   "outputs": [
    {
     "data": {
      "text/plain": [
       "numpy.ndarray"
      ]
     },
     "execution_count": 5,
     "metadata": {},
     "output_type": "execute_result"
    }
   ],
   "source": [
    "# creating a one dim\n",
    "oneDim = np.array(l)\n",
    "\n",
    "# confirm type\n",
    "type(oneDim)"
   ]
  },
  {
   "cell_type": "code",
   "execution_count": 6,
   "id": "30fd6ae5",
   "metadata": {},
   "outputs": [
    {
     "data": {
      "text/plain": [
       "1"
      ]
     },
     "execution_count": 6,
     "metadata": {},
     "output_type": "execute_result"
    }
   ],
   "source": [
    "# count number of rows \n",
    "oneDim.ndim"
   ]
  },
  {
   "cell_type": "code",
   "execution_count": 7,
   "id": "52c116cc",
   "metadata": {},
   "outputs": [
    {
     "data": {
      "text/plain": [
       "(5,)"
      ]
     },
     "execution_count": 7,
     "metadata": {},
     "output_type": "execute_result"
    }
   ],
   "source": [
    "# counting number of columns\n",
    "oneDim.shape "
   ]
  },
  {
   "cell_type": "code",
   "execution_count": 14,
   "id": "79bc68d5",
   "metadata": {},
   "outputs": [
    {
     "data": {
      "text/plain": [
       "dtype('int32')"
      ]
     },
     "execution_count": 14,
     "metadata": {},
     "output_type": "execute_result"
    }
   ],
   "source": [
    "# check the data type \n",
    "oneDim.dtype"
   ]
  },
  {
   "cell_type": "code",
   "execution_count": 15,
   "id": "d6d56e88",
   "metadata": {},
   "outputs": [
    {
     "name": "stdout",
     "output_type": "stream",
     "text": [
      "[1 2 3 4 5]\n"
     ]
    },
    {
     "data": {
      "text/plain": [
       "array([1, 2, 3, 4, 5])"
      ]
     },
     "execution_count": 15,
     "metadata": {},
     "output_type": "execute_result"
    }
   ],
   "source": [
    "# transposition\n",
    "print(oneDim)\n",
    "t = oneDim.T\n",
    "t"
   ]
  },
  {
   "cell_type": "markdown",
   "id": "62e782bd",
   "metadata": {},
   "source": [
    "## Python Data Type\n",
    "### integers\n",
    "```python\n",
    "x = 9\n",
    "print(type(x))\n",
    "```\n",
    "**output**\n",
    "```\n",
    ">> int\n",
    "```\n",
    "### floats\n",
    "```python\n",
    "x = 9.0\n",
    "print(type(x))\n",
    "```\n",
    "**output**\n",
    "```\n",
    ">> float\n",
    "```\n",
    "### Booleans\n",
    "```python\n",
    "x = True\n",
    "print(type(x))\n",
    "```\n",
    "**output**\n",
    "```\n",
    ">> Bool\n",
    "```\n",
    "### String\n",
    "```python\n",
    "x = 'hello'\n",
    "print(type(x))\n",
    "```\n",
    "**output**\n",
    "```\n",
    ">> str\n",
    "```\n",
    "### list\n",
    "```python\n",
    "x = [9.0, 1, 2, 4]\n",
    "print(type(x))\n",
    "```\n",
    "**output**\n",
    "```\n",
    ">> list\n",
    "```\n",
    "### tuple\n",
    "```python\n",
    "x = (9.0, 1, 2, 4)\n",
    "print(type(x))\n",
    "```\n",
    "**output**\n",
    "```\n",
    ">> tuple\n",
    "```"
   ]
  },
  {
   "cell_type": "markdown",
   "id": "dc3578ff",
   "metadata": {},
   "source": [
    "### np.array().T\n",
    "- transposes arrays of greater than two dimensions "
   ]
  },
  {
   "cell_type": "code",
   "execution_count": 19,
   "id": "929725cb",
   "metadata": {},
   "outputs": [],
   "source": [
    "# creating an array with 3 rows and 4 columns \n",
    "# using arange(start, stop, step) to create a random number array\n",
    "samp = np.arange(12)"
   ]
  },
  {
   "cell_type": "code",
   "execution_count": 20,
   "id": "ef6845e3",
   "metadata": {},
   "outputs": [
    {
     "data": {
      "text/plain": [
       "array([ 0,  1,  2,  3,  4,  5,  6,  7,  8,  9, 10, 11])"
      ]
     },
     "execution_count": 20,
     "metadata": {},
     "output_type": "execute_result"
    }
   ],
   "source": [
    "samp"
   ]
  },
  {
   "cell_type": "code",
   "execution_count": 21,
   "id": "ae07fdee",
   "metadata": {},
   "outputs": [
    {
     "data": {
      "text/plain": [
       "array([[ 0,  1,  2,  3],\n",
       "       [ 4,  5,  6,  7],\n",
       "       [ 8,  9, 10, 11]])"
      ]
     },
     "execution_count": 21,
     "metadata": {},
     "output_type": "execute_result"
    }
   ],
   "source": [
    "# rearange the array to be 3 * 4\n",
    "re_samp = samp.reshape(3, 4)\n",
    "re_samp"
   ]
  },
  {
   "cell_type": "code",
   "execution_count": 23,
   "id": "66aa219d",
   "metadata": {},
   "outputs": [
    {
     "data": {
      "text/plain": [
       "array([0.        , 0.11111111, 0.22222222, 0.33333333, 0.44444444,\n",
       "       0.55555556, 0.66666667, 0.77777778, 0.88888889, 1.        ])"
      ]
     },
     "execution_count": 23,
     "metadata": {},
     "output_type": "execute_result"
    }
   ],
   "source": [
    "# create values equaly spaced between two numbers\n",
    "# using np.linspace(start, stop, number of numbers)\n",
    "# uses an arithmetic progression\n",
    "equal = np.linspace(0, 1, 10)\n",
    "equal"
   ]
  },
  {
   "cell_type": "code",
   "execution_count": 24,
   "id": "f207779c",
   "metadata": {},
   "outputs": [
    {
     "data": {
      "text/plain": [
       "array([  10.        ,   19.30697729,   37.2759372 ,   71.9685673 ,\n",
       "        138.94954944,  268.26957953,  517.94746792, 1000.        ])"
      ]
     },
     "execution_count": 24,
     "metadata": {},
     "output_type": "execute_result"
    }
   ],
   "source": [
    "# dividing a region with such that first number is log10(start) last number is log10(end)\n",
    "# notice all numbers are equally spaced logs\n",
    "logs = np.logspace(1, 3, 8)\n",
    "logs"
   ]
  },
  {
   "cell_type": "code",
   "execution_count": 27,
   "id": "4f883323",
   "metadata": {},
   "outputs": [
    {
     "data": {
      "text/plain": [
       "array([[0., 0., 0., 0.],\n",
       "       [0., 0., 0., 0.]])"
      ]
     },
     "execution_count": 27,
     "metadata": {},
     "output_type": "execute_result"
    }
   ],
   "source": [
    "# generating a random n-dim array of just zeros\n",
    "# notice that it accepts a tuple as input\n",
    "nil = np.zeros((2, 4))\n",
    "nil"
   ]
  },
  {
   "cell_type": "code",
   "execution_count": 29,
   "id": "0f693159",
   "metadata": {},
   "outputs": [
    {
     "data": {
      "text/plain": [
       "array([1., 1., 1., 1., 1., 1.])"
      ]
     },
     "execution_count": 29,
     "metadata": {},
     "output_type": "execute_result"
    }
   ],
   "source": [
    "# one vector of length 6\n",
    "one = np.ones(6)\n",
    "one\n"
   ]
  },
  {
   "cell_type": "code",
   "execution_count": 30,
   "id": "7d6fbb2c",
   "metadata": {},
   "outputs": [
    {
     "data": {
      "text/plain": [
       "array([[1., 1., 1., 1.],\n",
       "       [1., 1., 1., 1.],\n",
       "       [1., 1., 1., 1.],\n",
       "       [1., 1., 1., 1.]])"
      ]
     },
     "execution_count": 30,
     "metadata": {},
     "output_type": "execute_result"
    }
   ],
   "source": [
    "# one matrix of ones (4*4)\n",
    "mat_one = np.ones((4,4))\n",
    "mat_one"
   ]
  },
  {
   "cell_type": "code",
   "execution_count": 31,
   "id": "e89919dc",
   "metadata": {},
   "outputs": [
    {
     "data": {
      "text/plain": [
       "array([[1., 0., 0., 0.],\n",
       "       [0., 1., 0., 0.],\n",
       "       [0., 0., 1., 0.],\n",
       "       [0., 0., 0., 1.]])"
      ]
     },
     "execution_count": 31,
     "metadata": {},
     "output_type": "execute_result"
    }
   ],
   "source": [
    "# identity matrix\n",
    "# generating a 4 * 4 identity matrix\n",
    "ident = np.eye(4)\n",
    "ident"
   ]
  },
  {
   "cell_type": "code",
   "execution_count": 33,
   "id": "bbffecd0",
   "metadata": {},
   "outputs": [
    {
     "data": {
      "text/plain": [
       "array([1, 2, 3, 4, 5])"
      ]
     },
     "execution_count": 33,
     "metadata": {},
     "output_type": "execute_result"
    }
   ],
   "source": [
    "# matrix arrithmetic\n",
    "# add  one to each element\n",
    "# add an equal array of ones A => given  B => one\n",
    "x = np.array((1, 2, 3, 4, 5))\n",
    "x"
   ]
  },
  {
   "cell_type": "code",
   "execution_count": 35,
   "id": "0d340def",
   "metadata": {},
   "outputs": [
    {
     "data": {
      "text/plain": [
       "array([2, 3, 4, 5, 6])"
      ]
     },
     "execution_count": 35,
     "metadata": {},
     "output_type": "execute_result"
    }
   ],
   "source": [
    "# add one to each element\n",
    "x + 1"
   ]
  },
  {
   "cell_type": "code",
   "execution_count": 36,
   "id": "79c86756",
   "metadata": {},
   "outputs": [
    {
     "data": {
      "text/plain": [
       "array([ 2,  4,  6,  8, 10])"
      ]
     },
     "execution_count": 36,
     "metadata": {},
     "output_type": "execute_result"
    }
   ],
   "source": [
    "# element multiplication\n",
    "x * 2"
   ]
  },
  {
   "cell_type": "code",
   "execution_count": 38,
   "id": "1f0fcd36",
   "metadata": {},
   "outputs": [
    {
     "data": {
      "text/plain": [
       "array([ 1,  4,  9, 16, 25])"
      ]
     },
     "execution_count": 38,
     "metadata": {},
     "output_type": "execute_result"
    }
   ],
   "source": [
    "# element exponents \n",
    "x * x"
   ]
  },
  {
   "cell_type": "code",
   "execution_count": 39,
   "id": "77779ec8",
   "metadata": {},
   "outputs": [
    {
     "data": {
      "text/plain": [
       "array([0, 1, 1, 2, 2], dtype=int32)"
      ]
     },
     "execution_count": 39,
     "metadata": {},
     "output_type": "execute_result"
    }
   ],
   "source": [
    "# element integer division\n",
    "# return the answer of integer division with atruncated decimal\n",
    "x // 2"
   ]
  },
  {
   "cell_type": "code",
   "execution_count": 40,
   "id": "abf1057e",
   "metadata": {},
   "outputs": [
    {
     "data": {
      "text/plain": [
       "array([1, 0, 1, 0, 1], dtype=int32)"
      ]
     },
     "execution_count": 40,
     "metadata": {},
     "output_type": "execute_result"
    }
   ],
   "source": [
    "# modulus\n",
    "x %2"
   ]
  },
  {
   "cell_type": "code",
   "execution_count": 41,
   "id": "621c9ddf",
   "metadata": {},
   "outputs": [
    {
     "data": {
      "text/plain": [
       "array([-5, -4, -3, -2, -1,  0,  1,  2,  3,  4])"
      ]
     },
     "execution_count": 41,
     "metadata": {},
     "output_type": "execute_result"
    }
   ],
   "source": [
    "# create an array of 10 elements\n",
    "y = np.arange(-5, 5)\n",
    "y"
   ]
  },
  {
   "cell_type": "code",
   "execution_count": 43,
   "id": "0002d8bf",
   "metadata": {},
   "outputs": [
    {
     "data": {
      "text/plain": [
       "3"
      ]
     },
     "execution_count": 43,
     "metadata": {},
     "output_type": "execute_result"
    }
   ],
   "source": [
    "# slicing and indexing\n",
    "# indexing\n",
    "y[8]"
   ]
  },
  {
   "cell_type": "code",
   "execution_count": 44,
   "id": "78c8fef0",
   "metadata": {},
   "outputs": [
    {
     "ename": "IndexError",
     "evalue": "too many indices for array: array is 1-dimensional, but 2 were indexed",
     "output_type": "error",
     "traceback": [
      "\u001b[1;31m---------------------------------------------------------------------------\u001b[0m",
      "\u001b[1;31mIndexError\u001b[0m                                Traceback (most recent call last)",
      "Cell \u001b[1;32mIn[44], line 3\u001b[0m\n\u001b[0;32m      1\u001b[0m \u001b[38;5;66;03m# slicing\u001b[39;00m\n\u001b[0;32m      2\u001b[0m \u001b[38;5;66;03m# get the third to the sixth element \u001b[39;00m\n\u001b[1;32m----> 3\u001b[0m \u001b[43my\u001b[49m\u001b[43m[\u001b[49m\u001b[38;5;241;43m2\u001b[39;49m\u001b[43m,\u001b[49m\u001b[43m \u001b[49m\u001b[38;5;241;43m6\u001b[39;49m\u001b[43m]\u001b[49m\n",
      "\u001b[1;31mIndexError\u001b[0m: too many indices for array: array is 1-dimensional, but 2 were indexed"
     ]
    }
   ],
   "source": [
    "# slicing\n",
    "# get the third to the sixth element \n",
    "y[26]"
   ]
  },
  {
   "cell_type": "code",
   "execution_count": null,
   "id": "57d8d661",
   "metadata": {},
   "outputs": [],
   "source": []
  }
 ],
 "metadata": {
  "kernelspec": {
   "display_name": "Python 3 (ipykernel)",
   "language": "python",
   "name": "python3"
  },
  "language_info": {
   "codemirror_mode": {
    "name": "ipython",
    "version": 3
   },
   "file_extension": ".py",
   "mimetype": "text/x-python",
   "name": "python",
   "nbconvert_exporter": "python",
   "pygments_lexer": "ipython3",
   "version": "3.10.9"
  }
 },
 "nbformat": 4,
 "nbformat_minor": 5
}
