{
  "nbformat": 4,
  "nbformat_minor": 0,
  "metadata": {
    "colab": {
      "provenance": [],
      "authorship_tag": "ABX9TyMN6ZWX3y9/Bq9GUZE12mcx",
      "include_colab_link": true
    },
    "kernelspec": {
      "name": "python3",
      "display_name": "Python 3"
    },
    "language_info": {
      "name": "python"
    }
  },
  "cells": [
    {
      "cell_type": "markdown",
      "metadata": {
        "id": "view-in-github",
        "colab_type": "text"
      },
      "source": [
        "<a href=\"https://colab.research.google.com/github/dnzambuli/CSI2020-classwork/blob/master/CSI2020_class_1.ipynb\" target=\"_parent\"><img src=\"https://colab.research.google.com/assets/colab-badge.svg\" alt=\"Open In Colab\"/></a>"
      ]
    },
    {
      "cell_type": "code",
      "execution_count": null,
      "metadata": {
        "colab": {
          "base_uri": "https://localhost:8080/"
        },
        "id": "QxUflUJ1rFNT",
        "outputId": "7b89065e-1600-486a-f4a3-f267dda26a5c"
      },
      "outputs": [
        {
          "output_type": "stream",
          "name": "stdout",
          "text": [
            "['Geek', 'of', 'MC', 'IN', 'a', 'Globalized', 'world']\n"
          ]
        }
      ],
      "source": [
        "class_data = ['Geek', 'of', 'MC',\n",
        "              'IN', 'a', \n",
        "              'Globalized', 'world']\n",
        "print(class_data)"
      ]
    },
    {
      "cell_type": "code",
      "source": [
        "import pandas as pd"
      ],
      "metadata": {
        "id": "GieHYaBBrHHN"
      },
      "execution_count": null,
      "outputs": []
    },
    {
      "cell_type": "code",
      "source": [
        "df = pd.DataFrame({'list': class_data})\n",
        "print(df)"
      ],
      "metadata": {
        "colab": {
          "base_uri": "https://localhost:8080/"
        },
        "id": "z7xW5_x8sRKX",
        "outputId": "0f3d8241-5ed9-4e50-d2cb-1d44487d4d30"
      },
      "execution_count": null,
      "outputs": [
        {
          "output_type": "stream",
          "name": "stdout",
          "text": [
            "         list\n",
            "0        Geek\n",
            "1          of\n",
            "2          MC\n",
            "3          IN\n",
            "4           a\n",
            "5  Globalized\n",
            "6       world\n"
          ]
        }
      ]
    },
    {
      "cell_type": "code",
      "source": [
        "city = ['Algears', 'Luanda', 'Porto-Novo', 'Gaborone', 'Ouagadougou']\n",
        "country = ['Algeria', 'Angola', 'Benin', 'Botswana', 'Burkina Faso']\n",
        "city_country = dict(zip(city, country))\n",
        "c_c_df = pd.DataFrame({'City': city_country.keys(),\n",
        "                       'Country': city_country.values()})\n",
        "print(c_c_df)\n"
      ],
      "metadata": {
        "colab": {
          "base_uri": "https://localhost:8080/"
        },
        "id": "9gp8TPi8s4xE",
        "outputId": "d0fa07c3-fb21-4774-c074-a4571907204e"
      },
      "execution_count": null,
      "outputs": [
        {
          "output_type": "stream",
          "name": "stdout",
          "text": [
            "          City       Country\n",
            "0      Algears       Algeria\n",
            "1       Luanda        Angola\n",
            "2   Porto-Novo         Benin\n",
            "3     Gaborone      Botswana\n",
            "4  Ouagadougou  Burkina Faso\n"
          ]
        }
      ]
    },
    {
      "cell_type": "code",
      "source": [
        "print(pd.DataFrame(city_country.items()))"
      ],
      "metadata": {
        "id": "lPwYhNfRvzt4",
        "outputId": "062a3931-2829-45ef-b0fd-73697979ecc4",
        "colab": {
          "base_uri": "https://localhost:8080/"
        }
      },
      "execution_count": null,
      "outputs": [
        {
          "output_type": "stream",
          "name": "stdout",
          "text": [
            "             0             1\n",
            "0      Algears       Algeria\n",
            "1       Luanda        Angola\n",
            "2   Porto-Novo         Benin\n",
            "3     Gaborone      Botswana\n",
            "4  Ouagadougou  Burkina Faso\n"
          ]
        }
      ]
    }
  ]
}