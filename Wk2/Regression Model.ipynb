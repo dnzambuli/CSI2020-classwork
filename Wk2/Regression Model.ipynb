{
 "cells": [
  {
   "cell_type": "markdown",
   "id": "6bed00fe",
   "metadata": {},
   "source": [
    "## Introduction To Regression\n",
    "Modelling technique, for predicting quantitative values - targe attributes\n",
    "\n",
    "- different regresssion methods\n",
    "- scikit-learn\n",
    "- Overfitting problem\n",
    "- regularization can be used to avoid model overfitting\n",
    "\n",
    "### Class Activity\n",
    "We will use synthetic data - generate a random ```1 D``` vector of the predictor variables ```(x)```. It uses a **Uniform distribution**. The output variable ``y`` has linear relationship with x.  \n",
    "```tex\n",
    "y=−3x+1+e\n",
    "```\n",
    "\n",
    "#### Items To Note\n",
    "The value of epsolon```e``` is random noise that is sampled from ***Gaussian distribution***. The **mean** is 0 and the **sD** is 1"
   ]
  },
  {
   "cell_type": "code",
   "execution_count": 1,
   "id": "b6e06633",
   "metadata": {},
   "outputs": [],
   "source": [
    "# creating a matrix of random numbers \n",
    "import numpy as np"
   ]
  },
  {
   "cell_type": "markdown",
   "id": "91b4973a",
   "metadata": {},
   "source": [
    "#### creating a random number generator.\n",
    "Seeding takes an integer input\n",
    "\n",
    "If one seed value is used the same data output will be returened "
   ]
  },
  {
   "cell_type": "code",
   "execution_count": 2,
   "id": "3367f467",
   "metadata": {},
   "outputs": [],
   "source": [
    "seed = 1"
   ]
  },
  {
   "cell_type": "code",
   "execution_count": 4,
   "id": "9f10b91c",
   "metadata": {},
   "outputs": [],
   "source": [
    "numInstance = 200"
   ]
  },
  {
   "cell_type": "code",
   "execution_count": 5,
   "id": "e9fd34c9",
   "metadata": {},
   "outputs": [],
   "source": [
    "np.random.seed(seed)"
   ]
  },
  {
   "cell_type": "markdown",
   "id": "cb828825",
   "metadata": {},
   "source": [
    "#### Generating random numbers \n",
    "using **np.random.rand()**\n",
    "\n",
    "takes in two parameters\n",
    "- the number random numbers needed\n",
    "- the dimensions of the random numbers\n",
    "\n",
    "running **.reshape(-1, 1)**\n",
    "- transposes the data from row vectors to column vectors"
   ]
  },
  {
   "cell_type": "code",
   "execution_count": 7,
   "id": "2d465483",
   "metadata": {},
   "outputs": [],
   "source": [
    "x = np.random.rand(numInstance, 1).reshape(-1, 1)"
   ]
  },
  {
   "cell_type": "markdown",
   "id": "0c45cf93",
   "metadata": {},
   "source": [
    "#### checking the row and column size of the data generated\n",
    "using **dataType.shape**"
   ]
  },
  {
   "cell_type": "code",
   "execution_count": 9,
   "id": "7fb03e48",
   "metadata": {},
   "outputs": [
    {
     "data": {
      "text/plain": [
       "(200, 1)"
      ]
     },
     "execution_count": 9,
     "metadata": {},
     "output_type": "execute_result"
    }
   ],
   "source": [
    "x.shape"
   ]
  },
  {
   "cell_type": "markdown",
   "id": "2d84dfa3",
   "metadata": {},
   "source": [
    "### creating the y data for a potential regression\n",
    "***Remember*** y = ```-3x + 1```"
   ]
  },
  {
   "cell_type": "code",
   "execution_count": 10,
   "id": "c487a0ef",
   "metadata": {},
   "outputs": [],
   "source": [
    "y_true = -3 * x + 1"
   ]
  },
  {
   "cell_type": "code",
   "execution_count": 11,
   "id": "f997c526",
   "metadata": {},
   "outputs": [],
   "source": [
    "# adding the epilson dirty data \n",
    "y = y_true + np.random.normal(size = numInstance).reshape(-1,1)"
   ]
  },
  {
   "cell_type": "code",
   "execution_count": 12,
   "id": "1d235107",
   "metadata": {},
   "outputs": [
    {
     "data": {
      "text/plain": [
       "(200, 1)"
      ]
     },
     "execution_count": 12,
     "metadata": {},
     "output_type": "execute_result"
    }
   ],
   "source": [
    "# check the size of the data \n",
    "y.shape"
   ]
  },
  {
   "cell_type": "markdown",
   "id": "3c92ecd4",
   "metadata": {},
   "source": [
    "## Ploting to show difference between y-true and y\n",
    "using ```matplotlib.pyplot```"
   ]
  },
  {
   "cell_type": "code",
   "execution_count": 18,
   "id": "ff4415a7",
   "metadata": {},
   "outputs": [
    {
     "name": "stderr",
     "output_type": "stream",
     "text": [
      "Matplotlib is building the font cache; this may take a moment.\n"
     ]
    }
   ],
   "source": [
    "import matplotlib.pyplot as plt"
   ]
  },
  {
   "cell_type": "markdown",
   "id": "238df215",
   "metadata": {},
   "source": [
    "### plt.scatter()\n",
    "Takes in:\n",
    "- the x data \n",
    "- the y data\n",
    "- color **= 'black'**\n",
    "### plt.plot()\n",
    "Takes in:\n",
    "- x data\n",
    "- y_true data\n",
    "\n",
    "***Remember*** y true is data without noise\n",
    "- color \n",
    "- width **linewidth = 5**\n",
    "\n",
    "***notice*** 5 is the unit size\n",
    "### plt.title()\n",
    "### plt.xlabel()\n",
    "### plt.ylabel()\n",
    "### plt.show()"
   ]
  },
  {
   "cell_type": "code",
   "execution_count": 20,
   "id": "2acc3a4a",
   "metadata": {},
   "outputs": [
    {
     "data": {
      "image/png": "[encoded data removed]",
      "text/plain": [
       "<Figure size 640x480 with 1 Axes>"
      ]
     },
     "metadata": {},
     "output_type": "display_data"
    }
   ],
   "source": [
    "plt.scatter(x, y, color= 'blue')\n",
    "plt.plot(x, y_true, color = \"orange\", linewidth = 5)\n",
    "plt.title(\"Real Data VS Best Fit\")\n",
    "plt.xlabel('x')\n",
    "plt.ylabel('y')\n",
    "plt.show()"
   ]
  }
 ],
 "metadata": {
  "kernelspec": {
   "display_name": "Python 3 (ipykernel)",
   "language": "python",
   "name": "python3"
  },
  "language_info": {
   "codemirror_mode": {
    "name": "ipython",
    "version": 3
   },
   "file_extension": ".py",
   "mimetype": "text/x-python",
   "name": "python",
   "nbconvert_exporter": "python",
   "pygments_lexer": "ipython3",
   "version": "3.10.9"
  }
 },
 "nbformat": 4,
 "nbformat_minor": 5
}
