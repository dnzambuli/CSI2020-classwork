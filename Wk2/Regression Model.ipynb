{
 "cells": [
  {
   "cell_type": "markdown",
   "id": "45b90911",
   "metadata": {},
   "source": [
    "## Introduction To Regression\n",
    "Modelling technique, for predicting quantitative values - targe attributes\n",
    "\n",
    "- different regresssion methods\n",
    "- scikit-learn\n",
    "- Overfitting problem\n",
    "- regularization can be used to avoid model overfitting\n",
    "\n",
    "### Class Activity\n",
    "We will use synthetic data - generate a random ```1 D``` vector of the predictor variables ```(x)```. It uses a **Uniform distribution**. The output variable ``y`` has linear relationship with x.  \n",
    "```tex\n",
    "y=−3x+1+e\n",
    "```\n",
    "\n",
    "#### Items To Note\n",
    "The value of epsolon```e``` is random noise that is sampled from ***Gaussian distribution***. The **mean** is 0 and the **sD** is 1"
   ]
  },
  {
   "cell_type": "code",
   "execution_count": 1,
   "id": "09f01e03",
   "metadata": {},
   "outputs": [],
   "source": [
    "# creating a matrix of random numbers \n",
    "import numpy as np"
   ]
  },
  {
   "cell_type": "markdown",
   "id": "7d9b8271",
   "metadata": {},
   "source": [
    "#### creating a random number generator.\n",
    "Seeding takes an integer input\n",
    "\n",
    "If one seed value is used the same data output will be returened "
   ]
  },
  {
   "cell_type": "code",
   "execution_count": 2,
   "id": "cc329008",
   "metadata": {},
   "outputs": [],
   "source": [
    "seed = 1"
   ]
  },
  {
   "cell_type": "code",
   "execution_count": 4,
   "id": "b1bd068e",
   "metadata": {},
   "outputs": [],
   "source": [
    "numInstance = 200"
   ]
  },
  {
   "cell_type": "code",
   "execution_count": 5,
   "id": "b1b9f40f",
   "metadata": {},
   "outputs": [],
   "source": [
    "np.random.seed(seed)"
   ]
  },
  {
   "cell_type": "markdown",
   "id": "e1f3fa0f",
   "metadata": {},
   "source": [
    "#### Generating random numbers \n",
    "using **np.random.rand()**\n",
    "\n",
    "takes in two parameters\n",
    "- the number random numbers needed\n",
    "- the dimensions of the random numbers\n",
    "\n",
    "running **.reshape(-1, 1)**\n",
    "- transposes the data from row vectors to column vectors"
   ]
  },
  {
   "cell_type": "code",
   "execution_count": 7,
   "id": "f07c2422",
   "metadata": {},
   "outputs": [],
   "source": [
    "x = np.random.rand(numInstance, 1).reshape(-1, 1)"
   ]
  },
  {
   "cell_type": "markdown",
   "id": "2d369c79",
   "metadata": {},
   "source": [
    "#### checking the row and column size of the data generated\n",
    "using **dataType.shape**"
   ]
  },
  {
   "cell_type": "code",
   "execution_count": 9,
   "id": "73fb3245",
   "metadata": {},
   "outputs": [
    {
     "data": {
      "text/plain": [
       "(200, 1)"
      ]
     },
     "execution_count": 9,
     "metadata": {},
     "output_type": "execute_result"
    }
   ],
   "source": [
    "x.shape"
   ]
  },
  {
   "cell_type": "markdown",
   "id": "b8a7885d",
   "metadata": {},
   "source": [
    "### creating the y data for a potential regression\n",
    "***Remember*** y = ```-3x + 1```"
   ]
  },
  {
   "cell_type": "code",
   "execution_count": 10,
   "id": "c39304c2",
   "metadata": {},
   "outputs": [],
   "source": [
    "y_true = -3 * x + 1"
   ]
  },
  {
   "cell_type": "code",
   "execution_count": 11,
   "id": "93b089ec",
   "metadata": {},
   "outputs": [],
   "source": [
    "# adding the epilson dirty data \n",
    "y = y_true + np.random.normal(size = numInstance).reshape(-1,1)"
   ]
  },
  {
   "cell_type": "code",
   "execution_count": null,
   "id": "dd56efc3",
   "metadata": {},
   "outputs": [],
   "source": [
    "# check the size of the data "
   ]
  }
 ],
 "metadata": {
  "kernelspec": {
   "display_name": "Python 3 (ipykernel)",
   "language": "python",
   "name": "python3"
  },
  "language_info": {
   "codemirror_mode": {
    "name": "ipython",
    "version": 3
   },
   "file_extension": ".py",
   "mimetype": "text/x-python",
   "name": "python",
   "nbconvert_exporter": "python",
   "pygments_lexer": "ipython3",
   "version": "3.10.9"
  }
 },
 "nbformat": 4,
 "nbformat_minor": 5
}
