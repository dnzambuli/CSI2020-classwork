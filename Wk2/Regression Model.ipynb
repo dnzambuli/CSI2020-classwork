{
 "cells": [
  {
   "cell_type": "markdown",
   "id": "8650d96d",
   "metadata": {},
   "source": [
    "## Introduction To Regression\n",
    "Modelling technique, for predicting quantitative values - targe attributes\n",
    "\n",
    "- different regresssion methods\n",
    "- scikit-learn\n",
    "- Overfitting problem\n",
    "- regularization can be used to avoid model overfitting\n",
    "\n",
    "### Class Activity\n",
    "We will use synthetic data - generate a random ```1 D``` vector of the predictor variables ```(x)```. It uses a **Uniform distribution**. The output variable ``y`` has linear relationship with x.  \n",
    "```tex\n",
    "y=−3x+1+e\n",
    "```\n",
    "\n",
    "#### Items To Note\n",
    "The value of epsolon```e``` is random noise that is sampled from ***Gaussian distribution***. The **mean** is 0 and the **sD** is 1"
   ]
  },
  {
   "cell_type": "code",
   "execution_count": 1,
   "id": "4176358b",
   "metadata": {},
   "outputs": [],
   "source": [
    "# creating a matrix of random numbers \n",
    "import numpy as np"
   ]
  },
  {
   "cell_type": "markdown",
   "id": "0a199e3d",
   "metadata": {},
   "source": [
    "#### creating a random number generator.\n",
    "Seeding takes an integer input\n",
    "\n",
    "If one seed value is used the same data output will be returened "
   ]
  },
  {
   "cell_type": "code",
   "execution_count": 2,
   "id": "17e85f5f",
   "metadata": {},
   "outputs": [],
   "source": [
    "seed = 1"
   ]
  },
  {
   "cell_type": "code",
   "execution_count": 4,
   "id": "16dd2bed",
   "metadata": {},
   "outputs": [],
   "source": [
    "numInstance = 200"
   ]
  },
  {
   "cell_type": "code",
   "execution_count": 5,
   "id": "2f66694a",
   "metadata": {},
   "outputs": [],
   "source": [
    "np.random.seed(seed)"
   ]
  },
  {
   "cell_type": "markdown",
   "id": "7742f21f",
   "metadata": {},
   "source": [
    "#### Generating random numbers \n",
    "using **np.random.rand()**\n",
    "\n",
    "takes in two parameters\n",
    "- the number random numbers needed\n",
    "- the dimensions of the random numbers\n",
    "\n",
    "running **.reshape(-1, 1)**\n",
    "- transposes the data from row vectors to column vectors"
   ]
  }
 ],
 "metadata": {
  "kernelspec": {
   "display_name": "Python 3 (ipykernel)",
   "language": "python",
   "name": "python3"
  },
  "language_info": {
   "codemirror_mode": {
    "name": "ipython",
    "version": 3
   },
   "file_extension": ".py",
   "mimetype": "text/x-python",
   "name": "python",
   "nbconvert_exporter": "python",
   "pygments_lexer": "ipython3",
   "version": "3.10.9"
  }
 },
 "nbformat": 4,
 "nbformat_minor": 5
}
