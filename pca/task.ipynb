{
 "cells": [
  {
   "cell_type": "markdown",
   "id": "de34dbf6",
   "metadata": {},
   "source": [
    "## Nzambuli Danie\n",
    "### Task on PCA\n",
    "#### Using Malnet Images"
   ]
  },
  {
   "cell_type": "code",
   "execution_count": 4,
   "id": "67e0a7e9",
   "metadata": {},
   "outputs": [],
   "source": [
    "# read the file names in the folder\n",
    "import os"
   ]
  },
  {
   "cell_type": "code",
   "execution_count": 9,
   "id": "efef3318",
   "metadata": {},
   "outputs": [],
   "source": [
    "# file names within val folder\n",
    "path = r\".\\Data\\val\"\n",
    "folders = [file for file in os.listdir(path) if os.path.isdir(os.path.join(path, file))]"
   ]
  },
  {
   "cell_type": "code",
   "execution_count": 10,
   "id": "37305a0e",
   "metadata": {
    "scrolled": true
   },
   "outputs": [
    {
     "name": "stdout",
     "output_type": "stream",
     "text": [
      "addisplay,addisplay++adware,adload,adsware,adware++adware,adware++grayware++virus,adware++virus,adwareare,backdoor,banker++trojan,click,clicker,clicker++trojan,clickfraud++riskware,downloader,dropper++trojan,exploit,fakeangry,fakeapp,fakeapp++trojan,fakeinst++trojan,gray,hacktool,malware,malware++trj,monitor,ransom++trojan,risktool++riskware++virus,riskware++smssend,rog,rootnik++trojan,smssend,smssend++trojan,spr,spy,spy++trojan,spyware,trj,troj,trojandownloader,trojandropper,virus,worm\n"
     ]
    }
   ],
   "source": [
    "print(*folders, sep=',')"
   ]
  },
  {
   "cell_type": "code",
   "execution_count": 11,
   "id": "7b1dd1a0",
   "metadata": {},
   "outputs": [],
   "source": [
    "# use img from PIL to read the images\n",
    "from PIL import Image as im"
   ]
  },
  {
   "cell_type": "code",
   "execution_count": 45,
   "id": "873e7cdf",
   "metadata": {},
   "outputs": [
    {
     "data": {
      "text/plain": [
       "'addisplay'"
      ]
     },
     "execution_count": 45,
     "metadata": {},
     "output_type": "execute_result"
    }
   ],
   "source": [
    "folders[0][0:]"
   ]
  },
  {
   "cell_type": "code",
   "execution_count": 58,
   "id": "f5fefa9e",
   "metadata": {
    "scrolled": false
   },
   "outputs": [],
   "source": [
    "# read all the images\n",
    "images = []\n",
    "\n",
    "# files inside addisplay\n",
    "in_path = path + '\\\\' + str(folders[0][0:])\n",
    "# ittereate every folder in the train data \n",
    "for file in os.listdir(in_path):\n",
    "    new_path = in_path + '\\\\' + str(file)\n",
    "    for img in os.listdir(new_path):\n",
    "#     the new file path\n",
    "        img_path = os.path.join(new_path, img)\n",
    "#     try reading the images\n",
    "        try:\n",
    "            pic = im.open(img_path)\n",
    "            images.append(pic)\n",
    "        except:\n",
    "            print(f\"Can't open: {img_path}\")\n"
   ]
  },
  {
   "cell_type": "code",
   "execution_count": 59,
   "id": "ed9307f3",
   "metadata": {},
   "outputs": [
    {
     "data": {
      "text/plain": [
       "1746"
      ]
     },
     "execution_count": 59,
     "metadata": {},
     "output_type": "execute_result"
    }
   ],
   "source": [
    "len(images)"
   ]
  },
  {
   "cell_type": "code",
   "execution_count": null,
   "id": "949c34b2",
   "metadata": {},
   "outputs": [],
   "source": [
    "# perform pca analysis on the 1746 images\n"
   ]
  }
 ],
 "metadata": {
  "kernelspec": {
   "display_name": "Python 3 (ipykernel)",
   "language": "python",
   "name": "python3"
  },
  "language_info": {
   "codemirror_mode": {
    "name": "ipython",
    "version": 3
   },
   "file_extension": ".py",
   "mimetype": "text/x-python",
   "name": "python",
   "nbconvert_exporter": "python",
   "pygments_lexer": "ipython3",
   "version": "3.10.9"
  }
 },
 "nbformat": 4,
 "nbformat_minor": 5
}
