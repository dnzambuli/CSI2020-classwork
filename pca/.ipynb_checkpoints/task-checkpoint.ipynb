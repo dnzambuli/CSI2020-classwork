{
 "cells": [
  {
   "cell_type": "markdown",
   "id": "de34dbf6",
   "metadata": {},
   "source": [
    "## Nzambuli Daniel\n",
    "### Task on PCA\n",
    "#### Using Malnet Images"
   ]
  },
  {
   "cell_type": "code",
   "execution_count": 1,
   "id": "67e0a7e9",
   "metadata": {},
   "outputs": [],
   "source": [
    "# read the file names in the folder\n",
    "import os"
   ]
  },
  {
   "cell_type": "code",
   "execution_count": 2,
   "id": "efef3318",
   "metadata": {},
   "outputs": [],
   "source": [
    "# file names within val folder\n",
    "path = r\".\\Data\\val\"\n",
    "folders = [file for file in os.listdir(path) if os.path.isdir(os.path.join(path, file))]"
   ]
  },
  {
   "cell_type": "code",
   "execution_count": 3,
   "id": "37305a0e",
   "metadata": {
    "scrolled": true
   },
   "outputs": [
    {
     "name": "stdout",
     "output_type": "stream",
     "text": [
      "addisplay,adload,adsware,adware++adware,adware++grayware++virus,adware++virus,adwareare,backdoor,banker++trojan,click,clicker,clicker++trojan,clickfraud++riskware,downloader,dropper++trojan,exploit,fakeangry,fakeapp,fakeapp++trojan,fakeinst++trojan,genbl,gray,hacktool,malware,malware++trj,monitor,ransom++trojan,risktool++riskware++virus,riskware++smssend,rog,rootnik++trojan,smssend,smssend++trojan,spr,spy,spy++trojan,spyware,trj,troj,trojandownloader,trojandropper,virus,worm\n"
     ]
    }
   ],
   "source": [
    "print(*folders, sep=',')"
   ]
  },
  {
   "cell_type": "code",
   "execution_count": 4,
   "id": "bde08854",
   "metadata": {},
   "outputs": [],
   "source": [
    "# use img from PIL to read the images\n",
    "from PIL import Image as im"
   ]
  },
  {
   "cell_type": "code",
   "execution_count": 5,
   "id": "3585fc8d",
   "metadata": {},
   "outputs": [
    {
     "data": {
      "text/plain": [
       "'addisplay'"
      ]
     },
     "execution_count": 5,
     "metadata": {},
     "output_type": "execute_result"
    }
   ],
   "source": [
    "folders[0][0:]"
   ]
  },
  {
   "cell_type": "code",
   "execution_count": 33,
   "id": "f5fefa9e",
   "metadata": {
    "scrolled": false
   },
   "outputs": [],
   "source": [
    "# read all the images\n",
    "images = []\n",
    "\n",
    "# files inside addisplay\n",
    "in_path = path + '\\\\' + str(folders[0][0:])\n",
    "# ittereate every folder in the train data \n",
    "for file in os.listdir(in_path):\n",
    "    new_path = in_path + '\\\\' + str(file)\n",
    "    for img in os.listdir(new_path):\n",
    "#     the new file path\n",
    "        img_path = os.path.join(new_path, img)\n",
    "#     try reading the images\n",
    "        try:\n",
    "            pic = im.open(img_path)\n",
    "            pic = np.array(pic)\n",
    "            images.append(pic)\n",
    "        except:\n",
    "            print(f\"Can't open: {img_path}\")\n"
   ]
  },
  {
   "cell_type": "code",
   "execution_count": 7,
   "id": "ed9307f3",
   "metadata": {},
   "outputs": [
    {
     "data": {
      "text/plain": [
       "1746"
      ]
     },
     "execution_count": 7,
     "metadata": {},
     "output_type": "execute_result"
    }
   ],
   "source": [
    "len(images)"
   ]
  },
  {
   "cell_type": "code",
   "execution_count": 8,
   "id": "e69a2cba",
   "metadata": {},
   "outputs": [],
   "source": [
    "# perform pca analysis on the 1746 images\n",
    "\n",
    "import matplotlib.pyplot as plt\n",
    "import numpy as np\n",
    "import pandas as pd\n",
    "from sklearn.decomposition import PCA"
   ]
  },
  {
   "cell_type": "code",
   "execution_count": 13,
   "id": "f19a4118",
   "metadata": {},
   "outputs": [],
   "source": [
    "# flatten the images\n",
    "import matplotlib.image as mpimg"
   ]
  },
  {
   "cell_type": "code",
   "execution_count": 34,
   "id": "69492586",
   "metadata": {},
   "outputs": [
    {
     "data": {
      "image/png": "[encoded data removed]",
      "text/plain": [
       "<Figure size 700x700 with 1746 Axes>"
      ]
     },
     "metadata": {},
     "output_type": "display_data"
    }
   ],
   "source": [
    "numImages = len(images)\n",
    "Images = np.array(images)\n",
    "tileSize = plt.figure(figsize = (7, 7))\n",
    "imgData = []\n",
    "for image in Images:\n",
    "    img = image\n",
    "    ax = tileSize.add_subplot(5,5, i+1)\n",
    "    plt.imshow(img)\n",
    "    plt.axis('off')\n",
    "    # flatten images\n",
    "    imgData.append(img.flatten())"
   ]
  },
  {
   "cell_type": "code",
   "execution_count": 35,
   "id": "b5cd8b1b",
   "metadata": {},
   "outputs": [],
   "source": [
    "# pca data \n",
    "pca_data = np.array(imgData)\n",
    "# pca with 2 key components \n",
    "pca = PCA(n_components=2)\n",
    "pca_result = pca.fit_transform(pca_data)"
   ]
  },
  {
   "cell_type": "code",
   "execution_count": 36,
   "id": "266256ef",
   "metadata": {},
   "outputs": [
    {
     "data": {
      "text/plain": [
       "array([[ 1257.19263506,  -964.60877455],\n",
       "       [  948.27313578, -2679.5395415 ],\n",
       "       [ 1540.07941519, -2346.31360918],\n",
       "       ...,\n",
       "       [ 1970.69356969, -2392.94771636],\n",
       "       [ 4178.29083925,  -772.47664592],\n",
       "       [ 1537.27519099, -2248.77120642]])"
      ]
     },
     "execution_count": 36,
     "metadata": {},
     "output_type": "execute_result"
    }
   ],
   "source": [
    "# retrieve the results\n",
    "pca_result"
   ]
  },
  {
   "cell_type": "code",
   "execution_count": 38,
   "id": "e80351ff",
   "metadata": {},
   "outputs": [
    {
     "data": {
      "text/html": [
       "<div>\n",
       "<style scoped>\n",
       "    .dataframe tbody tr th:only-of-type {\n",
       "        vertical-align: middle;\n",
       "    }\n",
       "\n",
       "    .dataframe tbody tr th {\n",
       "        vertical-align: top;\n",
       "    }\n",
       "\n",
       "    .dataframe thead th {\n",
       "        text-align: right;\n",
       "    }\n",
       "</style>\n",
       "<table border=\"1\" class=\"dataframe\">\n",
       "  <thead>\n",
       "    <tr style=\"text-align: right;\">\n",
       "      <th></th>\n",
       "      <th>pc1</th>\n",
       "      <th>pc2</th>\n",
       "    </tr>\n",
       "  </thead>\n",
       "  <tbody>\n",
       "    <tr>\n",
       "      <th>1</th>\n",
       "      <td>1257.192635</td>\n",
       "      <td>-964.608775</td>\n",
       "    </tr>\n",
       "    <tr>\n",
       "      <th>2</th>\n",
       "      <td>948.273136</td>\n",
       "      <td>-2679.539542</td>\n",
       "    </tr>\n",
       "    <tr>\n",
       "      <th>3</th>\n",
       "      <td>1540.079415</td>\n",
       "      <td>-2346.313609</td>\n",
       "    </tr>\n",
       "    <tr>\n",
       "      <th>4</th>\n",
       "      <td>498.468059</td>\n",
       "      <td>-1694.333069</td>\n",
       "    </tr>\n",
       "    <tr>\n",
       "      <th>5</th>\n",
       "      <td>1209.315428</td>\n",
       "      <td>-1141.214437</td>\n",
       "    </tr>\n",
       "    <tr>\n",
       "      <th>...</th>\n",
       "      <td>...</td>\n",
       "      <td>...</td>\n",
       "    </tr>\n",
       "    <tr>\n",
       "      <th>1742</th>\n",
       "      <td>821.275310</td>\n",
       "      <td>278.079850</td>\n",
       "    </tr>\n",
       "    <tr>\n",
       "      <th>1743</th>\n",
       "      <td>3267.611260</td>\n",
       "      <td>-911.173658</td>\n",
       "    </tr>\n",
       "    <tr>\n",
       "      <th>1744</th>\n",
       "      <td>1970.693570</td>\n",
       "      <td>-2392.947716</td>\n",
       "    </tr>\n",
       "    <tr>\n",
       "      <th>1745</th>\n",
       "      <td>4178.290839</td>\n",
       "      <td>-772.476646</td>\n",
       "    </tr>\n",
       "    <tr>\n",
       "      <th>1746</th>\n",
       "      <td>1537.275191</td>\n",
       "      <td>-2248.771206</td>\n",
       "    </tr>\n",
       "  </tbody>\n",
       "</table>\n",
       "<p>1746 rows × 2 columns</p>\n",
       "</div>"
      ],
      "text/plain": [
       "              pc1          pc2\n",
       "1     1257.192635  -964.608775\n",
       "2      948.273136 -2679.539542\n",
       "3     1540.079415 -2346.313609\n",
       "4      498.468059 -1694.333069\n",
       "5     1209.315428 -1141.214437\n",
       "...           ...          ...\n",
       "1742   821.275310   278.079850\n",
       "1743  3267.611260  -911.173658\n",
       "1744  1970.693570 -2392.947716\n",
       "1745  4178.290839  -772.476646\n",
       "1746  1537.275191 -2248.771206\n",
       "\n",
       "[1746 rows x 2 columns]"
      ]
     },
     "execution_count": 38,
     "metadata": {},
     "output_type": "execute_result"
    }
   ],
   "source": [
    "# convert to Dataframe \n",
    "projected = pd.DataFrame(pca_result, columns = ['pc1', 'pc2'], index =range(1, numImages + 1))\n",
    "projected"
   ]
  },
  {
   "cell_type": "code",
   "execution_count": 39,
   "id": "b9aff660",
   "metadata": {},
   "outputs": [
    {
     "data": {
      "image/png": "[encoded data removed]",
      "text/plain": [
       "<Figure size 640x480 with 1 Axes>"
      ]
     },
     "metadata": {},
     "output_type": "display_data"
    }
   ],
   "source": [
    "# plot findings\n",
    "var = pca.explained_variance_ratio_\n",
    "\n",
    "# scree plot of pc1 and pc2\n",
    "plt.bar(['pc1', 'pc2'], var)\n",
    "plt.xlabel('Principle Components')\n",
    "plt.ylabel('Explained Variance')\n",
    "plt.title('Scree Plot')\n",
    "plt.show()"
   ]
  },
  {
   "cell_type": "markdown",
   "id": "55ff2ac2",
   "metadata": {},
   "source": [
    "## Interpretation\n",
    "the components selected to be PC1 contribute the approximately ```54%``` of the factors that can be used to group similar images.\n"
   ]
  }
 ],
 "metadata": {
  "kernelspec": {
   "display_name": "Python 3 (ipykernel)",
   "language": "python",
   "name": "python3"
  },
  "language_info": {
   "codemirror_mode": {
    "name": "ipython",
    "version": 3
   },
   "file_extension": ".py",
   "mimetype": "text/x-python",
   "name": "python",
   "nbconvert_exporter": "python",
   "pygments_lexer": "ipython3",
   "version": "3.10.9"
  }
 },
 "nbformat": 4,
 "nbformat_minor": 5
}
