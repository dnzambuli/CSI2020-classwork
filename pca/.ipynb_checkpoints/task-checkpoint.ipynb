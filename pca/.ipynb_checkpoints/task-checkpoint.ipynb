{
 "cells": [
  {
   "cell_type": "markdown",
   "id": "de34dbf6",
   "metadata": {},
   "source": [
    "## Nzambuli Danie\n",
    "### Task on PCA\n",
    "#### Using Malnet Images"
   ]
  },
  {
   "cell_type": "code",
   "execution_count": 1,
   "id": "67e0a7e9",
   "metadata": {},
   "outputs": [],
   "source": [
    "# read the file names in the folder\n",
    "import os"
   ]
  },
  {
   "cell_type": "code",
   "execution_count": 2,
   "id": "efef3318",
   "metadata": {},
   "outputs": [],
   "source": [
    "# file names within val folder\n",
    "path = r\".\\Data\\val\"\n",
    "folders = [file for file in os.listdir(path) if os.path.isdir(os.path.join(path, file))]"
   ]
  },
  {
   "cell_type": "code",
   "execution_count": 3,
   "id": "37305a0e",
   "metadata": {
    "scrolled": true
   },
   "outputs": [
    {
     "name": "stdout",
     "output_type": "stream",
     "text": [
      "addisplay,adload,adsware,adware++adware,adware++grayware++virus,adware++virus,adwareare,backdoor,banker++trojan,click,clicker,clicker++trojan,clickfraud++riskware,downloader,dropper++trojan,exploit,fakeangry,fakeapp,fakeapp++trojan,fakeinst++trojan,genbl,gray,hacktool,malware,malware++trj,monitor,ransom++trojan,risktool++riskware++virus,riskware++smssend,rog,rootnik++trojan,smssend,smssend++trojan,spr,spy,spy++trojan,spyware,trj,troj,trojandownloader,trojandropper,virus,worm\n"
     ]
    }
   ],
   "source": [
    "print(*folders, sep=',')"
   ]
  },
  {
   "cell_type": "code",
   "execution_count": 4,
   "id": "bde08854",
   "metadata": {},
   "outputs": [],
   "source": [
    "# use img from PIL to read the images\n",
    "from PIL import Image as im"
   ]
  },
  {
   "cell_type": "code",
   "execution_count": 5,
   "id": "3585fc8d",
   "metadata": {},
   "outputs": [
    {
     "data": {
      "text/plain": [
       "'addisplay'"
      ]
     },
     "execution_count": 5,
     "metadata": {},
     "output_type": "execute_result"
    }
   ],
   "source": [
    "folders[0][0:]"
   ]
  },
  {
   "cell_type": "code",
   "execution_count": 6,
   "id": "f5fefa9e",
   "metadata": {
    "scrolled": false
   },
   "outputs": [],
   "source": [
    "# read all the images\n",
    "images = []\n",
    "\n",
    "# files inside addisplay\n",
    "in_path = path + '\\\\' + str(folders[0][0:])\n",
    "# ittereate every folder in the train data \n",
    "for file in os.listdir(in_path):\n",
    "    new_path = in_path + '\\\\' + str(file)\n",
    "    for img in os.listdir(new_path):\n",
    "#     the new file path\n",
    "        img_path = os.path.join(new_path, img)\n",
    "#     try reading the images\n",
    "        try:\n",
    "            pic = im.open(img_path)\n",
    "            images.append(pic)\n",
    "        except:\n",
    "            print(f\"Can't open: {img_path}\")\n"
   ]
  },
  {
   "cell_type": "code",
   "execution_count": 7,
   "id": "ed9307f3",
   "metadata": {},
   "outputs": [
    {
     "data": {
      "text/plain": [
       "1746"
      ]
     },
     "execution_count": 7,
     "metadata": {},
     "output_type": "execute_result"
    }
   ],
   "source": [
    "len(images)"
   ]
  },
  {
   "cell_type": "code",
   "execution_count": 8,
   "id": "e69a2cba",
   "metadata": {},
   "outputs": [],
   "source": [
    "# perform pca analysis on the 1746 images\n",
    "\n",
    "import matplotlib.pyplot as plt\n",
    "import numpy as np\n",
    "import pandas as pd\n",
    "from sklearn.decomposition import PCA"
   ]
  },
  {
   "cell_type": "code",
   "execution_count": 9,
   "id": "a16949e0",
   "metadata": {},
   "outputs": [
    {
     "data": {
      "text/plain": [
       "<Figure size 700x700 with 0 Axes>"
      ]
     },
     "metadata": {},
     "output_type": "display_data"
    }
   ],
   "source": [
    "# resize images\n",
    "# resize the images\n",
    "numImg = len(images)\n",
    "newSize = plt.figure(figsize = (7, 7))\n",
    "imgdata = np.zeros(shape= (numImg, 36963))"
   ]
  },
  {
   "cell_type": "code",
   "execution_count": 10,
   "id": "f19a4118",
   "metadata": {},
   "outputs": [],
   "source": [
    "# flatten the images\n",
    "import matplotlib.image as mpimg"
   ]
  },
  {
   "cell_type": "code",
   "execution_count": 11,
   "id": "b5cd8b1b",
   "metadata": {},
   "outputs": [
    {
     "data": {
      "text/plain": [
       "['adflex', 'adshell', 'airpush']"
      ]
     },
     "execution_count": 11,
     "metadata": {},
     "output_type": "execute_result"
    }
   ],
   "source": [
    "imgData = np.zeros(shape= (numImg, 36963))\n",
    "img_paths = [i for i in os.listdir(in_path)]\n",
    "img_paths[0:3]"
   ]
  },
  {
   "cell_type": "code",
   "execution_count": 22,
   "id": "266256ef",
   "metadata": {},
   "outputs": [
    {
     "ename": "TypeError",
     "evalue": "expected str, bytes or os.PathLike object, not list",
     "output_type": "error",
     "traceback": [
      "\u001b[1;31m---------------------------------------------------------------------------\u001b[0m",
      "\u001b[1;31mTypeError\u001b[0m                                 Traceback (most recent call last)",
      "Cell \u001b[1;32mIn[22], line 4\u001b[0m\n\u001b[0;32m      2\u001b[0m v_path \u001b[38;5;241m=\u001b[39m in_path \u001b[38;5;241m+\u001b[39m \u001b[38;5;124m'\u001b[39m\u001b[38;5;130;01m\\\\\u001b[39;00m\u001b[38;5;124m'\u001b[39m \u001b[38;5;241m+\u001b[39m \u001b[38;5;28mstr\u001b[39m(img_paths[\u001b[38;5;241m0\u001b[39m])\n\u001b[0;32m      3\u001b[0m \u001b[38;5;28;01mfor\u001b[39;00m i \u001b[38;5;129;01min\u001b[39;00m \u001b[38;5;28mrange\u001b[39m(\u001b[38;5;241m1\u001b[39m, numImg\u001b[38;5;241m-\u001b[39m\u001b[38;5;241m1\u001b[39m):\n\u001b[1;32m----> 4\u001b[0m     val_paths \u001b[38;5;241m=\u001b[39m  \u001b[43mos\u001b[49m\u001b[38;5;241;43m.\u001b[39;49m\u001b[43mpath\u001b[49m\u001b[38;5;241;43m.\u001b[39;49m\u001b[43mjoin\u001b[49m\u001b[43m(\u001b[49m\u001b[43mos\u001b[49m\u001b[38;5;241;43m.\u001b[39;49m\u001b[43mlistdir\u001b[49m\u001b[43m(\u001b[49m\u001b[43mv_path\u001b[49m\u001b[43m)\u001b[49m\u001b[43m,\u001b[49m\u001b[43m  \u001b[49m\u001b[38;5;28;43mstr\u001b[39;49m\u001b[43m(\u001b[49m\u001b[43mimages\u001b[49m\u001b[43m[\u001b[49m\u001b[43mi\u001b[49m\u001b[43m]\u001b[49m\u001b[43m)\u001b[49m\u001b[43m)\u001b[49m \u001b[38;5;66;03m# create new path\u001b[39;00m\n\u001b[0;32m      5\u001b[0m     img \u001b[38;5;241m=\u001b[39m mpimg\u001b[38;5;241m.\u001b[39mimread(val_paths) \u001b[38;5;66;03m#retrieve the images\u001b[39;00m\n\u001b[0;32m      6\u001b[0m     imgData[i\u001b[38;5;241m-\u001b[39m\u001b[38;5;241m1\u001b[39m] \u001b[38;5;241m=\u001b[39m np\u001b[38;5;241m.\u001b[39marray(img\u001b[38;5;241m.\u001b[39mflatten())\u001b[38;5;241m.\u001b[39mreshape(\u001b[38;5;241m1\u001b[39m, img\u001b[38;5;241m.\u001b[39mshape[\u001b[38;5;241m0\u001b[39m]\u001b[38;5;241m*\u001b[39m img\u001b[38;5;241m.\u001b[39mshape[\u001b[38;5;241m1\u001b[39m]\u001b[38;5;241m*\u001b[39m img\u001b[38;5;241m.\u001b[39mshape[\u001b[38;5;241m2\u001b[39m])\n",
      "File \u001b[1;32m~\\anaconda3\\lib\\ntpath.py:104\u001b[0m, in \u001b[0;36mjoin\u001b[1;34m(path, *paths)\u001b[0m\n\u001b[0;32m    103\u001b[0m \u001b[38;5;28;01mdef\u001b[39;00m \u001b[38;5;21mjoin\u001b[39m(path, \u001b[38;5;241m*\u001b[39mpaths):\n\u001b[1;32m--> 104\u001b[0m     path \u001b[38;5;241m=\u001b[39m \u001b[43mos\u001b[49m\u001b[38;5;241;43m.\u001b[39;49m\u001b[43mfspath\u001b[49m\u001b[43m(\u001b[49m\u001b[43mpath\u001b[49m\u001b[43m)\u001b[49m\n\u001b[0;32m    105\u001b[0m     \u001b[38;5;28;01mif\u001b[39;00m \u001b[38;5;28misinstance\u001b[39m(path, \u001b[38;5;28mbytes\u001b[39m):\n\u001b[0;32m    106\u001b[0m         sep \u001b[38;5;241m=\u001b[39m \u001b[38;5;124mb\u001b[39m\u001b[38;5;124m'\u001b[39m\u001b[38;5;130;01m\\\\\u001b[39;00m\u001b[38;5;124m'\u001b[39m\n",
      "\u001b[1;31mTypeError\u001b[0m: expected str, bytes or os.PathLike object, not list"
     ]
    }
   ],
   "source": [
    "# retrieve the images\n",
    "v_path = in_path + '\\\\' + str(img_paths[0])\n",
    "for i in range(1, numImg-1):\n",
    "    val_paths =  os.path.join(os.listdir(v_path),  str(images[i])) # create new path\n",
    "    img = mpimg.imread(val_paths) #retrieve the images\n",
    "    imgData[i-1] = np.array(img.flatten()).reshape(1, img.shape[0]* img.shape[1]* img.shape[2]) # flatten"
   ]
  },
  {
   "cell_type": "code",
   "execution_count": null,
   "id": "e80351ff",
   "metadata": {},
   "outputs": [],
   "source": []
  },
  {
   "cell_type": "code",
   "execution_count": null,
   "id": "b9aff660",
   "metadata": {},
   "outputs": [],
   "source": []
  }
 ],
 "metadata": {
  "kernelspec": {
   "display_name": "Python 3 (ipykernel)",
   "language": "python",
   "name": "python3"
  },
  "language_info": {
   "codemirror_mode": {
    "name": "ipython",
    "version": 3
   },
   "file_extension": ".py",
   "mimetype": "text/x-python",
   "name": "python",
   "nbconvert_exporter": "python",
   "pygments_lexer": "ipython3",
   "version": "3.10.9"
  }
 },
 "nbformat": 4,
 "nbformat_minor": 5
}
